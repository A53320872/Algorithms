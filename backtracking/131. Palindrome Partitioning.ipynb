{
 "cells": [
  {
   "cell_type": "markdown",
   "metadata": {},
   "source": [
    "https://leetcode.com/problems/palindrome-partitioning/"
   ]
  },
  {
   "cell_type": "code",
   "execution_count": null,
   "metadata": {},
   "outputs": [],
   "source": [
    "if len(s) == 0: return [[]]      \n",
    "        def loops(relt, tmp, s):\n",
    "            if len(s) == 0:\n",
    "                relt.append(list(tmp))\n",
    "                return\n",
    "            \n",
    "            for i in range(1, len(s)+1):\n",
    "                if s[:i] == s[:i][::-1]:\n",
    "                    loops(relt, tmp+[s[:i]], s[i:])\n",
    "                    \n",
    "        relt = []\n",
    "        loops(relt, [], s)\n",
    "                    \n",
    "        return relt  "
   ]
  }
 ],
 "metadata": {
  "kernelspec": {
   "display_name": "Python 3",
   "language": "python",
   "name": "python3"
  },
  "language_info": {
   "codemirror_mode": {
    "name": "ipython",
    "version": 3
   },
   "file_extension": ".py",
   "mimetype": "text/x-python",
   "name": "python",
   "nbconvert_exporter": "python",
   "pygments_lexer": "ipython3",
   "version": "3.7.4"
  }
 },
 "nbformat": 4,
 "nbformat_minor": 2
}
