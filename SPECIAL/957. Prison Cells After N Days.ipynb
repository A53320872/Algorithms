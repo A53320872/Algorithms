{
 "cells": [
  {
   "cell_type": "markdown",
   "metadata": {},
   "source": [
    "find the loop\n",
    "remember to mark the start of the loop\n",
    "https://leetcode.com/problems/prison-cells-after-n-days/"
   ]
  },
  {
   "cell_type": "code",
   "execution_count": null,
   "metadata": {},
   "outputs": [],
   "source": [
    "class Solution(object):\n",
    "    def prisonAfterNDays(self, cells, N):\n",
    "        \"\"\"\n",
    "        :type cells: List[int]\n",
    "        :type N: int\n",
    "        :rtype: List[int]\n",
    "        \"\"\"\n",
    "        c = 1\n",
    "        loop = 0\n",
    "        exists = {}\n",
    "        order = {0: tuple(cells)}\n",
    "        while True:\n",
    "            nextCell = [0 for i in range(8)]\n",
    "            i = 0\n",
    "            while i < len(cells):\n",
    "                if i-1 >= 0 and i+1 < 8 and cells[i-1] == cells[i+1]:\n",
    "                    nextCell[i] = 1\n",
    "                else:\n",
    "                    nextCell[i] = 0\n",
    "                i += 1\n",
    "            if tuple(nextCell) not in exists:\n",
    "                # mark the position for each list\n",
    "                exists[tuple(nextCell)] = c\n",
    "                \n",
    "                # mark the order of the loop\n",
    "                order[c] = tuple(nextCell)\n",
    "                c += 1\n",
    "                cells = nextCell\n",
    "            else:\n",
    "                # compute the loop\n",
    "                loop = c - exists[tuple(nextCell)]\n",
    "                \n",
    "                # mark the start of the loop\n",
    "                loop_start = exists[tuple(nextCell)]\n",
    "                break\n",
    "                \n",
    "        return order[loop_start + (N - 1) % loop]\n",
    "                \n",
    "        \n",
    "        "
   ]
  }
 ],
 "metadata": {
  "kernelspec": {
   "display_name": "Python 3",
   "language": "python",
   "name": "python3"
  },
  "language_info": {
   "codemirror_mode": {
    "name": "ipython",
    "version": 3
   },
   "file_extension": ".py",
   "mimetype": "text/x-python",
   "name": "python",
   "nbconvert_exporter": "python",
   "pygments_lexer": "ipython3",
   "version": "3.7.4"
  }
 },
 "nbformat": 4,
 "nbformat_minor": 2
}
