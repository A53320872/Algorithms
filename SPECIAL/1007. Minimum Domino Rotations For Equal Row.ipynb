{
 "cells": [
  {
   "cell_type": "markdown",
   "metadata": {},
   "source": [
    "set manipulate\n",
    "https://leetcode.com/problems/minimum-domino-rotations-for-equal-row/submissions/"
   ]
  },
  {
   "cell_type": "code",
   "execution_count": null,
   "metadata": {},
   "outputs": [],
   "source": [
    "class Solution(object):\n",
    "    def minDominoRotations(self, A, B):\n",
    "        \"\"\"\n",
    "        :type A: List[int]\n",
    "        :type B: List[int]\n",
    "        :rtype: int\n",
    "        \"\"\"\n",
    "        if A == []: return 0\n",
    "        def findValue(A, B):\n",
    "            commonSet = set([A[0], B[0]])\n",
    "            i = 0\n",
    "            while i < len(A)-1:\n",
    "                commonSet = set([A[i+1], B[i+1]]) & set([A[i], B[i]]) & commonSet\n",
    "                if commonSet == set([]): return set([])\n",
    "                i += 1\n",
    "            return commonSet\n",
    "        commonSet = findValue(A, B)\n",
    "        \n",
    "        if len(commonSet) == 0: return -1\n",
    "        if len(commonSet) == 2: return min(A.count(A[0]), A.count(B[0]))\n",
    "        value = commonSet.pop()\n",
    "        n = len(A)\n",
    "        return min(n-A.count(value), n-B.count(value))\n",
    "\n",
    "        "
   ]
  }
 ],
 "metadata": {
  "kernelspec": {
   "display_name": "Python 3",
   "language": "python",
   "name": "python3"
  },
  "language_info": {
   "codemirror_mode": {
    "name": "ipython",
    "version": 3
   },
   "file_extension": ".py",
   "mimetype": "text/x-python",
   "name": "python",
   "nbconvert_exporter": "python",
   "pygments_lexer": "ipython3",
   "version": "3.7.4"
  }
 },
 "nbformat": 4,
 "nbformat_minor": 2
}
