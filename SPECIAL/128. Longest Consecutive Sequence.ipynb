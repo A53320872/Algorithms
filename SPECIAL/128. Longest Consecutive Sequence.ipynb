{
 "cells": [
  {
   "cell_type": "markdown",
   "metadata": {},
   "source": [
    "方法一：\n",
    "\n",
    "考虑到每个数字只有三种情况：\n",
    "1： 既没有左邻居，也没有右邻居\n",
    "2： 只有一个邻居（左或者右）\n",
    "3： 同时有两个邻居\n",
    "\n",
    "扫描所有的数，当 检查属于以上的那一种情况。\n",
    "然后，计算出边界节点是哪一个（或哪两个），然后把边界的哈希值，和该节点的哈希值都修改成新的长度值。\n",
    "\n",
    "最后遍历哈希表找出最大值即可"
   ]
  },
  {
   "cell_type": "code",
   "execution_count": null,
   "metadata": {},
   "outputs": [],
   "source": [
    "class Solution(object):\n",
    "    def longestConsecutive(self, nums):\n",
    "        \"\"\"\n",
    "        :type nums: List[int]\n",
    "        :rtype: int\n",
    "        \"\"\"\n",
    "        numb = {}\n",
    "        for x in nums:\n",
    "            if x in numb: continue\n",
    "            \n",
    "            ## case1: no neighboor\n",
    "            \n",
    "            if x+1 not in numb and x-1 not in numb:\n",
    "                numb[x] = 1\n",
    "                \n",
    "            ## case2: single neighboor\n",
    "            \n",
    "            # right neighboor\n",
    "            elif x+1 in numb and x-1 not in numb:\n",
    "                length = numb[x+1]\n",
    "                right_num = x + numb[x+1]\n",
    "                numb[right_num] = length + 1\n",
    "                numb[x] = length + 1\n",
    "            # left neighboor\n",
    "            elif x-1 in numb and x+1 not in numb:\n",
    "                length = numb[x-1]\n",
    "                left_num = x - numb[x-1]\n",
    "                numb[left_num] = length + 1\n",
    "                numb[x] = length + 1\n",
    "                \n",
    "            ## case3: two neighboor (is a bridge)\n",
    "            elif x-1 in numb and x+1 in numb:\n",
    "                left_length = numb[x-1]\n",
    "                left_num = x - left_length\n",
    "                right_length = numb[x+1]\n",
    "                right_num = x + right_length\n",
    "                length = left_length + right_length + 1\n",
    "                numb[left_num] = length\n",
    "                numb[right_num] = length\n",
    "                numb[x] = length\n",
    "                \n",
    "        max_length = 0\n",
    "        for e in numb:\n",
    "            if numb[e] > max_length:\n",
    "                max_length = numb[e]\n",
    "        return max_length\n",
    "            \n",
    "             \n",
    "            \n",
    "                "
   ]
  },
  {
   "cell_type": "markdown",
   "metadata": {},
   "source": [
    "方法二：\n",
    "\n",
    "遍历整个数组，\n",
    "\n",
    "查看该数字是否是一个序列的左起点：即，看n-1是否在哈希表中，若在，就不是一个左起点。\n",
    "\n",
    "当该数是一个左起点时，开启一个小循环，来查看这个序列能右多长。并记录下这个长度\n",
    "\n",
    "然后返回最大的长度。"
   ]
  },
  {
   "cell_type": "code",
   "execution_count": null,
   "metadata": {},
   "outputs": [],
   "source": [
    "class Solution(object):\n",
    "    def longestConsecutive(self, nums):\n",
    "        \"\"\"\n",
    "        :type nums: List[int]\n",
    "        :rtype: int\n",
    "        \"\"\"\n",
    "        if not nums: return 0\n",
    "        numb = set(nums)\n",
    "        max_len = 1\n",
    "        for n in numb:\n",
    "            \n",
    "            # check if the current number is a left bound \n",
    "            if n-1 not in numb:\n",
    "                i = 1\n",
    "                \n",
    "                # count max length until it is unconsecutive\n",
    "                while True:\n",
    "                    if n + i in numb: i += 1\n",
    "                    else: break\n",
    "                    max_len = max(max_len, i)\n",
    "                    \n",
    "        return max_len\n"
   ]
  }
 ],
 "metadata": {
  "kernelspec": {
   "display_name": "Python 3",
   "language": "python",
   "name": "python3"
  },
  "language_info": {
   "codemirror_mode": {
    "name": "ipython",
    "version": 3
   },
   "file_extension": ".py",
   "mimetype": "text/x-python",
   "name": "python",
   "nbconvert_exporter": "python",
   "pygments_lexer": "ipython3",
   "version": "3.7.4"
  }
 },
 "nbformat": 4,
 "nbformat_minor": 2
}
