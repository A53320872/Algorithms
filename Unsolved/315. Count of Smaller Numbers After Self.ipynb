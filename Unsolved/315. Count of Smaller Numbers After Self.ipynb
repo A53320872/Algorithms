{
 "cells": [
  {
   "cell_type": "code",
   "execution_count": null,
   "metadata": {},
   "outputs": [],
   "source": [
    "考虑用fenwick tree 或者 BST"
   ]
  },
  {
   "cell_type": "code",
   "execution_count": null,
   "metadata": {},
   "outputs": [],
   "source": [
    "class Solution(object):\n",
    "    def countSmaller(self, nums):\n",
    "        \"\"\"\n",
    "        :type nums: List[int]\n",
    "        :rtype: List[int]\n",
    "        \"\"\"\n",
    "        \n",
    "        freqMap = {}\n",
    "        rank = []\n",
    "        rankSet = set()\n",
    "        for i, e in enumerate(nums):\n",
    "            if e not in freqMap: freqMap[e] = 1\n",
    "            else: freqMap[e] += 1\n",
    "            \n",
    "            if e not in rankSet:\n",
    "                rankSet.add(e)\n",
    "                rank.append(e)\n",
    "        rank.sort()\n",
    "        \n",
    "        rankMap = {}\n",
    "        for i, e in enumerate(rank):\n",
    "            rankMap[e] = i+1\n",
    "        nums.reverse()\n",
    "        \n",
    "        freq = [0 for i in range(len(rank)+1)]\n",
    "        \n",
    "        r = []\n",
    "        for n in nums:\n",
    "            index = rankMap[n]\n",
    "            freq[index] += 1\n",
    "            \n",
    "            r.append(sum(freq[:index]))\n",
    "        r.reverse()\n",
    "        return r\n",
    "            \n",
    "        \n",
    "            \n",
    "            \n",
    "        \n",
    "        \n",
    "            "
   ]
  }
 ],
 "metadata": {
  "kernelspec": {
   "display_name": "Python 3",
   "language": "python",
   "name": "python3"
  },
  "language_info": {
   "codemirror_mode": {
    "name": "ipython",
    "version": 3
   },
   "file_extension": ".py",
   "mimetype": "text/x-python",
   "name": "python",
   "nbconvert_exporter": "python",
   "pygments_lexer": "ipython3",
   "version": "3.7.4"
  }
 },
 "nbformat": 4,
 "nbformat_minor": 2
}
