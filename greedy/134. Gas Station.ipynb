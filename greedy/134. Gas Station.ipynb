{
 "cells": [
  {
   "cell_type": "code",
   "execution_count": null,
   "metadata": {},
   "outputs": [],
   "source": [
    "本题目如果想明白其实是很简单的一道题\n",
    "\n",
    "设加油站的gas序列，和cost序列分别为\n",
    "g1, g2, g3, g4 ... gn\n",
    "c1, c2, c3, c4 ... cn\n",
    "\n",
    "设当前剩余油为ri\n",
    "\n",
    "从第一个元素开始扫描，只有当 ri + gi - ci > 0时， 才可以向下继续进行。\n",
    "\n",
    "因此， greedy 思路：\n",
    "从第一个元素开始扫描，若 ri + gi - ci > 0, 继续扫描。 直到 该值 < 0, \n",
    "此时意味着从i之前的所有节点都不可能成为 使问题成立的节点（可证明）\n",
    "因此可能的节点至少是当前节点的下一个节点，即i+1，记录下来。并将r重置成0\n",
    "\n",
    "依次进行，最后我们记录的节点就是结果\n",
    "\n",
    "\n"
   ]
  },
  {
   "cell_type": "code",
   "execution_count": null,
   "metadata": {},
   "outputs": [],
   "source": [
    "class Solution(object):\n",
    "    def canCompleteCircuit(self, gas, cost):\n",
    "        \"\"\"\n",
    "        :type gas: List[int]\n",
    "        :type cost: List[int]\n",
    "        :rtype: int\n",
    "        \"\"\"\n",
    "        start = 0\n",
    "        remain = 0\n",
    "        for i, e in enumerate(gas):\n",
    "            remain +=  + gas[i] - cost[i]\n",
    "            if remain < 0:\n",
    "                start = i+1\n",
    "                remain = 0\n",
    "        return -1 if sum(gas) < sum(cost) else start\n",
    "            \n",
    "        \n",
    "        \n",
    "        \n",
    "        "
   ]
  }
 ],
 "metadata": {
  "kernelspec": {
   "display_name": "Python 3",
   "language": "python",
   "name": "python3"
  },
  "language_info": {
   "codemirror_mode": {
    "name": "ipython",
    "version": 3
   },
   "file_extension": ".py",
   "mimetype": "text/x-python",
   "name": "python",
   "nbconvert_exporter": "python",
   "pygments_lexer": "ipython3",
   "version": "3.7.4"
  }
 },
 "nbformat": 4,
 "nbformat_minor": 2
}
