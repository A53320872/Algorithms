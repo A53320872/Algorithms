{
 "cells": [
  {
   "cell_type": "code",
   "execution_count": null,
   "metadata": {},
   "outputs": [],
   "source": [
    "贪心算法，从0到n/2扫描，入到第一个不是“a”的字符，将他变成“a”没这样能保证alpha order最小。\n",
    "如果找不到这样的“a”，说明前面都是“a”，仅需将最后一位变成“b”即可"
   ]
  },
  {
   "cell_type": "code",
   "execution_count": null,
   "metadata": {},
   "outputs": [],
   "source": [
    "class Solution(object):\n",
    "    def breakPalindrome(self, palindrome):\n",
    "        \"\"\"\n",
    "        :type palindrome: str\n",
    "        :rtype: str\n",
    "        \"\"\"\n",
    "        if len(palindrome) == 1: return \"\"\n",
    "        \n",
    "        i = 0 \n",
    "        while i < len(palindrome) // 2:\n",
    "            if palindrome[i] != \"a\":\n",
    "                return palindrome[:i] + \"a\" + palindrome[i+1:]\n",
    "            i += 1\n",
    "        return palindrome[:-1] + \"b\"\n",
    "        "
   ]
  }
 ],
 "metadata": {
  "kernelspec": {
   "display_name": "Python 3",
   "language": "python",
   "name": "python3"
  },
  "language_info": {
   "codemirror_mode": {
    "name": "ipython",
    "version": 3
   },
   "file_extension": ".py",
   "mimetype": "text/x-python",
   "name": "python",
   "nbconvert_exporter": "python",
   "pygments_lexer": "ipython3",
   "version": "3.7.4"
  }
 },
 "nbformat": 4,
 "nbformat_minor": 2
}
