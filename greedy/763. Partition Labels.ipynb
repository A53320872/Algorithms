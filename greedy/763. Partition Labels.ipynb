{
 "cells": [
  {
   "cell_type": "markdown",
   "metadata": {},
   "source": [
    "Greedy algorithm\n",
    "https://leetcode.com/problems/partition-labels/"
   ]
  },
  {
   "cell_type": "code",
   "execution_count": null,
   "metadata": {},
   "outputs": [],
   "source": [
    "#### 注意考虑全是a的情况 直接return impossible ####\n",
    "\n",
    "class Solution(object):\n",
    "    def partitionLabels(self, S):\n",
    "        \"\"\"\n",
    "        :type S: str\n",
    "        :rtype: List[int]\n",
    "        \"\"\"\n",
    "        last = {}\n",
    "        for i,c in enumerate(S):\n",
    "            if c not in last:\n",
    "                last[c] = i\n",
    "            else:\n",
    "                last[c] = max(i, last[c])\n",
    "        res = []\n",
    "        i = 0\n",
    "        while i < len(S):\n",
    "            cur = S[i]\n",
    "            maxLen = last[cur]\n",
    "            j = i\n",
    "            while j < maxLen: # this bound will change if some elements extend\n",
    "                maxLen = max(maxLen, last[S[j]])\n",
    "                j += 1\n",
    "            size = maxLen - i\n",
    "            res.append(size + 1)\n",
    "            i = maxLen + 1\n",
    "        return res\n",
    "        "
   ]
  }
 ],
 "metadata": {
  "kernelspec": {
   "display_name": "Python 3",
   "language": "python",
   "name": "python3"
  },
  "language_info": {
   "codemirror_mode": {
    "name": "ipython",
    "version": 3
   },
   "file_extension": ".py",
   "mimetype": "text/x-python",
   "name": "python",
   "nbconvert_exporter": "python",
   "pygments_lexer": "ipython3",
   "version": "3.7.4"
  }
 },
 "nbformat": 4,
 "nbformat_minor": 2
}
