{
 "cells": [
  {
   "cell_type": "code",
   "execution_count": null,
   "metadata": {},
   "outputs": [],
   "source": [
    "https://leetcode.com/problems/4sum-ii/submissions/"
   ]
  },
  {
   "cell_type": "code",
   "execution_count": null,
   "metadata": {},
   "outputs": [],
   "source": [
    "// Golang\n",
    "func fourSumCount(A []int, B []int, C []int, D []int) int {\n",
    "    map1 := map[int]int{}\n",
    "    \n",
    "    // save all sum of a + b\n",
    "    for _,a := range(A) {\n",
    "        for _,b := range(B) {\n",
    "            map1[a+b]++\n",
    "        }\n",
    "    }\n",
    "    res := 0\n",
    "    for _,c := range(C) {\n",
    "        for _,d := range(D) {\n",
    "            if _,ok := map1[-(c+d)]; ok {\n",
    "                res += map1[-(c+d)]\n",
    "            } \n",
    "        }\n",
    "    }\n",
    "    \n",
    "    return res\n",
    "}"
   ]
  }
 ],
 "metadata": {
  "kernelspec": {
   "display_name": "Python 3",
   "language": "python",
   "name": "python3"
  },
  "language_info": {
   "codemirror_mode": {
    "name": "ipython",
    "version": 3
   },
   "file_extension": ".py",
   "mimetype": "text/x-python",
   "name": "python",
   "nbconvert_exporter": "python",
   "pygments_lexer": "ipython3",
   "version": "3.7.4"
  }
 },
 "nbformat": 4,
 "nbformat_minor": 2
}
