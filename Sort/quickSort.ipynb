{
 "cells": [
  {
   "cell_type": "markdown",
   "metadata": {},
   "source": [
    "将小于target的放在左半部分，大于target的放在右半部分，递归调用。"
   ]
  },
  {
   "cell_type": "code",
   "execution_count": 22,
   "metadata": {},
   "outputs": [],
   "source": [
    "def quick_sort(array):\n",
    "    if len(array) <= 1: return array\n",
    "    l, r = [], []\n",
    "    for item in array[1:]:\n",
    "        if item <= array[0]:\n",
    "            l.append(item)\n",
    "        if item > array[0]:\n",
    "            r.append(item)\n",
    "    return quick_sort(l) + [array[0]] + quick_sort(r)"
   ]
  },
  {
   "cell_type": "markdown",
   "metadata": {},
   "source": [
    "一行简易版本"
   ]
  },
  {
   "cell_type": "code",
   "execution_count": null,
   "metadata": {},
   "outputs": [],
   "source": [
    "quick_sort1 = lambda array: array if len(array) <= 1 else quick_sort([item for item in array[1:] if item <= array[0]]) + [array[0]] + quick_sort([item for item in array[1:] if item > array[0]])"
   ]
  },
  {
   "cell_type": "code",
   "execution_count": 26,
   "metadata": {},
   "outputs": [
    {
     "data": {
      "text/plain": [
       "[1, 1, 1, 3, 4, 4, 4, 4, 5, 6, 7, 8, 123, 232, 312, 321, 321, 533, 3321, 12213]"
      ]
     },
     "execution_count": 26,
     "metadata": {},
     "output_type": "execute_result"
    }
   ],
   "source": [
    " quick_sort([4,3,3321,321,312,4,1,123,4,1,232,1,5,6,7,8,533,321,4,12213])"
   ]
  }
 ],
 "metadata": {
  "kernelspec": {
   "display_name": "Python 3",
   "language": "python",
   "name": "python3"
  },
  "language_info": {
   "codemirror_mode": {
    "name": "ipython",
    "version": 3
   },
   "file_extension": ".py",
   "mimetype": "text/x-python",
   "name": "python",
   "nbconvert_exporter": "python",
   "pygments_lexer": "ipython3",
   "version": "3.7.4"
  }
 },
 "nbformat": 4,
 "nbformat_minor": 2
}
