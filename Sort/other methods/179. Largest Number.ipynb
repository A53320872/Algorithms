{
 "cells": [
  {
   "cell_type": "markdown",
   "metadata": {},
   "source": [
    "这道题目主要考察sort()函数中的key关键字\n",
    "他可以通过函数cmp_to_key(your_compare_function)来自定义比较函数\n",
    "\n",
    "需要注意的是，比较函数允许两个输入x, y。再返回的时候要明确返回值1，0，-1\n",
    "1  代表x > y\n",
    "0  代表x = y\n",
    "-1 代表x < y"
   ]
  },
  {
   "cell_type": "code",
   "execution_count": null,
   "metadata": {},
   "outputs": [],
   "source": [
    "class Solution(object):\n",
    "    def largestNumber(self, nums):\n",
    "        \"\"\"\n",
    "        :type nums: List[int]\n",
    "        :rtype: str\n",
    "        \"\"\"\n",
    "        # only zeros\n",
    "        if set(nums)  == set([0]): \n",
    "            return '0' \n",
    "        \n",
    "        def f(x, y):\n",
    "            dif = int(str(x) + str(y)) > int(str(y) + str(x))\n",
    "            if dif > 0: return -1 \n",
    "            elif dif == 0: return 0\n",
    "            else: return 1\n",
    "        nums.sort(key=cmp_to_key(f))\n",
    "        \n",
    "        r = ''\n",
    "        for i in nums:\n",
    "            r += str(i)\n",
    "        return r"
   ]
  }
 ],
 "metadata": {
  "kernelspec": {
   "display_name": "Python 3",
   "language": "python",
   "name": "python3"
  },
  "language_info": {
   "codemirror_mode": {
    "name": "ipython",
    "version": 3
   },
   "file_extension": ".py",
   "mimetype": "text/x-python",
   "name": "python",
   "nbconvert_exporter": "python",
   "pygments_lexer": "ipython3",
   "version": "3.7.4"
  }
 },
 "nbformat": 4,
 "nbformat_minor": 2
}
