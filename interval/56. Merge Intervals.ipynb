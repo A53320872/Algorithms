{
 "cells": [
  {
   "cell_type": "code",
   "execution_count": null,
   "metadata": {},
   "outputs": [],
   "source": [
    "https://leetcode.com/problems/merge-intervals/"
   ]
  },
  {
   "cell_type": "code",
   "execution_count": null,
   "metadata": {},
   "outputs": [],
   "source": [
    "class Solution(object):\n",
    "    def merge(self, intervals):\n",
    "        \"\"\"\n",
    "        :type intervals: List[List[int]]\n",
    "        :rtype: List[List[int]]\n",
    "        \"\"\"\n",
    "        if intervals == []: return []\n",
    "        intervals.sort(key=lambda x:x[0])\n",
    "        res = []\n",
    "        last = intervals[0]\n",
    "        i = 1\n",
    "        while i < len(intervals):\n",
    "            if intervals[i][0] <= last[1]:\n",
    "                last = [last[0], max(intervals[i][1], last[1])]\n",
    "            else:\n",
    "                res.append(last)\n",
    "                last = intervals[i]\n",
    "            i += 1\n",
    "            \n",
    "        # check for edge point\n",
    "        if intervals[-1][0] <= last[1]:\n",
    "            res.append([last[0], max(intervals[-1][1], last[1])])\n",
    "        else:\n",
    "            res.append(intervals[-1])\n",
    "            \n",
    "                \n",
    "        return res\n",
    "        "
   ]
  }
 ],
 "metadata": {
  "kernelspec": {
   "display_name": "Python 3",
   "language": "python",
   "name": "python3"
  },
  "language_info": {
   "codemirror_mode": {
    "name": "ipython",
    "version": 3
   },
   "file_extension": ".py",
   "mimetype": "text/x-python",
   "name": "python",
   "nbconvert_exporter": "python",
   "pygments_lexer": "ipython3",
   "version": "3.7.4"
  }
 },
 "nbformat": 4,
 "nbformat_minor": 2
}
