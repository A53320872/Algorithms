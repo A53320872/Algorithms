{
 "cells": [
  {
   "cell_type": "code",
   "execution_count": null,
   "metadata": {},
   "outputs": [],
   "source": [
    "https://leetcode.com/problems/meeting-rooms-ii/"
   ]
  },
  {
   "cell_type": "code",
   "execution_count": null,
   "metadata": {},
   "outputs": [],
   "source": [
    "class Solution(object):\n",
    "    def minMeetingRooms(self, intervals):\n",
    "        \"\"\"\n",
    "        :type intervals: List[List[int]]\n",
    "        :rtype: int\n",
    "        \"\"\"\n",
    "        intervals.sort(key=lambda x:x[0])\n",
    "        if intervals == []: return 0\n",
    "        heap = [intervals[0][1]]\n",
    "        heapq.heapify(heap)\n",
    "        i = 1\n",
    "        while i < len(intervals):\n",
    "            if heap != [] and heap[0] <= intervals[i][0]:\n",
    "                heapq.heappop(heap)\n",
    "            heappush(heap, intervals[i][1])\n",
    "            print(heap)\n",
    "            i += 1\n",
    "        return len(heap)"
   ]
  }
 ],
 "metadata": {
  "kernelspec": {
   "display_name": "Python 3",
   "language": "python",
   "name": "python3"
  },
  "language_info": {
   "codemirror_mode": {
    "name": "ipython",
    "version": 3
   },
   "file_extension": ".py",
   "mimetype": "text/x-python",
   "name": "python",
   "nbconvert_exporter": "python",
   "pygments_lexer": "ipython3",
   "version": "3.7.4"
  }
 },
 "nbformat": 4,
 "nbformat_minor": 2
}
