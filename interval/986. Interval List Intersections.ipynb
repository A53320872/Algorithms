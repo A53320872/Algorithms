{
 "cells": [
  {
   "cell_type": "code",
   "execution_count": null,
   "metadata": {},
   "outputs": [],
   "source": [
    "# Greedy method, simple to understand\n",
    "# Remember to remove the interval with smallest endpoint\n",
    "class Solution:\n",
    "    def intervalIntersection(self, A, B):\n",
    "        res = []\n",
    "        i, j = 0, 0\n",
    "        while i < len(A) and j < len(B):\n",
    "            lo = max(A[i][0], B[j][0])\n",
    "            hi = min(A[i][1], B[j][1])\n",
    "            \n",
    "            if lo <= hi:\n",
    "                res.append([lo, hi])\n",
    "            \n",
    "            if A[i][1] < B[j][1]:\n",
    "                i += 1\n",
    "            else:\n",
    "                j += 1\n",
    "        return res"
   ]
  }
 ],
 "metadata": {
  "kernelspec": {
   "display_name": "Python 3",
   "language": "python",
   "name": "python3"
  },
  "language_info": {
   "codemirror_mode": {
    "name": "ipython",
    "version": 3
   },
   "file_extension": ".py",
   "mimetype": "text/x-python",
   "name": "python",
   "nbconvert_exporter": "python",
   "pygments_lexer": "ipython3",
   "version": "3.7.4"
  }
 },
 "nbformat": 4,
 "nbformat_minor": 2
}
