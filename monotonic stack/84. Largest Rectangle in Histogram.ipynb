{
 "cells": [
  {
   "cell_type": "markdown",
   "metadata": {},
   "source": [
    "https://leetcode.com/problems/largest-rectangle-in-histogram/"
   ]
  },
  {
   "cell_type": "code",
   "execution_count": null,
   "metadata": {},
   "outputs": [],
   "source": [
    "class Solution(object):\n",
    "    def largestRectangleArea(self, heights):\n",
    "        \"\"\"\n",
    "        :type heights: List[int]\n",
    "        :rtype: int\n",
    "        \"\"\"\n",
    "        # # method1\n",
    "        # # find local peak, then go left to compute all areas\n",
    "        # area = 0\n",
    "        # i = 0\n",
    "        # while i < len(heights):\n",
    "        #     if (i+1 < len(heights) and heights[i+1] < heights[i]) \\\n",
    "        #     or i == len(heights)-1:\n",
    "        #         minH = heights[i]\n",
    "        #         area = max(area, heights[i])\n",
    "        #         j = i\n",
    "        #         while j >= 0:\n",
    "        #             minH = min(minH, heights[j])\n",
    "        #             area = max(area, minH * (i-j+1))\n",
    "        #             j -= 1\n",
    "        #     i += 1\n",
    "        # return area\n",
    "        \n",
    "        # method2\n",
    "        # monotonic stack, when it decrease, pop stack while monotonic\n",
    "        maxArea = 0\n",
    "        monotonic = []\n",
    "        i = 0\n",
    "        heights.append(-1)\n",
    "        while i < len(heights):\n",
    "            if monotonic == []:\n",
    "                monotonic.append((i, heights[i]))\n",
    "            elif heights[i] >= monotonic[len(monotonic)-1][1]:\n",
    "                monotonic.append((i, heights[i]))\n",
    "            elif (heights[i] < monotonic[len(monotonic)-1][1]) or heights[i] == -1:\n",
    "                while True:\n",
    "                    topI, topH = monotonic[len(monotonic)-1]\n",
    "                    if topH >= heights[i]:\n",
    "                        maxArea = max(maxArea, topH*(i-topI))\n",
    "                        monotonic.pop()\n",
    "                        lastI = topI\n",
    "                    if monotonic == []:\n",
    "                        monotonic.append((topI, heights[i]))\n",
    "                        break\n",
    "                    elif topH < heights[i]:\n",
    "                        monotonic.append((lastI, heights[i]))\n",
    "                        break\n",
    "            i += 1\n",
    "        return maxArea\n",
    "        \n",
    "                \n",
    "        "
   ]
  }
 ],
 "metadata": {
  "kernelspec": {
   "display_name": "Python 3",
   "language": "python",
   "name": "python3"
  },
  "language_info": {
   "codemirror_mode": {
    "name": "ipython",
    "version": 3
   },
   "file_extension": ".py",
   "mimetype": "text/x-python",
   "name": "python",
   "nbconvert_exporter": "python",
   "pygments_lexer": "ipython3",
   "version": "3.7.4"
  }
 },
 "nbformat": 4,
 "nbformat_minor": 2
}
