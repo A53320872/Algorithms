{
 "cells": [
  {
   "cell_type": "code",
   "execution_count": null,
   "metadata": {},
   "outputs": [],
   "source": [
    "similar to 84. Largest Rectangle in Histogram\n",
    "https://leetcode.com/problems/maximal-rectangle/"
   ]
  },
  {
   "cell_type": "code",
   "execution_count": null,
   "metadata": {},
   "outputs": [],
   "source": [
    "class Solution(object):\n",
    "    def maximalRectangle(self, matrix):\n",
    "        \"\"\"\n",
    "        :type matrix: List[List[str]]\n",
    "        :rtype: int\n",
    "        \"\"\"\n",
    "        if len(matrix) == 0: return 0\n",
    "        m,n = len(matrix), len(matrix[0])\n",
    "        \n",
    "        def buildHist(row):\n",
    "            hist = []\n",
    "            for j in range(n):\n",
    "                height = 0\n",
    "                for i in range(row, m):\n",
    "                    if matrix[i][j] == \"1\":\n",
    "                        height += 1\n",
    "                    else:\n",
    "                        break\n",
    "                hist.append(height)\n",
    "            return hist\n",
    "        # method1: find local peak\n",
    "        def maxRectInHist(hist):\n",
    "            area = 0\n",
    "            j = 0\n",
    "            while j < n:\n",
    "                if (j < n-1 and hist[j] > hist[j+1]) or j == n-1:\n",
    "                    height = hist[j]\n",
    "                    i = j\n",
    "                    while i >= 0:\n",
    "                        height = min(height, hist[i])\n",
    "                        area = max(area, height * (j-i+1))\n",
    "                        i -= 1\n",
    "                j += 1\n",
    "            return area\n",
    "        # method2: monotonic queue\n",
    "#         def maxRectInHist(heights):\n",
    "#             heights.append(-1) # small fix\n",
    "#             maxArea = 0\n",
    "#             monotonic = []\n",
    "#             i = 0\n",
    "#             while i < len(heights):\n",
    "#                 if monotonic == [] or heights[i] >= monotonic[len(monotonic)-1][1]:\n",
    "#                     monotonic.append((i, heights[i]))\n",
    "#                 else:\n",
    "#                     left_bound = i\n",
    "#                     topH = monotonic[len(monotonic)-1][1]\n",
    "#                     # find the left bound\n",
    "#                     while monotonic and topH >= heights[i]:\n",
    "#                         topI, topH = monotonic[len(monotonic)-1]\n",
    "#                         if topH >= heights[i]:\n",
    "#                             maxArea = max(maxArea, topH*(i-topI))\n",
    "#                             monotonic.pop()\n",
    "#                             left_bound = topI\n",
    "#                     monotonic.append((left_bound, heights[i]))\n",
    "#                 i += 1\n",
    "#             return maxArea\n",
    "        maxArea = 0\n",
    "        for row in range(m):\n",
    "            hist = buildHist(row)\n",
    "            area = maxRectInHist(hist)\n",
    "            maxArea = max(area, maxArea)\n",
    "        return maxArea"
   ]
  }
 ],
 "metadata": {
  "kernelspec": {
   "display_name": "Python 3",
   "language": "python",
   "name": "python3"
  },
  "language_info": {
   "codemirror_mode": {
    "name": "ipython",
    "version": 3
   },
   "file_extension": ".py",
   "mimetype": "text/x-python",
   "name": "python",
   "nbconvert_exporter": "python",
   "pygments_lexer": "ipython3",
   "version": "3.7.4"
  }
 },
 "nbformat": 4,
 "nbformat_minor": 2
}
