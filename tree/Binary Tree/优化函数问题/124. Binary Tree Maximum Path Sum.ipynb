{
 "cells": [
  {
   "cell_type": "code",
   "execution_count": null,
   "metadata": {},
   "outputs": [],
   "source": [
    "二叉树问题\n",
    "\n",
    "自定义一个函数 这个函数穿插在二叉树的遍历中（前中后序遍历）\n",
    "\n",
    "通常形式：\n",
    "\n",
    "def optimal_funtion(root):\n",
    "    \n",
    "    if root == None:\n",
    "        return X1\n",
    "    \n",
    "    l = optimal_funtion(root.left) \n",
    "    r = optimal_function(root.right)\n",
    "    \n",
    "    return max或min或其他关系(l, r, root.val的组合)\n",
    "\n",
    "这道题目中我们就是利用这样的一个优化函数来实现的。\n",
    "这种结构能够用来解决很多类似的问题。"
   ]
  },
  {
   "cell_type": "code",
   "execution_count": 8,
   "metadata": {},
   "outputs": [
    {
     "data": {
      "text/plain": [
       "'ho@'"
      ]
     },
     "execution_count": 8,
     "metadata": {},
     "output_type": "execute_result"
    }
   ],
   "source": [
    "curr = 'hot'\n",
    "k = 2\n",
    "curr[:k] + '@' + curr[k+1:]"
   ]
  },
  {
   "cell_type": "code",
   "execution_count": null,
   "metadata": {},
   "outputs": [],
   "source": [
    "# Definition for a binary tree node.\n",
    "# class TreeNode(object):\n",
    "#     def __init__(self, x):\n",
    "#         self.val = x\n",
    "#         self.left = None\n",
    "#         self.right = None\n",
    "\n",
    "class Solution(object):\n",
    "    def maxPathSum(self, root):\n",
    "        \n",
    "        # two possible cases:\n",
    "        # 1. if this root is in the final result and there is NO parent of it:\n",
    "        #    it can have both left and right\n",
    "        \n",
    "        # 2. if this root is in the final result and this IS a parent of it:\n",
    "        #    it can just have one branch (left or right)\n",
    "        \n",
    "        # Hnece we have to Record case 1, but Return case 2. Because other nodes can only\n",
    "        # use this node's ONE branch maximun sum.\n",
    "        \n",
    "        # All possible sums.\n",
    "        possible = []\n",
    "        \n",
    "        def getMaxSum(root):\n",
    "            if root == None:\n",
    "                return 0\n",
    "            \n",
    "            # if negative, take 0.\n",
    "            l = max(0, getMaxSum(root.left))\n",
    "            \n",
    "            r = max(0, getMaxSum(root.right))\n",
    "            \n",
    "            # here we can make all optimize selections, but it is unneccessary\n",
    "            # since only last one can promise the optimization solution.\n",
    "            \n",
    "            # possible.append(root.val)\n",
    "            # possible.append(root.val+l)\n",
    "            # possible.append(root.val+r)\n",
    "            possible.append(root.val+l+r)\n",
    "            \n",
    "            # only can return ONE branch\n",
    "            return max(root.val+l, root.val+r)\n",
    "          \n",
    "        getMaxSum(root)\n",
    "      \n",
    "        \n",
    "        return max(possible)\n",
    "            \n",
    "\n",
    "        \n",
    "        \n",
    "                \n",
    "                \n",
    "        "
   ]
  }
 ],
 "metadata": {
  "kernelspec": {
   "display_name": "Python 3",
   "language": "python",
   "name": "python3"
  },
  "language_info": {
   "codemirror_mode": {
    "name": "ipython",
    "version": 3
   },
   "file_extension": ".py",
   "mimetype": "text/x-python",
   "name": "python",
   "nbconvert_exporter": "python",
   "pygments_lexer": "ipython3",
   "version": "3.7.4"
  }
 },
 "nbformat": 4,
 "nbformat_minor": 2
}
