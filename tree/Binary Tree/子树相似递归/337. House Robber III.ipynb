{
 "cells": [
  {
   "cell_type": "code",
   "execution_count": null,
   "metadata": {},
   "outputs": [],
   "source": [
    "https://leetcode.com/problems/house-robber-iii/\n",
    "    \n",
    "similar\n",
    "198. House Robber\n",
    "213. House Robber II"
   ]
  },
  {
   "cell_type": "code",
   "execution_count": null,
   "metadata": {},
   "outputs": [],
   "source": [
    "# Definition for a binary tree node.\n",
    "# class TreeNode(object):\n",
    "#     def __init__(self, val=0, left=None, right=None):\n",
    "#         self.val = val\n",
    "#         self.left = left\n",
    "#         self.right = right\n",
    "class Solution(object):\n",
    "    def rob(self, root):\n",
    "        \"\"\"\n",
    "        :type root: TreeNode\n",
    "        :rtype: int\n",
    "        \"\"\"\n",
    "        mem = {}\n",
    "        def recur(root):\n",
    "            if root in mem: return mem[root]\n",
    "            \n",
    "            if root == None:\n",
    "                return 0\n",
    "            \n",
    "            # rob\n",
    "            r1 = root.val \n",
    "            if root.left != None:\n",
    "                r1 += recur(root.left.left) + recur(root.left.right)\n",
    "            if root.right != None:\n",
    "                r1 += recur(root.right.left) + recur(root.right.right)\n",
    "            \n",
    "            # not rob\n",
    "            r2 = recur(root.left) + recur(root.right)\n",
    "            \n",
    "            res = max(r1, r2)\n",
    "            mem[root] = res\n",
    "            \n",
    "            return res\n",
    "        return recur(root)\n",
    "            \n",
    "            \n",
    "            \n",
    "        "
   ]
  }
 ],
 "metadata": {
  "kernelspec": {
   "display_name": "Python 3",
   "language": "python",
   "name": "python3"
  },
  "language_info": {
   "codemirror_mode": {
    "name": "ipython",
    "version": 3
   },
   "file_extension": ".py",
   "mimetype": "text/x-python",
   "name": "python",
   "nbconvert_exporter": "python",
   "pygments_lexer": "ipython3",
   "version": "3.7.4"
  }
 },
 "nbformat": 4,
 "nbformat_minor": 2
}
