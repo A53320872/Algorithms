{
 "cells": [
  {
   "cell_type": "code",
   "execution_count": null,
   "metadata": {},
   "outputs": [],
   "source": [
    "https://leetcode.com/problems/count-univalue-subtrees/submissions/"
   ]
  },
  {
   "cell_type": "code",
   "execution_count": null,
   "metadata": {},
   "outputs": [],
   "source": [
    "# Definition for a binary tree node.\n",
    "# class TreeNode(object):\n",
    "#     def __init__(self, val=0, left=None, right=None):\n",
    "#         self.val = val\n",
    "#         self.left = left\n",
    "#         self.right = right\n",
    "class Solution(object):\n",
    "    def countUnivalSubtrees(self, root):\n",
    "        \"\"\"\n",
    "        :type root: TreeNode\n",
    "        :rtype: int\n",
    "        \"\"\"\n",
    "        res = [0]\n",
    "        def postOrder(root):\n",
    "            if root == None: return True\n",
    "            \n",
    "            l = postOrder(root.left)\n",
    "            r = postOrder(root.right)\n",
    "            \n",
    "            if l == False or r == False:\n",
    "                return False\n",
    "            \n",
    "            if root.left != None and root.left.val != root.val \\\n",
    "            or root.right != None and root.right.val != root.val:\n",
    "                return False\n",
    "            \n",
    "            res[0] += 1\n",
    "            \n",
    "            return True\n",
    "        postOrder(root)\n",
    "        return res[0]\n",
    "                    \n",
    "            \n",
    "                \n",
    "        "
   ]
  }
 ],
 "metadata": {
  "kernelspec": {
   "display_name": "Python 3",
   "language": "python",
   "name": "python3"
  },
  "language_info": {
   "codemirror_mode": {
    "name": "ipython",
    "version": 3
   },
   "file_extension": ".py",
   "mimetype": "text/x-python",
   "name": "python",
   "nbconvert_exporter": "python",
   "pygments_lexer": "ipython3",
   "version": "3.7.4"
  }
 },
 "nbformat": 4,
 "nbformat_minor": 2
}
