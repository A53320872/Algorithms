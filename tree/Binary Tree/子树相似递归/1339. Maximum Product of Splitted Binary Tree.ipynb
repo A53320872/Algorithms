{
 "cells": [
  {
   "cell_type": "code",
   "execution_count": null,
   "metadata": {},
   "outputs": [],
   "source": [
    "# Definition for a binary tree node.\n",
    "# class TreeNode(object):\n",
    "#     def __init__(self, val=0, left=None, right=None):\n",
    "#         self.val = val\n",
    "#         self.left = left\n",
    "#         self.right = right\n",
    "class Solution(object):\n",
    "    def maxProduct(self, root):\n",
    "        \"\"\"\n",
    "        :type root: TreeNode\n",
    "        :rtype: int\n",
    "        \"\"\"\n",
    "        sums = []\n",
    "        def getTotal(root):\n",
    "            if root == None:\n",
    "                return 0\n",
    "            \n",
    "            l = getTotal(root.left)\n",
    "            r = getTotal(root.right)\n",
    "            \n",
    "            sums.append(l + r + root.val)\n",
    "            return l + r + root.val\n",
    "        total = getTotal(root)\n",
    "        \n",
    "        res = []\n",
    "        for s in sums:\n",
    "            res.append(s * (total - s))\n",
    "        return int(max(res) % (1e9 + 7))"
   ]
  }
 ],
 "metadata": {
  "kernelspec": {
   "display_name": "Python 3",
   "language": "python",
   "name": "python3"
  },
  "language_info": {
   "codemirror_mode": {
    "name": "ipython",
    "version": 3
   },
   "file_extension": ".py",
   "mimetype": "text/x-python",
   "name": "python",
   "nbconvert_exporter": "python",
   "pygments_lexer": "ipython3",
   "version": "3.7.4"
  }
 },
 "nbformat": 4,
 "nbformat_minor": 2
}
