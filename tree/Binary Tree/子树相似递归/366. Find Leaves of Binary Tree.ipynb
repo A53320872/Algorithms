{
 "cells": [
  {
   "cell_type": "code",
   "execution_count": null,
   "metadata": {},
   "outputs": [],
   "source": [
    "https://leetcode.com/problems/find-leaves-of-binary-tree/"
   ]
  },
  {
   "cell_type": "code",
   "execution_count": null,
   "metadata": {},
   "outputs": [],
   "source": [
    "# Definition for a binary tree node.\n",
    "# class TreeNode(object):\n",
    "#     def __init__(self, val=0, left=None, right=None):\n",
    "#         self.val = val\n",
    "#         self.left = left\n",
    "#         self.right = right\n",
    "class Solution(object):\n",
    "    def findLeaves(self, root):\n",
    "        \"\"\"\n",
    "        :type root: TreeNode\n",
    "        :rtype: List[List[int]]\n",
    "        \"\"\"\n",
    "        level = {}\n",
    "        def postOrder(root):\n",
    "            if root == None:\n",
    "                return 0\n",
    "            l = postOrder(root.left)\n",
    "            r = postOrder(root.right)\n",
    "            \n",
    "            res = max(l, r) + 1\n",
    "            \n",
    "            if res not in level:\n",
    "                level[res] = [root.val]\n",
    "            else:\n",
    "                level[res].append(root.val)\n",
    "            \n",
    "            return res\n",
    "        postOrder(root)\n",
    "        \n",
    "        return [level[k] for k in list(range(len(level) + 1))[1:]]\n",
    "        \n",
    "        "
   ]
  }
 ],
 "metadata": {
  "kernelspec": {
   "display_name": "Python 3",
   "language": "python",
   "name": "python3"
  },
  "language_info": {
   "codemirror_mode": {
    "name": "ipython",
    "version": 3
   },
   "file_extension": ".py",
   "mimetype": "text/x-python",
   "name": "python",
   "nbconvert_exporter": "python",
   "pygments_lexer": "ipython3",
   "version": "3.7.4"
  }
 },
 "nbformat": 4,
 "nbformat_minor": 2
}
