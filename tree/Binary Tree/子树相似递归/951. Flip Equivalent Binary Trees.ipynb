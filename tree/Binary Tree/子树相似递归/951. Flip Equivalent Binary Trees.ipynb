{
 "cells": [
  {
   "cell_type": "code",
   "execution_count": null,
   "metadata": {},
   "outputs": [],
   "source": [
    "https://leetcode.com/problems/flip-equivalent-binary-trees/"
   ]
  },
  {
   "cell_type": "code",
   "execution_count": null,
   "metadata": {},
   "outputs": [],
   "source": [
    "# Definition for a binary tree node.\n",
    "# class TreeNode(object):\n",
    "#     def __init__(self, val=0, left=None, right=None):\n",
    "#         self.val = val\n",
    "#         self.left = left\n",
    "#         self.right = right\n",
    "class Solution(object):\n",
    "    def flipEquiv(self, root1, root2):\n",
    "        \"\"\"\n",
    "        :type root1: TreeNode\n",
    "        :type root2: TreeNode\n",
    "        :rtype: bool\n",
    "        \"\"\"\n",
    "        def preOrder(root1, root2):\n",
    "            \n",
    "            # one root is null\n",
    "            if root1 == None or root2 == None:\n",
    "                if root1 == None and root2 == None:\n",
    "                    return True\n",
    "                else:\n",
    "                    return False\n",
    "            \n",
    "            if root1.val != root2.val:\n",
    "                return False\n",
    "            else:\n",
    "                l1 = preOrder(root1.left, root2.left)\n",
    "                l2 = preOrder(root1.right, root2.right)\n",
    "                \n",
    "                r1 = preOrder(root1.left, root2.right)\n",
    "                r2 = preOrder(root1.right, root2.left)\n",
    "                \n",
    "                if (l1 == True and l2 == True) or (r1 == True and r2 == True):\n",
    "                    return True\n",
    "                return False\n",
    "                \n",
    "        return preOrder(root1, root2)\n",
    "        "
   ]
  }
 ],
 "metadata": {
  "kernelspec": {
   "display_name": "Python 3",
   "language": "python",
   "name": "python3"
  },
  "language_info": {
   "codemirror_mode": {
    "name": "ipython",
    "version": 3
   },
   "file_extension": ".py",
   "mimetype": "text/x-python",
   "name": "python",
   "nbconvert_exporter": "python",
   "pygments_lexer": "ipython3",
   "version": "3.7.4"
  }
 },
 "nbformat": 4,
 "nbformat_minor": 2
}
