{
 "cells": [
  {
   "cell_type": "code",
   "execution_count": null,
   "metadata": {},
   "outputs": [],
   "source": [
    "https://leetcode.com/problems/distribute-coins-in-binary-tree/"
   ]
  },
  {
   "cell_type": "code",
   "execution_count": null,
   "metadata": {},
   "outputs": [],
   "source": [
    "# Definition for a binary tree node.\n",
    "# class TreeNode(object):\n",
    "#     def __init__(self, val=0, left=None, right=None):\n",
    "#         self.val = val\n",
    "#         self.left = left\n",
    "#         self.right = right\n",
    "class Solution(object):\n",
    "    def distributeCoins(self, root):\n",
    "        \"\"\"\n",
    "        :type root: TreeNode\n",
    "        :rtype: int\n",
    "        \"\"\"\n",
    "        ans = [0]\n",
    "        def dfs(root):\n",
    "            if root == None: return 0\n",
    "            l = dfs(root.left)\n",
    "            r = dfs(root.right)\n",
    "            ans[0] += abs(l) + abs(r)\n",
    "            return root.val + l + r - 1\n",
    "        dfs(root)\n",
    "        return ans[0]"
   ]
  },
  {
   "cell_type": "code",
   "execution_count": null,
   "metadata": {},
   "outputs": [],
   "source": [
    "// golang\n",
    "/**\n",
    " * Definition for a binary tree node.\n",
    " * type TreeNode struct {\n",
    " *     Val int\n",
    " *     Left *TreeNode\n",
    " *     Right *TreeNode\n",
    " * }\n",
    " */\n",
    "func abs(x int) int {\n",
    "    if x > 0 { return x}\n",
    "    return -x\n",
    "}\n",
    "func dfs(root *TreeNode, ans *int) int {\n",
    "    if root == nil { return 0 }\n",
    "    l, r := dfs(root.Left, ans), dfs(root.Right, ans)\n",
    "    *ans += abs(l) + abs(r)\n",
    "    return root.Val + l + r - 1\n",
    "}\n",
    "func distributeCoins(root *TreeNode) int {\n",
    "    ans := 0\n",
    "    dfs(root, &ans)\n",
    "    return ans\n",
    "}"
   ]
  }
 ],
 "metadata": {
  "kernelspec": {
   "display_name": "Python 3",
   "language": "python",
   "name": "python3"
  },
  "language_info": {
   "codemirror_mode": {
    "name": "ipython",
    "version": 3
   },
   "file_extension": ".py",
   "mimetype": "text/x-python",
   "name": "python",
   "nbconvert_exporter": "python",
   "pygments_lexer": "ipython3",
   "version": "3.7.4"
  }
 },
 "nbformat": 4,
 "nbformat_minor": 2
}
