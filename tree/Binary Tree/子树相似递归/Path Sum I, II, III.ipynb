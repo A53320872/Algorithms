{
 "cells": [
  {
   "cell_type": "code",
   "execution_count": null,
   "metadata": {},
   "outputs": [],
   "source": [
    "I: https://leetcode.com/problems/path-sum/\n",
    "II: https://leetcode.com/problems/path-sum-ii/submissions/\n",
    "III: https://leetcode.com/problems/path-sum-iii/submissions/"
   ]
  },
  {
   "cell_type": "code",
   "execution_count": null,
   "metadata": {},
   "outputs": [],
   "source": [
    "# Definition for a binary tree node.\n",
    "# class TreeNode(object):\n",
    "#     def __init__(self, val=0, left=None, right=None):\n",
    "#         self.val = val\n",
    "#         self.left = left\n",
    "#         self.right = right\n",
    "class Solution(object):\n",
    "    def hasPathSum(self, root, sum):\n",
    "        \"\"\"\n",
    "        :type root: TreeNode\n",
    "        :type sum: int\n",
    "        :rtype: bool\n",
    "        \"\"\"\n",
    "        res = [False]\n",
    "        def inOrder(root, length):\n",
    "            if root == None: return \n",
    "            if root.val + length == sum and root.left == None and root.right == None:\n",
    "                res[0] = True\n",
    "            inOrder(root.left, length + root.val)\n",
    "            inOrder(root.right, length + root.val)\n",
    "        inOrder(root, 0)\n",
    "        return res[0]"
   ]
  },
  {
   "cell_type": "code",
   "execution_count": null,
   "metadata": {},
   "outputs": [],
   "source": [
    "class Solution(object):\n",
    "    def pathSum(self, root, sum):\n",
    "        \"\"\"\n",
    "        :type root: TreeNode\n",
    "        :type sum: int\n",
    "        :rtype: List[List[int]]\n",
    "        \"\"\" \n",
    "        res = []\n",
    "        def inOrder(root, length, path):\n",
    "            if root == None: return \n",
    "            if root.val + length == sum and root.left == None and root.right == None:\n",
    "                res.append(path + [root.val])\n",
    "            inOrder(root.left, length + root.val, path+[root.val])\n",
    "            inOrder(root.right, length + root.val, path+[root.val])\n",
    "        inOrder(root, 0, [])\n",
    "        return res\n",
    "        "
   ]
  },
  {
   "cell_type": "code",
   "execution_count": null,
   "metadata": {},
   "outputs": [],
   "source": [
    "\n",
    "class Solution(object):\n",
    "    def pathSum(self, root, sum):\n",
    "        \"\"\"\n",
    "        :type root: TreeNode\n",
    "        :type sum: int\n",
    "        :rtype: int\n",
    "        \"\"\"\n",
    "        c = [0]\n",
    "        def dfs(root):\n",
    "            if root == None:\n",
    "                return []\n",
    "            l = dfs(root.left)\n",
    "            r = dfs(root.right)\n",
    "            res = [d+root.val for d in l] + [d+root.val for d in r] + [root.val]\n",
    "            for n in res:\n",
    "                if n == sum: c[0] += 1\n",
    "            return res\n",
    "        dfs(root)\n",
    "        return c[0]\n",
    "            "
   ]
  }
 ],
 "metadata": {
  "kernelspec": {
   "display_name": "Python 3",
   "language": "python",
   "name": "python3"
  },
  "language_info": {
   "codemirror_mode": {
    "name": "ipython",
    "version": 3
   },
   "file_extension": ".py",
   "mimetype": "text/x-python",
   "name": "python",
   "nbconvert_exporter": "python",
   "pygments_lexer": "ipython3",
   "version": "3.7.4"
  }
 },
 "nbformat": 4,
 "nbformat_minor": 2
}
