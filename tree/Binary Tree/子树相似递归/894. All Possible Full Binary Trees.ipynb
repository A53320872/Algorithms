{
 "cells": [
  {
   "cell_type": "code",
   "execution_count": null,
   "metadata": {},
   "outputs": [],
   "source": [
    "https://leetcode.com/problems/all-possible-full-binary-trees/submissions/"
   ]
  },
  {
   "cell_type": "code",
   "execution_count": null,
   "metadata": {},
   "outputs": [],
   "source": [
    "# Definition for a binary tree node.\n",
    "# class TreeNode(object):\n",
    "#     def __init__(self, val=0, left=None, right=None):\n",
    "#         self.val = val\n",
    "#         self.left = left\n",
    "#         self.right = right\n",
    "class Solution(object):\n",
    "    def allPossibleFBT(self, N):\n",
    "        \"\"\"\n",
    "        :type N: int\n",
    "        :rtype: List[TreeNode]\n",
    "        \"\"\"\n",
    "        if N % 2 == 0: return []\n",
    "        \n",
    "        mem = {}\n",
    "        \n",
    "        def recur(n):\n",
    "            if n in mem: return mem[n]\n",
    "            if n == 1: return [TreeNode(0)]\n",
    "            \n",
    "            res = []\n",
    "            \n",
    "            i = 1\n",
    "            while i < n:\n",
    "                l = recur(i)\n",
    "                r = recur(n - i - 1)\n",
    "                \n",
    "                for l_res in l:\n",
    "                    for r_res in r:\n",
    "                        new = TreeNode(0)\n",
    "                        new.left = l_res\n",
    "                        new.right = r_res\n",
    "                        res.append(new)     \n",
    "                        \n",
    "                i += 2\n",
    "            mem[n] = res\n",
    "            return res\n",
    "        \n",
    "        return recur(N)\n",
    "        \n",
    "                \n",
    "                \n",
    "                \n",
    "        "
   ]
  }
 ],
 "metadata": {
  "kernelspec": {
   "display_name": "Python 3",
   "language": "python",
   "name": "python3"
  },
  "language_info": {
   "codemirror_mode": {
    "name": "ipython",
    "version": 3
   },
   "file_extension": ".py",
   "mimetype": "text/x-python",
   "name": "python",
   "nbconvert_exporter": "python",
   "pygments_lexer": "ipython3",
   "version": "3.7.4"
  }
 },
 "nbformat": 4,
 "nbformat_minor": 2
}
