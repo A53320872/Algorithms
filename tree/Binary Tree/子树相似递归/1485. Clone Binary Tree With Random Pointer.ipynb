{
 "cells": [
  {
   "cell_type": "code",
   "execution_count": null,
   "metadata": {},
   "outputs": [],
   "source": []
  },
  {
   "cell_type": "code",
   "execution_count": null,
   "metadata": {},
   "outputs": [],
   "source": [
    "# Definition for Node.\n",
    "# class Node(object):\n",
    "#     def __init__(self, val=0, left=None, right=None, random=None):\n",
    "#         self.val = val\n",
    "#         self.left = left\n",
    "#         self.right = right\n",
    "#         self.random = random\n",
    "\n",
    "class Solution(object):\n",
    "    def copyRandomBinaryTree(self, root):\n",
    "        \"\"\"\n",
    "        :type root: Node\n",
    "        :rtype: NodeCopy\n",
    "        \"\"\"\n",
    "        index = [0]\n",
    "        hashmap = {}\n",
    "        post = []\n",
    "        post2 = []\n",
    "        def postOrder(root):\n",
    "            if root == None:\n",
    "                return None\n",
    "            \n",
    "            new = NodeCopy(root.val)\n",
    "            new.left = postOrder(root.left)\n",
    "            new.right = postOrder(root.right)\n",
    "            post.append(root)\n",
    "            post2.append(new)\n",
    "            hashmap[root] = index[0]\n",
    "            index[0] += 1\n",
    "            return new\n",
    "        copy = postOrder(root)\n",
    "        \n",
    "        for i,n in enumerate(post):\n",
    "            if n.random != None:\n",
    "                post2[i].random = post2[hashmap[n.random]]\n",
    "        return copy       "
   ]
  },
  {
   "cell_type": "code",
   "execution_count": null,
   "metadata": {},
   "outputs": [],
   "source": [
    "// method 2\n",
    "# Definition for Node.\n",
    "# class Node(object):\n",
    "#     def __init__(self, val=0, left=None, right=None, random=None):\n",
    "#         self.val = val\n",
    "#         self.left = left\n",
    "#         self.right = right\n",
    "#         self.random = random\n",
    "\n",
    "class Solution(object):\n",
    "    def copyRandomBinaryTree(self, root):\n",
    "        \"\"\"\n",
    "        :type root: Node\n",
    "        :rtype: NodeCopy\n",
    "        \"\"\"\n",
    "        visited = {}\n",
    "        def dfs(root):\n",
    "            if root == None: return None\n",
    "            if root in visited:\n",
    "                return visited[root]\n",
    "            new = NodeCopy(root.val)\n",
    "            \n",
    "            visited[root] = new\n",
    "            \n",
    "            new.left = dfs(root.left)\n",
    "            new.right = dfs(root.right)\n",
    "            new.random = dfs(root.random)\n",
    "            \n",
    "            return new\n",
    "        return dfs(root)"
   ]
  }
 ],
 "metadata": {
  "kernelspec": {
   "display_name": "Python 3",
   "language": "python",
   "name": "python3"
  },
  "language_info": {
   "codemirror_mode": {
    "name": "ipython",
    "version": 3
   },
   "file_extension": ".py",
   "mimetype": "text/x-python",
   "name": "python",
   "nbconvert_exporter": "python",
   "pygments_lexer": "ipython3",
   "version": "3.7.4"
  }
 },
 "nbformat": 4,
 "nbformat_minor": 2
}
