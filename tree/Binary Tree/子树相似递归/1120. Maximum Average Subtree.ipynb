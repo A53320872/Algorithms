{
 "cells": [
  {
   "cell_type": "code",
   "execution_count": null,
   "metadata": {},
   "outputs": [],
   "source": [
    "相似子树问题"
   ]
  },
  {
   "cell_type": "code",
   "execution_count": null,
   "metadata": {},
   "outputs": [],
   "source": [
    "# Definition for a binary tree node.\n",
    "# class TreeNode(object):\n",
    "#     def __init__(self, x):\n",
    "#         self.val = x\n",
    "#         self.left = None\n",
    "#         self.right = None\n",
    "\n",
    "class Solution(object):\n",
    "    def maximumAverageSubtree(self, root):\n",
    "        \"\"\"\n",
    "        :type root: TreeNode\n",
    "        :rtype: float\n",
    "        \"\"\"\n",
    "        maxAve = [0]\n",
    "        def recur(root):\n",
    "            if root == None:\n",
    "                return (0, 0)\n",
    "            (lSum, lNum) = recur(root.left)\n",
    "            (rSum, rNum) = recur(root.right)\n",
    "            curSum = root.val+lSum+rSum\n",
    "            curNum = 1+lNum+rNum\n",
    "            curAve = curSum*1.0/curNum \n",
    "            maxAve[0] = max(maxAve[0], curAve)\n",
    "            return (curSum, curNum)\n",
    "        recur(root)\n",
    "        return maxAve[0]\n"
   ]
  }
 ],
 "metadata": {
  "kernelspec": {
   "display_name": "Python 3",
   "language": "python",
   "name": "python3"
  },
  "language_info": {
   "codemirror_mode": {
    "name": "ipython",
    "version": 3
   },
   "file_extension": ".py",
   "mimetype": "text/x-python",
   "name": "python",
   "nbconvert_exporter": "python",
   "pygments_lexer": "ipython3",
   "version": "3.7.4"
  }
 },
 "nbformat": 4,
 "nbformat_minor": 2
}
