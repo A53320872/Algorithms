{
 "cells": [
  {
   "cell_type": "code",
   "execution_count": null,
   "metadata": {},
   "outputs": [],
   "source": [
    "https://leetcode.com/problems/find-duplicate-subtrees/"
   ]
  },
  {
   "cell_type": "code",
   "execution_count": null,
   "metadata": {},
   "outputs": [],
   "source": [
    "# Definition for a binary tree node.\n",
    "# class TreeNode(object):\n",
    "#     def __init__(self, val=0, left=None, right=None):\n",
    "#         self.val = val\n",
    "#         self.left = left\n",
    "#         self.right = right\n",
    "class Solution(object):\n",
    "    def findDuplicateSubtrees(self, root):\n",
    "        \"\"\"\n",
    "        :type root: TreeNode\n",
    "        :rtype: List[TreeNode]\n",
    "        \"\"\"\n",
    "        visited = {}\n",
    "        res = []\n",
    "        def postOrder(root):\n",
    "            if root == None:\n",
    "                return \"#\"\n",
    "            l = postOrder(root.left)\n",
    "            r = postOrder(root.right)\n",
    "            \n",
    "            tree = str(root.val) + \",\" + l + \",\" + r\n",
    "            \n",
    "            if tree in visited:\n",
    "                if visited[tree] == 1:\n",
    "                    res.append(root)\n",
    "                visited[tree] += 1\n",
    "            else:\n",
    "                visited[tree] = 1\n",
    "            return tree\n",
    "        \n",
    "        postOrder(root)\n",
    "        return res\n",
    "    "
   ]
  }
 ],
 "metadata": {
  "kernelspec": {
   "display_name": "Python 3",
   "language": "python",
   "name": "python3"
  },
  "language_info": {
   "codemirror_mode": {
    "name": "ipython",
    "version": 3
   },
   "file_extension": ".py",
   "mimetype": "text/x-python",
   "name": "python",
   "nbconvert_exporter": "python",
   "pygments_lexer": "ipython3",
   "version": "3.7.4"
  }
 },
 "nbformat": 4,
 "nbformat_minor": 2
}
