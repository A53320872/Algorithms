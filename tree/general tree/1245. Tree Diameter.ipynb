{
 "cells": [
  {
   "cell_type": "code",
   "execution_count": null,
   "metadata": {},
   "outputs": [],
   "source": [
    "https://leetcode.com/problems/tree-diameter/"
   ]
  },
  {
   "cell_type": "code",
   "execution_count": null,
   "metadata": {},
   "outputs": [],
   "source": [
    "class Solution(object):\n",
    "    def treeDiameter(self, edges):\n",
    "        \"\"\"\n",
    "        :type edges: List[List[int]]\n",
    "        :rtype: int\n",
    "        \"\"\"\n",
    "        if edges == []: return 0\n",
    "        \n",
    "        def buildGraph(edges):\n",
    "            adj = {}\n",
    "            V = set([])\n",
    "            for (u,v) in edges:\n",
    "                V.add(u)\n",
    "                V.add(v)\n",
    "                if u not in adj:\n",
    "                    adj[u] = set([v])\n",
    "                else:\n",
    "                    adj[u].add(v)\n",
    "                if v not in adj:\n",
    "                    adj[v] = set([u])\n",
    "                else:\n",
    "                    adj[v].add(u)\n",
    "            return adj, V\n",
    "        \n",
    "        adj, V = buildGraph(edges)\n",
    "        \n",
    "        first = [(0, None)]\n",
    "        visited = set([])\n",
    "        def dfs(u, d, mem):\n",
    "            visited.add(u)\n",
    "            if d > mem[0][0]:\n",
    "                mem[0] = (d, u)\n",
    "            for v in adj[u]:\n",
    "                if v not in visited:\n",
    "                    dfs(v, d+1, mem)\n",
    "                    \n",
    "        dfs(edges[0][0], 0, first)\n",
    "            \n",
    "        \n",
    "        second = [(0,None)]\n",
    "        visited = set([])\n",
    "        dfs(first[0][1], 0, second)\n",
    "        \n",
    "        return second[0][0]\n",
    "        \n",
    "        \n",
    "        \n",
    "            \n",
    "        "
   ]
  }
 ],
 "metadata": {
  "kernelspec": {
   "display_name": "Python 3",
   "language": "python",
   "name": "python3"
  },
  "language_info": {
   "codemirror_mode": {
    "name": "ipython",
    "version": 3
   },
   "file_extension": ".py",
   "mimetype": "text/x-python",
   "name": "python",
   "nbconvert_exporter": "python",
   "pygments_lexer": "ipython3",
   "version": "3.7.4"
  }
 },
 "nbformat": 4,
 "nbformat_minor": 2
}
