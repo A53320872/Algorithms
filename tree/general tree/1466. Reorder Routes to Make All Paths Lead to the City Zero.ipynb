{
 "cells": [
  {
   "cell_type": "code",
   "execution_count": null,
   "metadata": {},
   "outputs": [],
   "source": [
    "https://leetcode.com/problems/reorder-routes-to-make-all-paths-lead-to-the-city-zero/submissions/"
   ]
  },
  {
   "cell_type": "code",
   "execution_count": null,
   "metadata": {},
   "outputs": [],
   "source": [
    "class Solution(object):\n",
    "    def minReorder(self, n, connections):\n",
    "        \"\"\"\n",
    "        :type n: int\n",
    "        :type connections: List[List[int]]\n",
    "        :rtype: int\n",
    "        \"\"\"\n",
    "        directions = set([(d[0], d[1]) for d in connections])\n",
    "        adj = {}\n",
    "        for (u,v) in connections:\n",
    "            if u not in adj:\n",
    "                adj[u] = set([v])\n",
    "            else:\n",
    "                adj[u].add(v)\n",
    "            if v not in adj:\n",
    "                adj[v] = set([u])\n",
    "            else:\n",
    "                adj[v].add(u)\n",
    "                \n",
    "        res = [0]\n",
    "        visited = set([])\n",
    "        def dfs(u):\n",
    "            visited.add(u)\n",
    "            for v in adj[u]:\n",
    "                if v in visited:\n",
    "                    continue\n",
    "                if (u, v) in directions:\n",
    "                    res[0] += 1\n",
    "                dfs(v)\n",
    "        dfs(0)\n",
    "        return res[0]\n",
    "                "
   ]
  }
 ],
 "metadata": {
  "kernelspec": {
   "display_name": "Python 3",
   "language": "python",
   "name": "python3"
  },
  "language_info": {
   "codemirror_mode": {
    "name": "ipython",
    "version": 3
   },
   "file_extension": ".py",
   "mimetype": "text/x-python",
   "name": "python",
   "nbconvert_exporter": "python",
   "pygments_lexer": "ipython3",
   "version": "3.7.4"
  }
 },
 "nbformat": 4,
 "nbformat_minor": 2
}
