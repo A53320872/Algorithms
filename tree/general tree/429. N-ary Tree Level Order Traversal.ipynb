{
 "cells": [
  {
   "cell_type": "code",
   "execution_count": null,
   "metadata": {},
   "outputs": [],
   "source": [
    "https://leetcode.com/problems/n-ary-tree-level-order-traversal/"
   ]
  },
  {
   "cell_type": "code",
   "execution_count": null,
   "metadata": {},
   "outputs": [],
   "source": [
    "\"\"\"\n",
    "# Definition for a Node.\n",
    "class Node(object):\n",
    "    def __init__(self, val=None, children=None):\n",
    "        self.val = val\n",
    "        self.children = children\n",
    "\"\"\"\n",
    "\n",
    "class Solution(object):\n",
    "    def levelOrder(self, root):\n",
    "        \"\"\"\n",
    "        :type root: Node\n",
    "        :rtype: List[List[int]]\n",
    "        \"\"\"\n",
    "        level = {}\n",
    "        def bfs(root, l):\n",
    "            if root == None:\n",
    "                return\n",
    "            if l not in level:\n",
    "                level[l] = [root.val]\n",
    "            else:\n",
    "                level[l].append(root.val)\n",
    "            for c in root.children:\n",
    "                bfs(c, l + 1)\n",
    "        bfs(root, 0)\n",
    "        return [level[l] for l in range(len(level))]"
   ]
  },
  {
   "cell_type": "code",
   "execution_count": null,
   "metadata": {},
   "outputs": [],
   "source": [
    "/**\n",
    " * Definition for a Node.\n",
    " * type Node struct {\n",
    " *     Val int\n",
    " *     Children []*Node\n",
    " * }\n",
    " */\n",
    "func bfs(root *Node, l int, level map[int]*[]int) {\n",
    "    if root == nil {\n",
    "        return\n",
    "    }\n",
    "    if _,ok := level[l]; !ok {\n",
    "        level[l] = &[]int{root.Val}\n",
    "    } else {\n",
    "        *level[l] = append(*level[l], root.Val)\n",
    "    }\n",
    "    \n",
    "    for _,c := range(root.Children) {\n",
    "        bfs(c, l + 1, level)\n",
    "    }\n",
    "}\n",
    "\n",
    "func levelOrder(root *Node) [][]int {\n",
    "    level := map[int]*[]int{}\n",
    "    bfs(root, 0, level)\n",
    "    res := [][]int{}\n",
    "    for i := 0; i < len(level); i++ {\n",
    "        res = append(res, *level[i])\n",
    "    }\n",
    "    return res\n",
    "}"
   ]
  }
 ],
 "metadata": {
  "kernelspec": {
   "display_name": "Python 3",
   "language": "python",
   "name": "python3"
  },
  "language_info": {
   "codemirror_mode": {
    "name": "ipython",
    "version": 3
   },
   "file_extension": ".py",
   "mimetype": "text/x-python",
   "name": "python",
   "nbconvert_exporter": "python",
   "pygments_lexer": "ipython3",
   "version": "3.7.4"
  }
 },
 "nbformat": 4,
 "nbformat_minor": 2
}
