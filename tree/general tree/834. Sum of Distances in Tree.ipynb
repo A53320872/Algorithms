{
 "cells": [
  {
   "cell_type": "code",
   "execution_count": null,
   "metadata": {},
   "outputs": [],
   "source": [
    "https://leetcode.com/problems/sum-of-distances-in-tree/submissions/"
   ]
  },
  {
   "cell_type": "code",
   "execution_count": null,
   "metadata": {},
   "outputs": [],
   "source": [
    "class Solution(object):\n",
    "    def sumOfDistancesInTree(self, N, edges):\n",
    "        \"\"\"\n",
    "        :type N: int\n",
    "        :type edges: List[List[int]]\n",
    "        :rtype: List[int]\n",
    "        \"\"\"\n",
    "        if N == 1: return [0] # empty case\n",
    "        \n",
    "        # build adjacent list\n",
    "        adj = {}\n",
    "        for e in edges:\n",
    "            u,v = e\n",
    "            if u not in adj:\n",
    "                adj[u] = set([v])\n",
    "            else:\n",
    "                adj[u].add(v)\n",
    "            if v not in adj:\n",
    "                adj[v] = set([u])\n",
    "            else:\n",
    "                adj[v].add(u)\n",
    "            \n",
    "        # print(adj)\n",
    "        \n",
    "        \n",
    "        count = {}\n",
    "        visited = set([])\n",
    "        def countSubNodes(root):\n",
    "            visited.add(root)\n",
    "            total = sum([countSubNodes(v) for v in adj[root] if v not in visited ]) + 1\n",
    "            count[root] = total\n",
    "            return total\n",
    "        countSubNodes(0)\n",
    "        # print(count)\n",
    "        \n",
    "        dist = {}\n",
    "        visited = set([])\n",
    "        def countSubDist(root):\n",
    "            visited.add(root)\n",
    "            total = sum([countSubDist(v) + count[v] for v in adj[root] if v not in visited])\n",
    "            dist[root] = total\n",
    "            return total\n",
    "        countSubDist(0)\n",
    "        # print(dist)\n",
    "        \n",
    "        visited = set([])\n",
    "        def preorder(root):\n",
    "            visited.add(root)\n",
    "            for v in adj[root]:\n",
    "                if v in visited: continue\n",
    "                # compute relative distance\n",
    "                dist[v] = dist[v] + (dist[root] - dist[v] - count[v]) + (N - count[v])\n",
    "                preorder(v)\n",
    "        preorder(0)\n",
    "        # print(dist)\n",
    "        return [dist[n] for n in dist]\n",
    "                \n",
    "            \n",
    "            "
   ]
  }
 ],
 "metadata": {
  "kernelspec": {
   "display_name": "Python 3",
   "language": "python",
   "name": "python3"
  },
  "language_info": {
   "codemirror_mode": {
    "name": "ipython",
    "version": 3
   },
   "file_extension": ".py",
   "mimetype": "text/x-python",
   "name": "python",
   "nbconvert_exporter": "python",
   "pygments_lexer": "ipython3",
   "version": "3.7.4"
  }
 },
 "nbformat": 4,
 "nbformat_minor": 2
}
