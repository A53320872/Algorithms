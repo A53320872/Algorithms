{
 "cells": [
  {
   "cell_type": "code",
   "execution_count": null,
   "metadata": {},
   "outputs": [],
   "source": [
    "https://leetcode.com/problems/binary-tree-coloring-game/submissions/"
   ]
  },
  {
   "cell_type": "code",
   "execution_count": null,
   "metadata": {},
   "outputs": [],
   "source": [
    "# Definition for a binary tree node.\n",
    "# class TreeNode(object):\n",
    "#     def __init__(self, val=0, left=None, right=None):\n",
    "#         self.val = val\n",
    "#         self.left = left\n",
    "#         self.right = right\n",
    "class Solution(object):\n",
    "    def btreeGameWinningMove(self, root, n, x):\n",
    "        \"\"\"\n",
    "        :type root: TreeNode\n",
    "        :type n: int\n",
    "        :type x: int\n",
    "        :rtype: bool\n",
    "        \"\"\"\n",
    "        pa = {root: None}\n",
    "        def inOrder(root):\n",
    "            if root == None:\n",
    "                return\n",
    "            if root.left != None:\n",
    "                pa[root.left] = root\n",
    "                inOrder(root.left)\n",
    "            if root.right != None:\n",
    "                pa[root.right] = root\n",
    "                inOrder(root.right)\n",
    "        inOrder(root)\n",
    "                \n",
    "        def dfs(node, visited):\n",
    "            visited.add(node.val)\n",
    "            for v in [pa[node], node.left, node.right]:\n",
    "                if (v == None) or (v != None and v.val in visited): continue\n",
    "                dfs(v, visited)\n",
    "        \n",
    "        res = [False]\n",
    "        red = [x]\n",
    "        def find(root):\n",
    "            if root == None:\n",
    "                return\n",
    "            if root.val == red[0]:\n",
    "                r1, r2, r3 = 0, 0, 0\n",
    "                if pa[root] != None:\n",
    "                    visited = set([red[0]])\n",
    "                    dfs(pa[root], visited)\n",
    "                    r1 = len(visited) - 1\n",
    "                if root.left != None:\n",
    "                    visited = set([red[0]])\n",
    "                    dfs(root.left, visited)\n",
    "                    r2 = len(visited) - 1\n",
    "                if root.right != None:\n",
    "                    visited = set([red[0]])\n",
    "                    dfs(root.right, visited)\n",
    "                    r3 = len(visited) - 1\n",
    "                \n",
    "                maximum = max(r1, r2, r3)\n",
    "                if maximum > sum([r1, r2, r3]) - maximum:\n",
    "                    res[0] = True\n",
    "            else:\n",
    "                find(root.left)\n",
    "                find(root.right)\n",
    "        find(root)\n",
    "        return res[0]\n",
    "            "
   ]
  }
 ],
 "metadata": {
  "kernelspec": {
   "display_name": "Python 3",
   "language": "python",
   "name": "python3"
  },
  "language_info": {
   "codemirror_mode": {
    "name": "ipython",
    "version": 3
   },
   "file_extension": ".py",
   "mimetype": "text/x-python",
   "name": "python",
   "nbconvert_exporter": "python",
   "pygments_lexer": "ipython3",
   "version": "3.7.4"
  }
 },
 "nbformat": 4,
 "nbformat_minor": 2
}
