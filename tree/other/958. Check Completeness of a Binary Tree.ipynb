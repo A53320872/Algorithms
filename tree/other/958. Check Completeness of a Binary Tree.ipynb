{
 "cells": [
  {
   "cell_type": "code",
   "execution_count": null,
   "metadata": {},
   "outputs": [],
   "source": [
    "https://leetcode.com/problems/check-completeness-of-a-binary-tree/"
   ]
  },
  {
   "cell_type": "code",
   "execution_count": null,
   "metadata": {},
   "outputs": [],
   "source": [
    "# Definition for a binary tree node.\n",
    "# class TreeNode(object):\n",
    "#     def __init__(self, val=0, left=None, right=None):\n",
    "#         self.val = val\n",
    "#         self.left = left\n",
    "#         self.right = right\n",
    "class Solution(object):\n",
    "    def isCompleteTree(self, root):\n",
    "        \"\"\"\n",
    "        :type root: TreeNode\n",
    "        :rtype: bool\n",
    "        \"\"\"\n",
    "        \n",
    "        maxDepth = 1\n",
    "        head = root\n",
    "        while head.left != None:\n",
    "            head = head.left\n",
    "            maxDepth += 1\n",
    "        maxD = [maxDepth]\n",
    "        \n",
    "        res = [True]\n",
    "        \n",
    "        level = {}\n",
    "        \n",
    "        def preorder(root, d, index):\n",
    "            if root == None:\n",
    "                return\n",
    "            \n",
    "            if d > maxD[0]: \n",
    "                res[0] = True\n",
    "            \n",
    "            preorder(root.left, d + 1, 2 * index)\n",
    "            \n",
    "            if d not in level:\n",
    "                if index == 0:\n",
    "                    level[d] = [index]\n",
    "                else:\n",
    "                    res[0] = False\n",
    "            else:\n",
    "                if index == level[d][-1] + 1:\n",
    "                    level[d].append(index)\n",
    "                else:\n",
    "                    res[0] = False\n",
    "            \n",
    "            preorder(root.right, d + 1, 2 * index + 1)\n",
    "        preorder(root, 1, 0)\n",
    "        for d in level:\n",
    "            if d == maxDepth: continue\n",
    "            if 2**(d-1) != len(level[d]):\n",
    "                return False\n",
    "        return res[0]\n",
    "            \n",
    "            "
   ]
  }
 ],
 "metadata": {
  "kernelspec": {
   "display_name": "Python 3",
   "language": "python",
   "name": "python3"
  },
  "language_info": {
   "codemirror_mode": {
    "name": "ipython",
    "version": 3
   },
   "file_extension": ".py",
   "mimetype": "text/x-python",
   "name": "python",
   "nbconvert_exporter": "python",
   "pygments_lexer": "ipython3",
   "version": "3.7.4"
  }
 },
 "nbformat": 4,
 "nbformat_minor": 2
}
