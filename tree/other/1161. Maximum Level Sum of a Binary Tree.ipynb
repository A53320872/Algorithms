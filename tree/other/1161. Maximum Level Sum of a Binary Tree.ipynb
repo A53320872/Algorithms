{
 "cells": [
  {
   "cell_type": "code",
   "execution_count": null,
   "metadata": {},
   "outputs": [],
   "source": [
    "https://leetcode.com/problems/maximum-level-sum-of-a-binary-tree/"
   ]
  },
  {
   "cell_type": "code",
   "execution_count": null,
   "metadata": {},
   "outputs": [],
   "source": [
    "# Definition for a binary tree node.\n",
    "# class TreeNode(object):\n",
    "#     def __init__(self, val=0, left=None, right=None):\n",
    "#         self.val = val\n",
    "#         self.left = left\n",
    "#         self.right = right\n",
    "class Solution(object):\n",
    "    def maxLevelSum(self, root):\n",
    "        \"\"\"\n",
    "        :type root: TreeNode\n",
    "        :rtype: int\n",
    "        \"\"\"\n",
    "        if root == None:\n",
    "            return \n",
    "    \n",
    "        level = {}\n",
    "        def preorder(root, d):\n",
    "            if root == None:\n",
    "                return\n",
    "            \n",
    "            if d in level:\n",
    "                level[d] += root.val\n",
    "            else:\n",
    "                level[d] = root.val\n",
    "                \n",
    "            preorder(root.left, d+1)\n",
    "            preorder(root.right, d+1)\n",
    "        preorder(root, 1)\n",
    "        maxSum, minLevel = float(\"-inf\"), float(\"inf\")\n",
    "        for d in level:\n",
    "            if level[d] > maxSum:\n",
    "                maxSum = level[d]\n",
    "                minLevel = d\n",
    "            elif level[d] == maxSum:\n",
    "                minLevel = min(minLevel, d)\n",
    "        return minLevel"
   ]
  }
 ],
 "metadata": {
  "kernelspec": {
   "display_name": "Python 3",
   "language": "python",
   "name": "python3"
  },
  "language_info": {
   "codemirror_mode": {
    "name": "ipython",
    "version": 3
   },
   "file_extension": ".py",
   "mimetype": "text/x-python",
   "name": "python",
   "nbconvert_exporter": "python",
   "pygments_lexer": "ipython3",
   "version": "3.7.4"
  }
 },
 "nbformat": 4,
 "nbformat_minor": 2
}
