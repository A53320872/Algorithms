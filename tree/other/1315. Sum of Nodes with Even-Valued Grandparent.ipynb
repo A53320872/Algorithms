{
 "cells": [
  {
   "cell_type": "code",
   "execution_count": null,
   "metadata": {},
   "outputs": [],
   "source": [
    "https://leetcode.com/problems/sum-of-nodes-with-even-valued-grandparent/submissions/"
   ]
  },
  {
   "cell_type": "code",
   "execution_count": null,
   "metadata": {},
   "outputs": [],
   "source": [
    "# Definition for a binary tree node.\n",
    "# class TreeNode(object):\n",
    "#     def __init__(self, val=0, left=None, right=None):\n",
    "#         self.val = val\n",
    "#         self.left = left\n",
    "#         self.right = right\n",
    "class Solution(object):\n",
    "    def sumEvenGrandparent(self, root):\n",
    "        \"\"\"\n",
    "        :type root: TreeNode\n",
    "        :rtype: int\n",
    "        \"\"\"\n",
    "        total = [0]\n",
    "        def preorder(root, pa, gran):\n",
    "            if root == None:\n",
    "                return\n",
    "            if gran == True:\n",
    "                total[0] += root.val\n",
    "            if pa == True:\n",
    "                if root.val % 2 == 0:\n",
    "                    preorder(root.left, True, True)\n",
    "                    preorder(root.right, True, True)\n",
    "                else:\n",
    "                    preorder(root.left, False, True)\n",
    "                    preorder(root.right, False, True)\n",
    "            else:\n",
    "                if root.val % 2 == 0:\n",
    "                    preorder(root.left, True, False)\n",
    "                    preorder(root.right, True, False)\n",
    "                else:\n",
    "                    preorder(root.left, False, False)\n",
    "                    preorder(root.right, False, False)\n",
    "        preorder(root, False, False)\n",
    "        return total[0]\n",
    "\n",
    "        "
   ]
  }
 ],
 "metadata": {
  "kernelspec": {
   "display_name": "Python 3",
   "language": "python",
   "name": "python3"
  },
  "language_info": {
   "codemirror_mode": {
    "name": "ipython",
    "version": 3
   },
   "file_extension": ".py",
   "mimetype": "text/x-python",
   "name": "python",
   "nbconvert_exporter": "python",
   "pygments_lexer": "ipython3",
   "version": "3.7.4"
  }
 },
 "nbformat": 4,
 "nbformat_minor": 2
}
