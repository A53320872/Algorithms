{
 "cells": [
  {
   "cell_type": "code",
   "execution_count": null,
   "metadata": {},
   "outputs": [],
   "source": [
    "https://leetcode.com/problems/minimum-cost-tree-from-leaf-values/"
   ]
  },
  {
   "cell_type": "code",
   "execution_count": null,
   "metadata": {},
   "outputs": [],
   "source": [
    "class Solution(object):\n",
    "    def mctFromLeafValues(self, arr):\n",
    "        \"\"\"\n",
    "        :type arr: List[int]\n",
    "        :rtype: int\n",
    "        \"\"\"\n",
    "        res = 0\n",
    "        mono = [float(\"inf\")]\n",
    "        for n in arr:\n",
    "            if n <= mono[len(mono)-1]:\n",
    "                mono.append(n)\n",
    "                continue\n",
    "            while n > mono[len(mono)-1]:\n",
    "                res += mono[len(mono)-1] * min(mono[len(mono)-2], n)\n",
    "                mono.pop()\n",
    "            mono.append(n)\n",
    "        for i in range(1, len(mono)-1):\n",
    "            res += mono[i] * mono[i+1]\n",
    "        return res\n",
    "        "
   ]
  }
 ],
 "metadata": {
  "kernelspec": {
   "display_name": "Python 3",
   "language": "python",
   "name": "python3"
  },
  "language_info": {
   "codemirror_mode": {
    "name": "ipython",
    "version": 3
   },
   "file_extension": ".py",
   "mimetype": "text/x-python",
   "name": "python",
   "nbconvert_exporter": "python",
   "pygments_lexer": "ipython3",
   "version": "3.7.4"
  }
 },
 "nbformat": 4,
 "nbformat_minor": 2
}
