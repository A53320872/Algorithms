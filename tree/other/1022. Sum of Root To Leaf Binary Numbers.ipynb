{
 "cells": [
  {
   "cell_type": "code",
   "execution_count": null,
   "metadata": {},
   "outputs": [],
   "source": [
    "https://leetcode.com/problems/sum-of-root-to-leaf-binary-numbers/"
   ]
  },
  {
   "cell_type": "code",
   "execution_count": null,
   "metadata": {},
   "outputs": [],
   "source": [
    "# Definition for a binary tree node.\n",
    "# class TreeNode(object):\n",
    "#     def __init__(self, val=0, left=None, right=None):\n",
    "#         self.val = val\n",
    "#         self.left = left\n",
    "#         self.right = right\n",
    "class Solution(object):\n",
    "    def sumRootToLeaf(self, root):\n",
    "        \"\"\"\n",
    "        :type root: TreeNode\n",
    "        :rtype: int\n",
    "        \"\"\"\n",
    "        res = [0]\n",
    "        def preorder(root, s):\n",
    "            if root == None:\n",
    "                return\n",
    "            if root.left == None and root.right == None:\n",
    "                new_s = s + str(root.val)\n",
    "                res[0] += int(new_s, 2)\n",
    "                # res[0] += sum([ 2 ** (len(new_s) - i - 1) * int(d) for i,d in enumerate(new_s)])\n",
    "                return\n",
    "            preorder(root.left, s + str(root.val))\n",
    "            preorder(root.right, s + str(root.val))\n",
    "        preorder(root, \"\")\n",
    "        return res[0]"
   ]
  }
 ],
 "metadata": {
  "kernelspec": {
   "display_name": "Python 3",
   "language": "python",
   "name": "python3"
  },
  "language_info": {
   "codemirror_mode": {
    "name": "ipython",
    "version": 3
   },
   "file_extension": ".py",
   "mimetype": "text/x-python",
   "name": "python",
   "nbconvert_exporter": "python",
   "pygments_lexer": "ipython3",
   "version": "3.7.4"
  }
 },
 "nbformat": 4,
 "nbformat_minor": 2
}
