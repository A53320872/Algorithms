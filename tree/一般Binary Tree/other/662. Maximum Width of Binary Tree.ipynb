{
 "cells": [
  {
   "cell_type": "code",
   "execution_count": null,
   "metadata": {},
   "outputs": [],
   "source": [
    "https://leetcode.com/problems/maximum-width-of-binary-tree/"
   ]
  },
  {
   "cell_type": "code",
   "execution_count": null,
   "metadata": {},
   "outputs": [],
   "source": [
    "# Definition for a binary tree node.\n",
    "# class TreeNode(object):\n",
    "#     def __init__(self, val=0, left=None, right=None):\n",
    "#         self.val = val\n",
    "#         self.left = left\n",
    "#         self.right = right\n",
    "class Solution(object):\n",
    "    def widthOfBinaryTree(self, root):\n",
    "        \"\"\"\n",
    "        :type root: TreeNode\n",
    "        :rtype: int\n",
    "        \"\"\"\n",
    "        mem = {}\n",
    "        def dfs(root, level, index):\n",
    "            if root == None:\n",
    "                return \n",
    "            \n",
    "            if level not in mem:\n",
    "                mem[level] = (index, index)\n",
    "            else:\n",
    "                mem[level] = (min(index, mem[level][0]), max(index, mem[level][1]))\n",
    "                \n",
    "            dfs(root.left, level+1, index*2-1)\n",
    "            dfs(root.right, level+1, index*2)\n",
    "            \n",
    "        dfs(root, 0, 1)\n",
    "        return max([mem[l][1] - mem[l][0] + 1 for l in mem])\n",
    "            \n",
    "        "
   ]
  }
 ],
 "metadata": {
  "kernelspec": {
   "display_name": "Python 3",
   "language": "python",
   "name": "python3"
  },
  "language_info": {
   "codemirror_mode": {
    "name": "ipython",
    "version": 3
   },
   "file_extension": ".py",
   "mimetype": "text/x-python",
   "name": "python",
   "nbconvert_exporter": "python",
   "pygments_lexer": "ipython3",
   "version": "3.7.4"
  }
 },
 "nbformat": 4,
 "nbformat_minor": 2
}
