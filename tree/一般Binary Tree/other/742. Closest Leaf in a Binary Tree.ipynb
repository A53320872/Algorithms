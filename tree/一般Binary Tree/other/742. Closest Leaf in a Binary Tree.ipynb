{
 "cells": [
  {
   "cell_type": "code",
   "execution_count": null,
   "metadata": {},
   "outputs": [],
   "source": [
    "https://leetcode.com/problems/closest-leaf-in-a-binary-tree/"
   ]
  },
  {
   "cell_type": "code",
   "execution_count": null,
   "metadata": {},
   "outputs": [],
   "source": [
    "# Definition for a binary tree node.\n",
    "# class TreeNode(object):\n",
    "#     def __init__(self, val=0, left=None, right=None):\n",
    "#         self.val = val\n",
    "#         self.left = left\n",
    "#         self.right = right\n",
    "class Solution(object):\n",
    "    def findClosestLeaf(self, root, k):\n",
    "        \"\"\"\n",
    "        :type root: TreeNode\n",
    "        :type k: int\n",
    "        :rtype: int\n",
    "        \"\"\"\n",
    "            \n",
    "        pa = {root: root}\n",
    "        start = [root]\n",
    "        def preOrder(root):\n",
    "            if root == None: return\n",
    "            if root.val == k:\n",
    "                start[0] = root\n",
    "            if root.left != None:\n",
    "                pa[root.left] = root\n",
    "                preOrder(root.left)\n",
    "            if root.right != None:\n",
    "                pa[root.right] = root\n",
    "                preOrder(root.right)\n",
    "        preOrder(root)\n",
    "        \n",
    "        res = []\n",
    "        visited = set([])\n",
    "        def dfs(root, c):\n",
    "            if root == None: return\n",
    "            if root.left == None and root.right == None:\n",
    "                res.append((c, root.val))\n",
    "            visited.add(root)\n",
    "            if root.left not in visited and root.left != None:\n",
    "                dfs(root.left, c+1)\n",
    "            if root.right not in visited and root.right != None:\n",
    "                dfs(root.right, c+1)\n",
    "            if pa[root] not in visited:\n",
    "                dfs(pa[root], c+1)\n",
    "        dfs(start[0], 0)\n",
    "        \n",
    "        return min(res)[1]\n",
    "        \n",
    "        \n",
    "        "
   ]
  }
 ],
 "metadata": {
  "kernelspec": {
   "display_name": "Python 3",
   "language": "python",
   "name": "python3"
  },
  "language_info": {
   "codemirror_mode": {
    "name": "ipython",
    "version": 3
   },
   "file_extension": ".py",
   "mimetype": "text/x-python",
   "name": "python",
   "nbconvert_exporter": "python",
   "pygments_lexer": "ipython3",
   "version": "3.7.4"
  }
 },
 "nbformat": 4,
 "nbformat_minor": 2
}
