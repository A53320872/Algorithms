{
 "cells": [
  {
   "cell_type": "code",
   "execution_count": null,
   "metadata": {},
   "outputs": [],
   "source": [
    "https://leetcode.com/problems/cousins-in-binary-tree/"
   ]
  },
  {
   "cell_type": "code",
   "execution_count": null,
   "metadata": {},
   "outputs": [],
   "source": [
    "# Definition for a binary tree node.\n",
    "# class TreeNode(object):\n",
    "#     def __init__(self, val=0, left=None, right=None):\n",
    "#         self.val = val\n",
    "#         self.left = left\n",
    "#         self.right = right\n",
    "class Solution(object):\n",
    "    def isCousins(self, root, x, y):\n",
    "        \"\"\"\n",
    "        :type root: TreeNode\n",
    "        :type x: int\n",
    "        :type y: int\n",
    "        :rtype: bool\n",
    "        \"\"\"\n",
    "        \n",
    "        x_pa = [(-1, -1)]\n",
    "        y_pa = [(-1, -1)]\n",
    "        \n",
    "        def inOrder(root, d):\n",
    "            if root == None: return\n",
    "            \n",
    "            if root.left != None:\n",
    "                if root.left.val == x:\n",
    "                    x_pa[0] = (root.val, d+1)\n",
    "                elif root.left.val == y:\n",
    "                    y_pa[0] = (root.val, d+1)\n",
    "                \n",
    "                inOrder(root.left, d+1)\n",
    "                \n",
    "            if root.right != None:\n",
    "                if root.right.val == x:\n",
    "                    x_pa[0] = (root.val, d+1)\n",
    "                elif root.right.val == y:\n",
    "                    y_pa[0] = (root.val, d+1)\n",
    "                \n",
    "                inOrder(root.right, d+1)\n",
    "        inOrder(root, 0)\n",
    "        return True if x_pa[0][0] != y_pa[0][0] and x_pa[0][1] == y_pa[0][1] else False\n",
    "        \n",
    "                \n",
    "        "
   ]
  }
 ],
 "metadata": {
  "kernelspec": {
   "display_name": "Python 3",
   "language": "python",
   "name": "python3"
  },
  "language_info": {
   "codemirror_mode": {
    "name": "ipython",
    "version": 3
   },
   "file_extension": ".py",
   "mimetype": "text/x-python",
   "name": "python",
   "nbconvert_exporter": "python",
   "pygments_lexer": "ipython3",
   "version": "3.7.4"
  }
 },
 "nbformat": 4,
 "nbformat_minor": 2
}
