{
 "cells": [
  {
   "cell_type": "code",
   "execution_count": null,
   "metadata": {},
   "outputs": [],
   "source": [
    "https://leetcode.com/problems/construct-binary-tree-from-string/"
   ]
  },
  {
   "cell_type": "code",
   "execution_count": null,
   "metadata": {},
   "outputs": [],
   "source": [
    "# Definition for a binary tree node.\n",
    "# class TreeNode(object):\n",
    "#     def __init__(self, val=0, left=None, right=None):\n",
    "#         self.val = val\n",
    "#         self.left = left\n",
    "#         self.right = right\n",
    "class Solution(object):\n",
    "    def str2tree(self, s):\n",
    "        \"\"\"\n",
    "        :type s: str\n",
    "        :rtype: TreeNode\n",
    "        \"\"\"\n",
    "        stack = []\n",
    "        tmp = \"\"\n",
    "        for c in s:\n",
    "            if c not in \"()\": tmp += c\n",
    "                \n",
    "            elif c == \"(\":\n",
    "                if tmp == \"\": continue\n",
    "                node = TreeNode(int(tmp))\n",
    "                stack.append(node)\n",
    "                tmp = \"\"\n",
    "            elif c == \")\":\n",
    "                if tmp == \"\":\n",
    "                    child = stack.pop()\n",
    "                    parent = stack.pop()\n",
    "                else:\n",
    "                    child = TreeNode(int(tmp))\n",
    "                    parent = stack.pop()\n",
    "                if parent.left == None:\n",
    "                    parent.left = child\n",
    "                else:\n",
    "                    parent.right =  child\n",
    "                stack.append(parent)\n",
    "                tmp = \"\"\n",
    "        if tmp != \"\": return TreeNode(int(tmp))\n",
    "        if stack == []: return None\n",
    "        return stack[0] \n",
    "                \n",
    "        "
   ]
  }
 ],
 "metadata": {
  "kernelspec": {
   "display_name": "Python 3",
   "language": "python",
   "name": "python3"
  },
  "language_info": {
   "codemirror_mode": {
    "name": "ipython",
    "version": 3
   },
   "file_extension": ".py",
   "mimetype": "text/x-python",
   "name": "python",
   "nbconvert_exporter": "python",
   "pygments_lexer": "ipython3",
   "version": "3.7.4"
  }
 },
 "nbformat": 4,
 "nbformat_minor": 2
}
