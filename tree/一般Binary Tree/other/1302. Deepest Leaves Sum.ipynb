{
 "cells": [
  {
   "cell_type": "code",
   "execution_count": null,
   "metadata": {},
   "outputs": [],
   "source": [
    "# Definition for a binary tree node.\n",
    "# class TreeNode(object):\n",
    "#     def __init__(self, val=0, left=None, right=None):\n",
    "#         self.val = val\n",
    "#         self.left = left\n",
    "#         self.right = right\n",
    "class Solution(object):\n",
    "    def deepestLeavesSum(self, root):\n",
    "        \"\"\"\n",
    "        :type root: TreeNode\n",
    "        :rtype: int\n",
    "        \"\"\"\n",
    "        level = {}\n",
    "        def bfs(root, l):\n",
    "            if root == None:\n",
    "                return\n",
    "            \n",
    "            if root.left == None and root.right == None:\n",
    "                if l not in level:\n",
    "                    level[l] = root.val\n",
    "                else: \n",
    "                    level[l] += root.val\n",
    "            \n",
    "            bfs(root.left, l + 1)\n",
    "            bfs(root.right, l + 1)\n",
    "        bfs(root, 0)\n",
    "        return level[max([l for l in level])]\n",
    "        "
   ]
  }
 ],
 "metadata": {
  "kernelspec": {
   "display_name": "Python 3",
   "language": "python",
   "name": "python3"
  },
  "language_info": {
   "codemirror_mode": {
    "name": "ipython",
    "version": 3
   },
   "file_extension": ".py",
   "mimetype": "text/x-python",
   "name": "python",
   "nbconvert_exporter": "python",
   "pygments_lexer": "ipython3",
   "version": "3.7.4"
  }
 },
 "nbformat": 4,
 "nbformat_minor": 2
}
