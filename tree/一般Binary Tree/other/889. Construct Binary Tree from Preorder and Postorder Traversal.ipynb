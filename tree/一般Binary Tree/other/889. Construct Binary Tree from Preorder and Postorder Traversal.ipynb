{
 "cells": [
  {
   "cell_type": "code",
   "execution_count": null,
   "metadata": {},
   "outputs": [],
   "source": [
    "https://leetcode.com/problems/construct-binary-tree-from-preorder-and-postorder-traversal/"
   ]
  },
  {
   "cell_type": "code",
   "execution_count": null,
   "metadata": {},
   "outputs": [],
   "source": [
    "# Definition for a binary tree node.\n",
    "# class TreeNode(object):\n",
    "#     def __init__(self, val=0, left=None, right=None):\n",
    "#         self.val = val\n",
    "#         self.left = left\n",
    "#         self.right = right\n",
    "class Solution(object):\n",
    "    def constructFromPrePost(self, pre, post):\n",
    "        \"\"\"\n",
    "        :type pre: List[int]\n",
    "        :type post: List[int]\n",
    "        :rtype: TreeNode\n",
    "        \"\"\"\n",
    "        indexPre, indexPost = {}, {}\n",
    "        for i in range(len(pre)):\n",
    "            indexPre[pre[i]] = i\n",
    "            indexPost[post[i]] = i\n",
    "        \n",
    "        def build(pre, post, pre_i, pre_j, post_i, post_j):\n",
    "            \n",
    "            length = pre_j - pre_i + 1\n",
    "            \n",
    "            if length == 0: return None\n",
    "            \n",
    "            root = TreeNode(pre[pre_i])\n",
    "            if length == 1: return root\n",
    "            \n",
    "            l_child = pre[pre_i+1]\n",
    "            r_child = post[post_j-1]\n",
    "            \n",
    "            l = build(pre, post, pre_i + 1, indexPre[r_child] - 1, post_i, indexPost[l_child])\n",
    "            r = build(pre, post, indexPre[r_child], pre_j, indexPost[l_child] + 1, post_j - 1)\n",
    "            \n",
    "            root.left = l\n",
    "            root.right = r\n",
    "            \n",
    "            return root\n",
    "        \n",
    "        return build(pre, post, 0, len(pre) - 1, 0, len(post) - 1)\n",
    "        \n",
    "            \n",
    "            \n",
    "        "
   ]
  }
 ],
 "metadata": {
  "kernelspec": {
   "display_name": "Python 3",
   "language": "python",
   "name": "python3"
  },
  "language_info": {
   "codemirror_mode": {
    "name": "ipython",
    "version": 3
   },
   "file_extension": ".py",
   "mimetype": "text/x-python",
   "name": "python",
   "nbconvert_exporter": "python",
   "pygments_lexer": "ipython3",
   "version": "3.7.4"
  }
 },
 "nbformat": 4,
 "nbformat_minor": 2
}
