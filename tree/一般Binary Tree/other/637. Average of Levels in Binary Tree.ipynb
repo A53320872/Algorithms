{
 "cells": [
  {
   "cell_type": "code",
   "execution_count": null,
   "metadata": {},
   "outputs": [],
   "source": [
    "https://leetcode.com/problems/average-of-levels-in-binary-tree/submissions/"
   ]
  },
  {
   "cell_type": "code",
   "execution_count": null,
   "metadata": {},
   "outputs": [],
   "source": [
    "# Definition for a binary tree node.\n",
    "# class TreeNode(object):\n",
    "#     def __init__(self, val=0, left=None, right=None):\n",
    "#         self.val = val\n",
    "#         self.left = left\n",
    "#         self.right = right\n",
    "class Solution(object):\n",
    "    def averageOfLevels(self, root):\n",
    "        \"\"\"\n",
    "        :type root: TreeNode\n",
    "        :rtype: List[float]\n",
    "        \"\"\"\n",
    "        level = {}\n",
    "        maxLevel = [0]\n",
    "        def preorder(root, d):\n",
    "            if root == None:\n",
    "                return\n",
    "            if d not in level:\n",
    "                level[d] = [root.val, 1]\n",
    "            else:\n",
    "                level[d][0] += root.val\n",
    "                level[d][1] += 1\n",
    "            maxLevel[0] = max(d, maxLevel[0])\n",
    "            \n",
    "            preorder(root.left, d + 1)\n",
    "            preorder(root.right, d + 1)\n",
    "            \n",
    "        preorder(root, 0)\n",
    "        \n",
    "        res = []\n",
    "        for l in range(maxLevel[0] + 1):\n",
    "            res.append(level[l][0]*1.0 / level[l][1])\n",
    "        return res\n",
    "        \n",
    "        \n",
    "            "
   ]
  }
 ],
 "metadata": {
  "kernelspec": {
   "display_name": "Python 3",
   "language": "python",
   "name": "python3"
  },
  "language_info": {
   "codemirror_mode": {
    "name": "ipython",
    "version": 3
   },
   "file_extension": ".py",
   "mimetype": "text/x-python",
   "name": "python",
   "nbconvert_exporter": "python",
   "pygments_lexer": "ipython3",
   "version": "3.7.4"
  }
 },
 "nbformat": 4,
 "nbformat_minor": 2
}
