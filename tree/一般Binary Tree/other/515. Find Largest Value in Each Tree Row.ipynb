{
 "cells": [
  {
   "cell_type": "code",
   "execution_count": null,
   "metadata": {},
   "outputs": [],
   "source": [
    "https://leetcode.com/problems/find-largest-value-in-each-tree-row/submissions/"
   ]
  },
  {
   "cell_type": "code",
   "execution_count": null,
   "metadata": {},
   "outputs": [],
   "source": [
    "# Definition for a binary tree node.\n",
    "# class TreeNode(object):\n",
    "#     def __init__(self, val=0, left=None, right=None):\n",
    "#         self.val = val\n",
    "#         self.left = left\n",
    "#         self.right = right\n",
    "class Solution(object):\n",
    "    def largestValues(self, root):\n",
    "        \"\"\"\n",
    "        :type root: TreeNode\n",
    "        :rtype: List[int]\n",
    "        \"\"\"\n",
    "        row = {}\n",
    "        def preOrder(root, d):\n",
    "            if root == None:\n",
    "                return\n",
    "            if d not in row:\n",
    "                row[d] = root.val\n",
    "            else:\n",
    "                row[d] = max(root.val, row[d])\n",
    "            \n",
    "            preOrder(root.left, d+1)\n",
    "            preOrder(root.right, d+1)\n",
    "        preOrder(root, 0)\n",
    "        tmp = [(k, row[k]) for k in row]\n",
    "        tmp.sort(key=lambda x:x[0])\n",
    "        res = [d[1] for d in tmp]\n",
    "        return res\n",
    "            "
   ]
  }
 ],
 "metadata": {
  "kernelspec": {
   "display_name": "Python 3",
   "language": "python",
   "name": "python3"
  },
  "language_info": {
   "codemirror_mode": {
    "name": "ipython",
    "version": 3
   },
   "file_extension": ".py",
   "mimetype": "text/x-python",
   "name": "python",
   "nbconvert_exporter": "python",
   "pygments_lexer": "ipython3",
   "version": "3.7.4"
  }
 },
 "nbformat": 4,
 "nbformat_minor": 2
}
