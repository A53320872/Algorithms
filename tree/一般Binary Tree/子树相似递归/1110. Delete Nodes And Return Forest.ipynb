{
 "cells": [
  {
   "cell_type": "code",
   "execution_count": null,
   "metadata": {},
   "outputs": [],
   "source": [
    "https://leetcode.com/problems/delete-nodes-and-return-forest/submissions/"
   ]
  },
  {
   "cell_type": "code",
   "execution_count": null,
   "metadata": {},
   "outputs": [],
   "source": [
    "# Definition for a binary tree node.\n",
    "# class TreeNode(object):\n",
    "#     def __init__(self, val=0, left=None, right=None):\n",
    "#         self.val = val\n",
    "#         self.left = left\n",
    "#         self.right = right\n",
    "class Solution(object):\n",
    "    def delNodes(self, root, to_delete):\n",
    "        \"\"\"\n",
    "        :type root: TreeNode\n",
    "        :type to_delete: List[int]\n",
    "        :rtype: List[TreeNode]\n",
    "        \"\"\"\n",
    "        deletes = set(to_delete)\n",
    "        first = [root.val]\n",
    "        res = []\n",
    "        \n",
    "        def postOrder(root):\n",
    "            if root == None: return None\n",
    "            \n",
    "            l, r = postOrder(root.left), postOrder(root.right)\n",
    "            \n",
    "            if root.val in deletes:\n",
    "                if l != None: res.append(l)\n",
    "                if r != None: res.append(r)\n",
    "                return None\n",
    "            \n",
    "            new = TreeNode(root.val)\n",
    "            new.left, new.right = l, r\n",
    "            \n",
    "            if root.val == first[0]: res.append(new)\n",
    "            \n",
    "            return new\n",
    "        \n",
    "        postOrder(root)\n",
    "        \n",
    "        return res"
   ]
  }
 ],
 "metadata": {
  "kernelspec": {
   "display_name": "Python 3",
   "language": "python",
   "name": "python3"
  },
  "language_info": {
   "codemirror_mode": {
    "name": "ipython",
    "version": 3
   },
   "file_extension": ".py",
   "mimetype": "text/x-python",
   "name": "python",
   "nbconvert_exporter": "python",
   "pygments_lexer": "ipython3",
   "version": "3.7.4"
  }
 },
 "nbformat": 4,
 "nbformat_minor": 2
}
