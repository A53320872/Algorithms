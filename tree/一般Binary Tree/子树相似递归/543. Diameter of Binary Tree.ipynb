{
 "cells": [
  {
   "cell_type": "markdown",
   "metadata": {},
   "source": [
    "dfs to find each nodes longest length, keep saving the diameter, then return the maximun one"
   ]
  },
  {
   "cell_type": "code",
   "execution_count": null,
   "metadata": {},
   "outputs": [],
   "source": [
    "# Definition for a binary tree node.\n",
    "# class TreeNode(object):\n",
    "#     def __init__(self, val=0, left=None, right=None):\n",
    "#         self.val = val\n",
    "#         self.left = left\n",
    "#         self.right = right\n",
    "class Solution(object):\n",
    "    def diameterOfBinaryTree(self, root):\n",
    "        \"\"\"\n",
    "        :type root: TreeNode\n",
    "        :rtype: int\n",
    "        \"\"\"\n",
    "        diameterStore = [0]\n",
    "        def recur(root):\n",
    "            if root == None:\n",
    "                return 0\n",
    "            l = recur(root.left)\n",
    "            r = recur(root.right)\n",
    "            \n",
    "            maxLen = max(l, r) + 1\n",
    "            diameterStore.append(l + r)\n",
    "            \n",
    "            return maxLen\n",
    "        \n",
    "        recur(root)\n",
    "        \n",
    "        return max(diameterStore)\n",
    "            "
   ]
  }
 ],
 "metadata": {
  "kernelspec": {
   "display_name": "Python 3",
   "language": "python",
   "name": "python3"
  },
  "language_info": {
   "codemirror_mode": {
    "name": "ipython",
    "version": 3
   },
   "file_extension": ".py",
   "mimetype": "text/x-python",
   "name": "python",
   "nbconvert_exporter": "python",
   "pygments_lexer": "ipython3",
   "version": "3.7.4"
  }
 },
 "nbformat": 4,
 "nbformat_minor": 2
}
