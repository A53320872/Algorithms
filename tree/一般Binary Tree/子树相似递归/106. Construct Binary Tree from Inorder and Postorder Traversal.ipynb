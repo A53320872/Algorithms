{
 "cells": [
  {
   "cell_type": "code",
   "execution_count": null,
   "metadata": {},
   "outputs": [],
   "source": [
    "这道题目是利用前、后序遍历的性质，来构建树\n",
    "已知给定的前序遍历和后序遍历序列，找到左子树的前序遍历和后序遍历序列，递归进行即可。\n",
    "\n",
    "方法2是对两个序列分片操作后传入子树，时间复杂度会更高\n",
    "方法1是记录下子树的开始和结束索引，不需要分片操作，时间更快。\n"
   ]
  },
  {
   "cell_type": "code",
   "execution_count": null,
   "metadata": {},
   "outputs": [],
   "source": [
    "# Definition for a binary tree node.\n",
    "# class TreeNode(object):\n",
    "#     def __init__(self, x):\n",
    "#         self.val = x\n",
    "#         self.left = None\n",
    "#         self.right = None\n",
    "\n",
    "class Solution(object):\n",
    "    def buildTree(self, inorder, postorder):\n",
    "        \"\"\"\n",
    "        :type inorder: List[int]\n",
    "        :type postorder: List[int]\n",
    "        :rtype: TreeNode\n",
    "        \"\"\"\n",
    "#         方法1：\n",
    "        def check(in_s, in_e, po_s, po_e):\n",
    "            # print(in_s, in_e, po_s, po_e)\n",
    "            if in_s < 0 or in_s >= len(inorder) or po_s < 0 or po_e >= len(postorder): return None \n",
    "            if in_s > in_e or po_s > po_e: return None\n",
    "            \n",
    "            root_val = postorder[po_e]\n",
    "            index = inorder.index(root_val)\n",
    "            root = TreeNode(root_val)\n",
    "            \n",
    "            l_len = index-in_s\n",
    "            \n",
    "            root.left = check(in_s, index-1, po_s, po_s+l_len-1)\n",
    "            root.right = check(index+1, in_e, po_s+l_len, po_e-1)\n",
    "            \n",
    "            return root\n",
    "        return check(0, len(inorder)-1, 0, len(postorder)-1)\n",
    "#         方法2：\n",
    "        def check(inorder, postorder):\n",
    "            if inorder == [] or postorder == []: return None\n",
    "            \n",
    "            root_val = postorder[-1]\n",
    "            index = inorder.index(root_val)\n",
    "            root = TreeNode(root_val)\n",
    "            \n",
    "            l_len = index\n",
    "            r_len = len(inorder)-index-1\n",
    "        \n",
    "            root.left = check(inorder[:index], postorder[:l_len])\n",
    "            root.right = check(inorder[index+1:], postorder[l_len:-1])\n",
    "            \n",
    "            return root\n",
    "        return check(inorder, postorder)\n"
   ]
  }
 ],
 "metadata": {
  "kernelspec": {
   "display_name": "Python 3",
   "language": "python",
   "name": "python3"
  },
  "language_info": {
   "codemirror_mode": {
    "name": "ipython",
    "version": 3
   },
   "file_extension": ".py",
   "mimetype": "text/x-python",
   "name": "python",
   "nbconvert_exporter": "python",
   "pygments_lexer": "ipython3",
   "version": "3.7.4"
  }
 },
 "nbformat": 4,
 "nbformat_minor": 2
}
