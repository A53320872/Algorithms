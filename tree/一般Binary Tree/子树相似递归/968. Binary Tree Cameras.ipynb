{
 "cells": [
  {
   "cell_type": "code",
   "execution_count": null,
   "metadata": {},
   "outputs": [],
   "source": [
    "https://leetcode.com/problems/binary-tree-cameras/submissions/"
   ]
  },
  {
   "cell_type": "code",
   "execution_count": null,
   "metadata": {},
   "outputs": [],
   "source": [
    "# Definition for a binary tree node.\n",
    "# class TreeNode(object):\n",
    "#     def __init__(self, val=0, left=None, right=None):\n",
    "#         self.val = val\n",
    "#         self.left = left\n",
    "#         self.right = right\n",
    "class Solution(object):\n",
    "    def minCameraCover(self, root):\n",
    "        \"\"\"\n",
    "        :type root: TreeNode\n",
    "        :rtype: int\n",
    "        \"\"\"\n",
    "        # covered:1, camera:2, covered but no camera:3\n",
    "        res = [0]\n",
    "        def postOrder(root):\n",
    "            if root == None:\n",
    "                return 1\n",
    "            \n",
    "            l = postOrder(root.left)\n",
    "            r = postOrder(root.right)\n",
    "            \n",
    "            if l == 3 or r == 3:\n",
    "                res[0] += 1\n",
    "                return 2\n",
    "            if l == 2 or r == 2:\n",
    "                return 1\n",
    "            return 3\n",
    "        \n",
    "        root_state = postOrder(root)\n",
    "        if root_state == 3:\n",
    "            res[0] += 1\n",
    "        return res[0]"
   ]
  }
 ],
 "metadata": {
  "kernelspec": {
   "display_name": "Python 3",
   "language": "python",
   "name": "python3"
  },
  "language_info": {
   "codemirror_mode": {
    "name": "ipython",
    "version": 3
   },
   "file_extension": ".py",
   "mimetype": "text/x-python",
   "name": "python",
   "nbconvert_exporter": "python",
   "pygments_lexer": "ipython3",
   "version": "3.7.4"
  }
 },
 "nbformat": 4,
 "nbformat_minor": 2
}
