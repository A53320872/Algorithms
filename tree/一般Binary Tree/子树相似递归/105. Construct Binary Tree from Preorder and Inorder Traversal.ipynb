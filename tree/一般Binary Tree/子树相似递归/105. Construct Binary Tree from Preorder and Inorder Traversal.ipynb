{
 "cells": [
  {
   "cell_type": "code",
   "execution_count": null,
   "metadata": {},
   "outputs": [],
   "source": [
    "这道题目是利用前、中序遍历的性质，来构建树\n",
    "已知给定的前序遍历和中序遍历序列，找到左子树的前序遍历和中序遍历序列，递归进行即可。\n",
    "\n",
    "方法2是对两个序列分片操作后传入子树，时间复杂度会更高\n",
    "方法1是记录下子树的开始和结束索引，不需要分片操作，时间更快。\n"
   ]
  },
  {
   "cell_type": "code",
   "execution_count": null,
   "metadata": {},
   "outputs": [],
   "source": [
    "# Definition for a binary tree node.\n",
    "# class TreeNode(object):\n",
    "#     def __init__(self, x):\n",
    "#         self.val = x\n",
    "#         self.left = None\n",
    "#         self.right = None\n",
    "\n",
    "class Solution(object):\n",
    "    def buildTree(self, preorder, inorder):\n",
    "        \"\"\"\n",
    "        :type preorder: List[int]\n",
    "        :type inorder: List[int]\n",
    "        :rtype: TreeNode\n",
    "        \"\"\"\n",
    "        #方法1：\n",
    "        def check(in_s, in_e, pr_s, pr_e):\n",
    "            if in_s < 0 or pr_s < 0 or in_e >= len(inorder) or pr_e >= len(preorder): return None\n",
    "            if in_s > in_e or pr_s > len(preorder)-1: return None\n",
    "            \n",
    "            root_val = preorder[pr_s]\n",
    "            index = inorder.index(root_val)\n",
    "            root = TreeNode(root_val)\n",
    "            \n",
    "            l_len = index-in_s\n",
    "            \n",
    "            root.left = check(in_s, index-1, pr_s+1, l_len)\n",
    "            root.right = check(index+1, in_e, pr_s+l_len+1, pr_e)\n",
    "            \n",
    "            return root\n",
    "        \n",
    "        return check(0, len(inorder)-1, 0, len(preorder)-1)\n",
    "        #方法2：\n",
    "        def check(preorder, inorder):\n",
    "            if preorder == []: return None\n",
    "            \n",
    "            root_val = preorder[0]\n",
    "            index = inorder.index(root_val)\n",
    "            root = TreeNode(root_val)\n",
    "            \n",
    "            l_len = index\n",
    "            r_len = len(inorder) - index\n",
    "            \n",
    "            root.left = check(preorder[1:1 + l_len], inorder[:index])\n",
    "            root.right = check(preorder[l_len+1:], inorder[index+1:])\n",
    "            \n",
    "            return root\n",
    "        return check(preorder, inorder)\n",
    "    "
   ]
  }
 ],
 "metadata": {
  "kernelspec": {
   "display_name": "Python 3",
   "language": "python",
   "name": "python3"
  },
  "language_info": {
   "codemirror_mode": {
    "name": "ipython",
    "version": 3
   },
   "file_extension": ".py",
   "mimetype": "text/x-python",
   "name": "python",
   "nbconvert_exporter": "python",
   "pygments_lexer": "ipython3",
   "version": "3.7.4"
  }
 },
 "nbformat": 4,
 "nbformat_minor": 2
}
