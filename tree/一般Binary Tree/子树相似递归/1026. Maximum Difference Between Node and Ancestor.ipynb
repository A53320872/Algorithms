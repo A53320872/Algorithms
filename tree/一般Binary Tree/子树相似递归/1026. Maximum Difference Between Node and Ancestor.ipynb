{
 "cells": [
  {
   "cell_type": "code",
   "execution_count": null,
   "metadata": {},
   "outputs": [],
   "source": [
    "https://leetcode.com/problems/maximum-difference-between-node-and-ancestor/"
   ]
  },
  {
   "cell_type": "code",
   "execution_count": null,
   "metadata": {},
   "outputs": [],
   "source": [
    "# Definition for a binary tree node.\n",
    "# class TreeNode(object):\n",
    "#     def __init__(self, val=0, left=None, right=None):\n",
    "#         self.val = val\n",
    "#         self.left = left\n",
    "#         self.right = right\n",
    "class Solution(object):\n",
    "    def maxAncestorDiff(self, root):\n",
    "        \"\"\"\n",
    "        :type root: TreeNode\n",
    "        :rtype: int\n",
    "        \"\"\"\n",
    "        V = [0]\n",
    "        def postOrder(root, mx, mn):\n",
    "            if root == None:\n",
    "                return\n",
    "            \n",
    "            l_mx, l_mn, r_mx, r_mn = root.val, root.val, root.val, root.val\n",
    "            if root.left != None:\n",
    "                l_mx, l_mn = postOrder(root.left, mx, mn)\n",
    "            if root.right != None:\n",
    "                r_mx, r_mn = postOrder(root.right, mx, mn)\n",
    "            for v in [l_mx, l_mn, r_mx, r_mn]:\n",
    "                V[0] = max(V[0], abs(root.val - v))\n",
    "            return max(l_mx, l_mn, r_mx, r_mn, root.val), min(l_mx, l_mn, r_mx, r_mn, root.val)\n",
    "        postOrder(root, 0, 0)\n",
    "        return V[0]\n",
    "            "
   ]
  }
 ],
 "metadata": {
  "kernelspec": {
   "display_name": "Python 3",
   "language": "python",
   "name": "python3"
  },
  "language_info": {
   "codemirror_mode": {
    "name": "ipython",
    "version": 3
   },
   "file_extension": ".py",
   "mimetype": "text/x-python",
   "name": "python",
   "nbconvert_exporter": "python",
   "pygments_lexer": "ipython3",
   "version": "3.7.4"
  }
 },
 "nbformat": 4,
 "nbformat_minor": 2
}
