{
 "cells": [
  {
   "cell_type": "code",
   "execution_count": null,
   "metadata": {},
   "outputs": [],
   "source": [
    "https://leetcode.com/problems/construct-string-from-binary-tree/submissions/"
   ]
  },
  {
   "cell_type": "code",
   "execution_count": null,
   "metadata": {},
   "outputs": [],
   "source": [
    "# Definition for a binary tree node.\n",
    "# class TreeNode(object):\n",
    "#     def __init__(self, val=0, left=None, right=None):\n",
    "#         self.val = val\n",
    "#         self.left = left\n",
    "#         self.right = right\n",
    "class Solution(object):\n",
    "    def tree2str(self, t):\n",
    "        \"\"\"\n",
    "        :type t: TreeNode\n",
    "        :rtype: str\n",
    "        \"\"\"\n",
    "        def preOrder(root):\n",
    "            if root == None:\n",
    "                return \"\"\n",
    "            l = preOrder(root.left)\n",
    "            r = preOrder(root.right)\n",
    "            \n",
    "            res = str(root.val)\n",
    "            if l == \"\" and r == \"\":\n",
    "                return res\n",
    "            if l != \"\" and r != \"\":\n",
    "                return res + \"(\" + l + \")(\" + r + \")\"\n",
    "            if l != \"\" and r == \"\":\n",
    "                return res + \"(\" + l + \")\"\n",
    "            if l == \"\" and r != None:\n",
    "                return res + \"()\" + \"(\" + r + \")\"\n",
    "            return res\n",
    "        \n",
    "        \n",
    "        return preOrder(t)\n",
    "            \n",
    "        "
   ]
  }
 ],
 "metadata": {
  "kernelspec": {
   "display_name": "Python 3",
   "language": "python",
   "name": "python3"
  },
  "language_info": {
   "codemirror_mode": {
    "name": "ipython",
    "version": 3
   },
   "file_extension": ".py",
   "mimetype": "text/x-python",
   "name": "python",
   "nbconvert_exporter": "python",
   "pygments_lexer": "ipython3",
   "version": "3.7.4"
  }
 },
 "nbformat": 4,
 "nbformat_minor": 2
}
