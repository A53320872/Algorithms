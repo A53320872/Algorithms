{
 "cells": [
  {
   "cell_type": "code",
   "execution_count": null,
   "metadata": {},
   "outputs": [],
   "source": [
    "# Definition for a binary tree node.\n",
    "# class TreeNode(object):\n",
    "#     def __init__(self, val=0, left=None, right=None):\n",
    "#         self.val = val\n",
    "#         self.left = left\n",
    "#         self.right = right\n",
    "class Solution(object):\n",
    "    def longestConsecutive(self, root):\n",
    "        \"\"\"\n",
    "        :type root: TreeNode\n",
    "        :rtype: int\n",
    "        \"\"\"\n",
    "        if root == None:\n",
    "            return 0\n",
    "        res = [1]\n",
    "        def postorder(root):\n",
    "            if root == None:\n",
    "                return 0, 0\n",
    "            if root.left == None and root.right == None:\n",
    "                return 1, 1\n",
    "            l_d, l_i = postorder(root.left)\n",
    "            r_d, r_i = postorder(root.right)\n",
    "            \n",
    "            dl, il, dr, ir = 0, 0, 0, 0\n",
    "            if root.left != None:\n",
    "                if root.left.val - root.val == 1:\n",
    "                    dl = l_d + 1\n",
    "                    il = 1\n",
    "                elif root.left.val - root.val == -1:\n",
    "                    dl = 1\n",
    "                    il = l_i + 1\n",
    "                else:\n",
    "                    dl = 1\n",
    "                    il = 1\n",
    "            if root.right != None:\n",
    "                if root.right.val - root.val == 1:\n",
    "                    dr = r_d + 1\n",
    "                    ir = 1\n",
    "                elif root.right.val - root.val == -1:\n",
    "                    dr = 1\n",
    "                    ir = r_i + 1\n",
    "                else:\n",
    "                    dr = 1\n",
    "                    ir = 1\n",
    "            \n",
    "            d, i = max(dl, dr), max(il, ir)\n",
    "            res[0] = max(res[0], d, i, dl + ir - 1, il + dr - 1)\n",
    "            \n",
    "            return d, i\n",
    "        postorder(root)\n",
    "        return res[0]\n",
    "                \n",
    "                \n",
    "            "
   ]
  }
 ],
 "metadata": {
  "kernelspec": {
   "display_name": "Python 3",
   "language": "python",
   "name": "python3"
  },
  "language_info": {
   "codemirror_mode": {
    "name": "ipython",
    "version": 3
   },
   "file_extension": ".py",
   "mimetype": "text/x-python",
   "name": "python",
   "nbconvert_exporter": "python",
   "pygments_lexer": "ipython3",
   "version": "3.7.4"
  }
 },
 "nbformat": 4,
 "nbformat_minor": 2
}
