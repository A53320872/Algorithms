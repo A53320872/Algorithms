{
 "cells": [
  {
   "cell_type": "code",
   "execution_count": null,
   "metadata": {},
   "outputs": [],
   "source": [
    "https://leetcode.com/problems/longest-univalue-path/submissions/"
   ]
  },
  {
   "cell_type": "code",
   "execution_count": null,
   "metadata": {},
   "outputs": [],
   "source": [
    "# Definition for a binary tree node.\n",
    "# class TreeNode(object):\n",
    "#     def __init__(self, val=0, left=None, right=None):\n",
    "#         self.val = val\n",
    "#         self.left = left\n",
    "#         self.right = right\n",
    "class Solution(object):\n",
    "    def longestUnivaluePath(self, root):\n",
    "        \"\"\"\n",
    "        :type root: TreeNode\n",
    "        :rtype: int\n",
    "        \"\"\"\n",
    "        res = [0]\n",
    "        def recur(root):\n",
    "            if root == None:\n",
    "                return 0\n",
    "            \n",
    "            l = recur(root.left)\n",
    "            r = recur(root.right)\n",
    "            \n",
    "            current_max = 0\n",
    "            l_max, r_max = 0, 0\n",
    "            if root.left != None and root.left.val == root.val:\n",
    "                l_max += l + 1\n",
    "                current_max += l + 1\n",
    "            if root.right != None and root.right.val == root.val:\n",
    "                r_max += r + 1\n",
    "                current_max += r + 1\n",
    "            \n",
    "            maximum = max(l_max, r_max)\n",
    "            res[0] = max(res[0], current_max)\n",
    "            \n",
    "            return maximum\n",
    "        recur(root)\n",
    "        return res[0]\n",
    "                    "
   ]
  }
 ],
 "metadata": {
  "kernelspec": {
   "display_name": "Python 3",
   "language": "python",
   "name": "python3"
  },
  "language_info": {
   "codemirror_mode": {
    "name": "ipython",
    "version": 3
   },
   "file_extension": ".py",
   "mimetype": "text/x-python",
   "name": "python",
   "nbconvert_exporter": "python",
   "pygments_lexer": "ipython3",
   "version": "3.7.4"
  }
 },
 "nbformat": 4,
 "nbformat_minor": 2
}
