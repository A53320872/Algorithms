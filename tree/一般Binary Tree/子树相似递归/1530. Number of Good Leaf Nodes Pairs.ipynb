{
 "cells": [
  {
   "cell_type": "code",
   "execution_count": null,
   "metadata": {},
   "outputs": [],
   "source": [
    "https://leetcode.com/problems/number-of-good-leaf-nodes-pairs/"
   ]
  },
  {
   "cell_type": "code",
   "execution_count": null,
   "metadata": {},
   "outputs": [],
   "source": [
    "# Definition for a binary tree node.\n",
    "# class TreeNode(object):\n",
    "#     def __init__(self, val=0, left=None, right=None):\n",
    "#         self.val = val\n",
    "#         self.left = left\n",
    "#         self.right = right\n",
    "class Solution(object):\n",
    "    def countPairs(self, root, distance):\n",
    "        \"\"\"\n",
    "        :type root: TreeNode\n",
    "        :type distance: int\n",
    "        :rtype: int\n",
    "        \"\"\"\n",
    "        dist = [distance]\n",
    "        res = [0]\n",
    "        def postorder(root):\n",
    "            if root == None: return {0: 0}\n",
    "            if root.left == None and root.right == None:\n",
    "                return {0: 1}\n",
    "            \n",
    "            new_info = {}\n",
    "            \n",
    "            l_info = postorder(root.left)\n",
    "            r_info = postorder(root.right)\n",
    "            \n",
    "            \n",
    "            for l_d in l_info:\n",
    "                for r_d in r_info:\n",
    "                    if l_d + r_d + 2 <= dist[0]:\n",
    "                        res[0] += l_info[l_d] * r_info[r_d]\n",
    "            \n",
    "            for l_d in l_info:\n",
    "                if l_d + 1 not in new_info:\n",
    "                    new_info[l_d + 1] = l_info[l_d]\n",
    "                else:\n",
    "                    new_info[l_d + 1] += l_info[l_d]\n",
    "            for r_d in r_info:\n",
    "                if r_d + 1 not in new_info:\n",
    "                    new_info[r_d + 1] = r_info[r_d]\n",
    "                else:\n",
    "                    new_info[r_d + 1] += r_info[r_d]\n",
    "                        \n",
    "            return new_info\n",
    "        postorder(root)\n",
    "        return res[0]\n",
    "                    \n",
    "            \n",
    "        "
   ]
  }
 ],
 "metadata": {
  "kernelspec": {
   "display_name": "Python 3",
   "language": "python",
   "name": "python3"
  },
  "language_info": {
   "codemirror_mode": {
    "name": "ipython",
    "version": 3
   },
   "file_extension": ".py",
   "mimetype": "text/x-python",
   "name": "python",
   "nbconvert_exporter": "python",
   "pygments_lexer": "ipython3",
   "version": "3.7.4"
  }
 },
 "nbformat": 4,
 "nbformat_minor": 2
}
