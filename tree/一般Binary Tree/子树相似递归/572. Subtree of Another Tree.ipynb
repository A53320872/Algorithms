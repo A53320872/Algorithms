{
 "cells": [
  {
   "cell_type": "markdown",
   "metadata": {},
   "source": [
    "判别子树是否相同时，不能直接使用 \"if t == s\"， 而需要用traverse的方式生成一个字符串（比数组更快），然后比较字符串是否相同。\n",
    "下面列出了两种方式\n",
    "https://leetcode.com/problems/subtree-of-another-tree/description/"
   ]
  },
  {
   "cell_type": "code",
   "execution_count": null,
   "metadata": {},
   "outputs": [],
   "source": [
    "# Definition for a binary tree node.\n",
    "# class TreeNode(object):\n",
    "#     def __init__(self, val=0, left=None, right=None):\n",
    "#         self.val = val\n",
    "#         self.left = left\n",
    "#         self.right = right\n",
    "class Solution(object):\n",
    "    def isSubtree(self, s, t):\n",
    "        \"\"\"\n",
    "        :type s: TreeNode\n",
    "        :type t: TreeNode\n",
    "        :rtype: bool\n",
    "        \"\"\"\n",
    "        found = [False]\n",
    "        def traverse(root):\n",
    "            if root == None:\n",
    "                return \"N\"\n",
    "            l = traverse(root.left)\n",
    "            r = traverse(root.right)\n",
    "            return \"(\" + str(root.val) + \")\" + \"+\" + l + \"+\" + r\n",
    "        \n",
    "        # Method 1: faster\n",
    "        return True if traverse(t) in traverse(s) else False\n",
    "        \n",
    "        # Method 2: cost more time\n",
    "        # def recur(root, t):\n",
    "        #     if found[0] == True: return\n",
    "        #     if root == None:\n",
    "        #         return\n",
    "        #     if root.val == t.val:\n",
    "        #         tmpS, tmpT = traverse(root), traverse(t)\n",
    "        #         if tmpS == tmpT:\n",
    "        #             found[0] = True\n",
    "        #     recur(root.left, t)\n",
    "        #     recur(root.right, t)\n",
    "        # recur(s, t)\n",
    "        # return found[0]\n",
    "        "
   ]
  }
 ],
 "metadata": {
  "kernelspec": {
   "display_name": "Python 3",
   "language": "python",
   "name": "python3"
  },
  "language_info": {
   "codemirror_mode": {
    "name": "ipython",
    "version": 3
   },
   "file_extension": ".py",
   "mimetype": "text/x-python",
   "name": "python",
   "nbconvert_exporter": "python",
   "pygments_lexer": "ipython3",
   "version": "3.7.4"
  }
 },
 "nbformat": 4,
 "nbformat_minor": 2
}
