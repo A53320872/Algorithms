{
 "cells": [
  {
   "cell_type": "code",
   "execution_count": null,
   "metadata": {},
   "outputs": [],
   "source": [
    "https://leetcode.com/problems/flatten-binary-tree-to-linked-list/"
   ]
  },
  {
   "cell_type": "code",
   "execution_count": null,
   "metadata": {},
   "outputs": [],
   "source": [
    "# Definition for a binary tree node.\n",
    "# class TreeNode(object):\n",
    "#     def __init__(self, val=0, left=None, right=None):\n",
    "#         self.val = val\n",
    "#         self.left = left\n",
    "#         self.right = right\n",
    "class Solution(object):\n",
    "    def flatten(self, root):\n",
    "        \"\"\"\n",
    "        :type root: TreeNode\n",
    "        :rtype: None Do not return anything, modify root in-place instead.\n",
    "        \"\"\"\n",
    "        def flatten(root):\n",
    "            if root == None: return  \n",
    "            flatten(root.left)\n",
    "            flatten(root.right)\n",
    "            tmp = root.right\n",
    "            root.right = root.left\n",
    "            root.left = None\n",
    "            while root.right != None:\n",
    "                root = root.right\n",
    "            root.right = tmp\n",
    "        flatten(root)\n",
    "            \n",
    "        "
   ]
  },
  {
   "cell_type": "code",
   "execution_count": null,
   "metadata": {},
   "outputs": [],
   "source": [
    "// golang\n",
    "/**\n",
    " * Definition for a binary tree node.\n",
    " * type TreeNode struct {\n",
    " *     Val int\n",
    " *     Left *TreeNode\n",
    " *     Right *TreeNode\n",
    " * }\n",
    " */\n",
    "func makeFlatten(root *TreeNode) {\n",
    "    if root == nil { return }\n",
    "    if root.Left != nil { makeFlatten(root.Left) }\n",
    "    if root.Right != nil { makeFlatten(root.Right) }\n",
    "    tmp := root.Right\n",
    "    root.Right = root.Left\n",
    "    root.Left = nil\n",
    "    for root.Right != nil {\n",
    "        root = root.Right\n",
    "    }\n",
    "    root.Right = tmp\n",
    "}\n",
    "func flatten(root *TreeNode)  {\n",
    "    makeFlatten(root)\n",
    "}"
   ]
  }
 ],
 "metadata": {
  "kernelspec": {
   "display_name": "Python 3",
   "language": "python",
   "name": "python3"
  },
  "language_info": {
   "codemirror_mode": {
    "name": "ipython",
    "version": 3
   },
   "file_extension": ".py",
   "mimetype": "text/x-python",
   "name": "python",
   "nbconvert_exporter": "python",
   "pygments_lexer": "ipython3",
   "version": "3.7.4"
  }
 },
 "nbformat": 4,
 "nbformat_minor": 2
}
