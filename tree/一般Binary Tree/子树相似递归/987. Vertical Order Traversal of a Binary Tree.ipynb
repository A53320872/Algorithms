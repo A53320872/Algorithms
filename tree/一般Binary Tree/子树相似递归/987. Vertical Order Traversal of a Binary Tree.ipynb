{
 "cells": [
  {
   "cell_type": "code",
   "execution_count": null,
   "metadata": {},
   "outputs": [],
   "source": [
    "https://leetcode.com/problems/vertical-order-traversal-of-a-binary-tree/"
   ]
  },
  {
   "cell_type": "code",
   "execution_count": null,
   "metadata": {},
   "outputs": [],
   "source": [
    "# Definition for a binary tree node.\n",
    "# class TreeNode(object):\n",
    "#     def __init__(self, val=0, left=None, right=None):\n",
    "#         self.val = val\n",
    "#         self.left = left\n",
    "#         self.right = right\n",
    "class Solution(object):\n",
    "    def verticalTraversal(self, root):\n",
    "        \"\"\"\n",
    "        :type root: TreeNode\n",
    "        :rtype: List[List[int]]\n",
    "        \"\"\"\n",
    "        res = {}\n",
    "        \n",
    "        def inOrder(root, x, y):\n",
    "            if root == None: return\n",
    "            if x not in res:\n",
    "                res[x] = {y: [root.val]}\n",
    "            else:\n",
    "                if y not in res[x]:\n",
    "                    res[x][y] = [root.val]\n",
    "                else:\n",
    "                    res[x][y].append(root.val)\n",
    "            inOrder(root.left, x-1, y-1)\n",
    "            inOrder(root.right, x+1, y-1)\n",
    "        inOrder(root, 0, 0)\n",
    "        resOrderd = [(x, res[x]) for x in res]\n",
    "        resOrderd.sort()\n",
    "        \n",
    "        final = []\n",
    "        for col in resOrderd:\n",
    "            tmp = []\n",
    "            for y in col[1]:\n",
    "                tmp1 = col[1][y]\n",
    "                tmp1.sort()\n",
    "                tmp.append((y, tmp1))\n",
    "            tmp.sort(key=lambda x:x[0], reverse=True)\n",
    "            tmp2 = []\n",
    "            for d in tmp:\n",
    "                tmp2 += d[1]\n",
    "            final.append(tmp2)\n",
    "        return final\n",
    "    "
   ]
  }
 ],
 "metadata": {
  "kernelspec": {
   "display_name": "Python 3",
   "language": "python",
   "name": "python3"
  },
  "language_info": {
   "codemirror_mode": {
    "name": "ipython",
    "version": 3
   },
   "file_extension": ".py",
   "mimetype": "text/x-python",
   "name": "python",
   "nbconvert_exporter": "python",
   "pygments_lexer": "ipython3",
   "version": "3.7.4"
  }
 },
 "nbformat": 4,
 "nbformat_minor": 2
}
