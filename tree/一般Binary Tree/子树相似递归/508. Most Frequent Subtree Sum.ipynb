{
 "cells": [
  {
   "cell_type": "code",
   "execution_count": null,
   "metadata": {},
   "outputs": [],
   "source": [
    "# Definition for a binary tree node.\n",
    "# class TreeNode(object):\n",
    "#     def __init__(self, val=0, left=None, right=None):\n",
    "#         self.val = val\n",
    "#         self.left = left\n",
    "#         self.right = right\n",
    "class Solution(object):\n",
    "    def findFrequentTreeSum(self, root):\n",
    "        \"\"\"\n",
    "        :type root: TreeNode\n",
    "        :rtype: List[int]\n",
    "        \"\"\"\n",
    "        sums = {}\n",
    "        def postOrder(root):\n",
    "            if root == None:\n",
    "                return 0\n",
    "            l, r = postOrder(root.left), postOrder(root.right)\n",
    "            \n",
    "            s = l + r + root.val\n",
    "            \n",
    "            if s not in sums:\n",
    "                sums[s] = 1\n",
    "            else:\n",
    "                sums[s] += 1\n",
    "            return s\n",
    "        \n",
    "        postOrder(root)\n",
    "        \n",
    "        res = []\n",
    "        maxFreq = float(\"-inf\")\n",
    "        for s in sums:\n",
    "            if sums[s] > maxFreq:\n",
    "                res = [s]\n",
    "                maxFreq = sums[s]\n",
    "            elif sums[s] == maxFreq:\n",
    "                res.append(s)\n",
    "        return res"
   ]
  }
 ],
 "metadata": {
  "kernelspec": {
   "display_name": "Python 3",
   "language": "python",
   "name": "python3"
  },
  "language_info": {
   "codemirror_mode": {
    "name": "ipython",
    "version": 3
   },
   "file_extension": ".py",
   "mimetype": "text/x-python",
   "name": "python",
   "nbconvert_exporter": "python",
   "pygments_lexer": "ipython3",
   "version": "3.7.4"
  }
 },
 "nbformat": 4,
 "nbformat_minor": 2
}
