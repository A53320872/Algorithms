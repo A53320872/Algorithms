{
 "cells": [
  {
   "cell_type": "code",
   "execution_count": null,
   "metadata": {},
   "outputs": [],
   "source": [
    "\"\"\"\n",
    "# Definition for a Node.\n",
    "class Node(object):\n",
    "    def __init__(self, val=None, children=None):\n",
    "        self.val = val\n",
    "        self.children = children\n",
    "\"\"\"\n",
    "\n",
    "class Solution(object):\n",
    "    def postorder(self, root):\n",
    "        \"\"\"\n",
    "        :type root: Node\n",
    "        :rtype: List[int]\n",
    "        \"\"\"\n",
    "        # iterative\n",
    "        if root == None: return []\n",
    "        res = []\n",
    "        stack = [root]\n",
    "        while stack:\n",
    "            root = stack.pop()\n",
    "            res.append(root.val)\n",
    "            stack += root.children\n",
    "        return res[::-1]\n",
    "        \n",
    "        \n",
    "        # # recursive\n",
    "        # res = []\n",
    "        # def trav(root):\n",
    "        #     if root == None:\n",
    "        #         return\n",
    "        #     for c in root.children:\n",
    "        #         trav(c)\n",
    "        #     res.append(root.val)\n",
    "        # trav(root)\n",
    "        # return res"
   ]
  }
 ],
 "metadata": {
  "kernelspec": {
   "display_name": "Python 3",
   "language": "python",
   "name": "python3"
  },
  "language_info": {
   "codemirror_mode": {
    "name": "ipython",
    "version": 3
   },
   "file_extension": ".py",
   "mimetype": "text/x-python",
   "name": "python",
   "nbconvert_exporter": "python",
   "pygments_lexer": "ipython3",
   "version": "3.7.4"
  }
 },
 "nbformat": 4,
 "nbformat_minor": 2
}
