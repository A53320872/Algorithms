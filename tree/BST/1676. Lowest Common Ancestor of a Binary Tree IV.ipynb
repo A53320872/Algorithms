{
 "cells": [
  {
   "cell_type": "code",
   "execution_count": null,
   "metadata": {},
   "outputs": [],
   "source": [
    "# Definition for a binary tree node.\n",
    "# class TreeNode(object):\n",
    "#     def __init__(self, x):\n",
    "#         self.val = x\n",
    "#         self.left = None\n",
    "#         self.right = None\n",
    "\n",
    "class Solution(object):\n",
    "    def lowestCommonAncestor(self, root, nodes):\n",
    "        \"\"\"\n",
    "        :type root: TreeNode\n",
    "        :type nodes: List[TreeNode]\n",
    "        \"\"\"\n",
    "        self.res = None\n",
    "        nodes = set(nodes)\n",
    "        def postOrder(root, nodes):\n",
    "            if root == None:\n",
    "                return False\n",
    "            \n",
    "            l = postOrder(root.left, nodes)\n",
    "            r = postOrder(root.right, nodes)\n",
    "            \n",
    "            if root in nodes or (l == True and r == True):\n",
    "                self.res = root\n",
    "                return True\n",
    "            if l == True or r == True:\n",
    "                return True\n",
    "            return False\n",
    "        postOrder(root, nodes)\n",
    "        return self.res"
   ]
  }
 ],
 "metadata": {
  "kernelspec": {
   "display_name": "Python 3",
   "language": "python",
   "name": "python3"
  },
  "language_info": {
   "codemirror_mode": {
    "name": "ipython",
    "version": 3
   },
   "file_extension": ".py",
   "mimetype": "text/x-python",
   "name": "python",
   "nbconvert_exporter": "python",
   "pygments_lexer": "ipython3",
   "version": "3.7.4"
  }
 },
 "nbformat": 4,
 "nbformat_minor": 2
}
