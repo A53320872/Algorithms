{
 "cells": [
  {
   "cell_type": "code",
   "execution_count": null,
   "metadata": {},
   "outputs": [],
   "source": [
    "https://leetcode.com/problems/convert-binary-search-tree-to-sorted-doubly-linked-list/"
   ]
  },
  {
   "cell_type": "code",
   "execution_count": null,
   "metadata": {},
   "outputs": [],
   "source": [
    "\"\"\"\n",
    "# Definition for a Node.\n",
    "class Node(object):\n",
    "    def __init__(self, val, left=None, right=None):\n",
    "        self.val = val\n",
    "        self.left = left\n",
    "        self.right = right\n",
    "\"\"\"\n",
    "\n",
    "class Solution(object):\n",
    "    def treeToDoublyList(self, root):\n",
    "        \"\"\"\n",
    "        :type root: Node\n",
    "        :rtype: Node\n",
    "        \"\"\"\n",
    "        def printLinks(head):\n",
    "            r = []\n",
    "            while head:\n",
    "                r.append(head.val)\n",
    "                head = head.right\n",
    "            return r\n",
    "        \n",
    "        head = Node(-1)\n",
    "        r = [head]\n",
    "        def inorder(root):\n",
    "            if root == None: return\n",
    "            inorder(root.left)\n",
    "            n = Node(root.val)\n",
    "            r[-1].right = n\n",
    "            n.left = r[-1]\n",
    "            r.append(n)\n",
    "            \n",
    "            # print(printLinks(r[0]), len(r), n.val, n.left.val)\n",
    "            \n",
    "            inorder(root.right)\n",
    "        inorder(root)\n",
    "        if len(r) == 1: return None\n",
    "        first, last = r[1], r[-1]\n",
    "        # return None\n",
    "        first.left = last\n",
    "        last.right = first\n",
    "        head = Node(-1)\n",
    "        head.right = first\n",
    "        \n",
    "        return first\n",
    "            \n",
    "            \n",
    "            "
   ]
  },
  {
   "cell_type": "code",
   "execution_count": null,
   "metadata": {},
   "outputs": [],
   "source": []
  }
 ],
 "metadata": {
  "kernelspec": {
   "display_name": "Python 3",
   "language": "python",
   "name": "python3"
  },
  "language_info": {
   "codemirror_mode": {
    "name": "ipython",
    "version": 3
   },
   "file_extension": ".py",
   "mimetype": "text/x-python",
   "name": "python",
   "nbconvert_exporter": "python",
   "pygments_lexer": "ipython3",
   "version": "3.7.4"
  }
 },
 "nbformat": 4,
 "nbformat_minor": 2
}
