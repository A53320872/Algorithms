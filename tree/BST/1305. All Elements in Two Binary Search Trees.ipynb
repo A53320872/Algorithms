{
 "cells": [
  {
   "cell_type": "code",
   "execution_count": null,
   "metadata": {},
   "outputs": [],
   "source": [
    "# Definition for a binary tree node.\n",
    "# class TreeNode(object):\n",
    "#     def __init__(self, val=0, left=None, right=None):\n",
    "#         self.val = val\n",
    "#         self.left = left\n",
    "#         self.right = right\n",
    "class Solution(object):\n",
    "    def getAllElements(self, root1, root2):\n",
    "        \"\"\"\n",
    "        :type root1: TreeNode\n",
    "        :type root2: TreeNode\n",
    "        :rtype: List[int]\n",
    "        \"\"\"\n",
    "        res = []\n",
    "        def inorder(root):\n",
    "            if root == None:\n",
    "                return\n",
    "            inorder(root.left)\n",
    "            res.append(root.val)\n",
    "            inorder(root.right)\n",
    "        inorder(root1)\n",
    "        nums1 = res[:]\n",
    "        res = []\n",
    "        inorder(root2)\n",
    "        nums2 = res[:]\n",
    "        \n",
    "        res = []\n",
    "        i, j = 0, 0\n",
    "        \n",
    "        while i < len(nums1) and j < len(nums2):\n",
    "            if nums1[i] < nums2[j]:\n",
    "                res.append(nums1[i])\n",
    "                i += 1\n",
    "            else:\n",
    "                res.append(nums2[j])\n",
    "                j += 1\n",
    "        if i < len(nums1):\n",
    "            res += nums1[i:]\n",
    "        else:\n",
    "            res += nums2[j:]\n",
    "        return res"
   ]
  }
 ],
 "metadata": {
  "kernelspec": {
   "display_name": "Python 3",
   "language": "python",
   "name": "python3"
  },
  "language_info": {
   "codemirror_mode": {
    "name": "ipython",
    "version": 3
   },
   "file_extension": ".py",
   "mimetype": "text/x-python",
   "name": "python",
   "nbconvert_exporter": "python",
   "pygments_lexer": "ipython3",
   "version": "3.7.4"
  }
 },
 "nbformat": 4,
 "nbformat_minor": 2
}
