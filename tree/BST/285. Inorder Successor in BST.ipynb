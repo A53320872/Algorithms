{
 "cells": [
  {
   "cell_type": "code",
   "execution_count": null,
   "metadata": {},
   "outputs": [],
   "source": [
    "https://leetcode.com/problems/inorder-successor-in-bst/"
   ]
  },
  {
   "cell_type": "code",
   "execution_count": null,
   "metadata": {},
   "outputs": [],
   "source": [
    "# Definition for a binary tree node.\n",
    "# class TreeNode(object):\n",
    "#     def __init__(self, x):\n",
    "#         self.val = x\n",
    "#         self.left = None\n",
    "#         self.right = None\n",
    "\n",
    "class Solution(object):\n",
    "    def inorderSuccessor(self, root, p):\n",
    "        \"\"\"\n",
    "        :type root: TreeNode\n",
    "        :type p: TreeNode\n",
    "        :rtype: TreeNode\n",
    "        \"\"\"\n",
    "            \n",
    "        maxInt = 999999\n",
    "        pVal = p.val\n",
    "        res = TreeNode(maxInt)\n",
    "        def dfs(root, res, pVal):\n",
    "            if root == None: return\n",
    "            if root.val <= res.val and root.val > pVal:\n",
    "                res.val = root.val\n",
    "            dfs(root.left, res, pVal)\n",
    "            dfs(root.right, res, pVal)\n",
    "        dfs(root, res, pVal)\n",
    "        return res if res.val != maxInt else None\n",
    "            \n",
    "        "
   ]
  },
  {
   "cell_type": "code",
   "execution_count": null,
   "metadata": {},
   "outputs": [],
   "source": [
    "// golang\n",
    "/**\n",
    " * Definition for a binary tree node.\n",
    " * type TreeNode struct {\n",
    " *     Val int\n",
    " *     Left *TreeNode\n",
    " *     Right *TreeNode\n",
    " * }\n",
    " */\n",
    "func inorderSuccessor(root *TreeNode, p *TreeNode) *TreeNode {\n",
    "    maxInt := 9999999\n",
    "    pVal := p.Val\n",
    "    res := &TreeNode{Val:maxInt, Left:nil, Right:nil}\n",
    "    dfs(root, res, pVal)\n",
    "    if res.Val != maxInt {\n",
    "        return res\n",
    "    } else {\n",
    "        return nil\n",
    "    }\n",
    "}\n",
    "func dfs(root *TreeNode, res *TreeNode, pVal int) {\n",
    "    if root == nil { return }\n",
    "    if root.Val <= res.Val && root.Val > pVal {\n",
    "        res.Val = root.Val\n",
    "    }\n",
    "    dfs(root.Left, res, pVal)\n",
    "    dfs(root.Right, res, pVal)\n",
    "}"
   ]
  }
 ],
 "metadata": {
  "kernelspec": {
   "display_name": "Python 3",
   "language": "python",
   "name": "python3"
  },
  "language_info": {
   "codemirror_mode": {
    "name": "ipython",
    "version": 3
   },
   "file_extension": ".py",
   "mimetype": "text/x-python",
   "name": "python",
   "nbconvert_exporter": "python",
   "pygments_lexer": "ipython3",
   "version": "3.7.4"
  }
 },
 "nbformat": 4,
 "nbformat_minor": 2
}
