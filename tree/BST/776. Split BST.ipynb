{
 "cells": [
  {
   "cell_type": "code",
   "execution_count": null,
   "metadata": {},
   "outputs": [],
   "source": [
    "https://leetcode.com/problems/split-bst/"
   ]
  },
  {
   "cell_type": "code",
   "execution_count": null,
   "metadata": {},
   "outputs": [],
   "source": [
    "# Definition for a binary tree node.\n",
    "# class TreeNode(object):\n",
    "#     def __init__(self, val=0, left=None, right=None):\n",
    "#         self.val = val\n",
    "#         self.left = left\n",
    "#         self.right = right\n",
    "class Solution(object):\n",
    "    def splitBST(self, root, V):\n",
    "        \"\"\"\n",
    "        :type root: TreeNode\n",
    "        :type V: int\n",
    "        :rtype: List[TreeNode]\n",
    "        \"\"\"\n",
    "        def recur(root, v):\n",
    "            if root == None:\n",
    "                return None, None\n",
    "\n",
    "            if root.left == None and root.right == None:\n",
    "                if root.val > v:\n",
    "                    return None, root\n",
    "                else:\n",
    "                    return root, None\n",
    "            \n",
    "            if root.val > v:\n",
    "                l, r = recur(root.left, v)\n",
    "                root.left = r\n",
    "                return l, root\n",
    "                \n",
    "            else:\n",
    "                l, r = recur(root.right, v)\n",
    "                root.right = l\n",
    "                return root, r\n",
    "        return recur(root, V)"
   ]
  }
 ],
 "metadata": {
  "kernelspec": {
   "display_name": "Python 3",
   "language": "python",
   "name": "python3"
  },
  "language_info": {
   "codemirror_mode": {
    "name": "ipython",
    "version": 3
   },
   "file_extension": ".py",
   "mimetype": "text/x-python",
   "name": "python",
   "nbconvert_exporter": "python",
   "pygments_lexer": "ipython3",
   "version": "3.7.4"
  }
 },
 "nbformat": 4,
 "nbformat_minor": 2
}
