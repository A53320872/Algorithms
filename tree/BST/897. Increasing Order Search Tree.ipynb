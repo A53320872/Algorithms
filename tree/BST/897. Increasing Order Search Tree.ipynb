{
 "cells": [
  {
   "cell_type": "code",
   "execution_count": null,
   "metadata": {},
   "outputs": [],
   "source": [
    "# Definition for a binary tree node.\n",
    "# class TreeNode(object):\n",
    "#     def __init__(self, val=0, left=None, right=None):\n",
    "#         self.val = val\n",
    "#         self.left = left\n",
    "#         self.right = right\n",
    "class Solution(object):\n",
    "    def increasingBST(self, root):\n",
    "        \"\"\"\n",
    "        :type root: TreeNode\n",
    "        :rtype: TreeNode\n",
    "        \"\"\"\n",
    "        def postorder(root):\n",
    "            if root == None:\n",
    "                return None, None\n",
    "            if root.left == None and root.right == None:\n",
    "                return root, root\n",
    "            lh, lt = postorder(root.left)\n",
    "            rh, rt = postorder(root.right)\n",
    "            \n",
    "            if lh == None:\n",
    "                root.right = rh\n",
    "                root.left = None\n",
    "                return root, rt\n",
    "            if rh == None:\n",
    "                if lt == None:\n",
    "                    root.left == None\n",
    "                    root.right == None\n",
    "                    return root, root\n",
    "                lt.right = root\n",
    "                root.left = None\n",
    "                root.right = None\n",
    "                return lh, root\n",
    "            lt.right = root\n",
    "            root.right = rh\n",
    "            root.left = None\n",
    "            return lh, rt\n",
    "        r, l = postorder(root)\n",
    "        return r\n",
    "            "
   ]
  }
 ],
 "metadata": {
  "kernelspec": {
   "display_name": "Python 3",
   "language": "python",
   "name": "python3"
  },
  "language_info": {
   "codemirror_mode": {
    "name": "ipython",
    "version": 3
   },
   "file_extension": ".py",
   "mimetype": "text/x-python",
   "name": "python",
   "nbconvert_exporter": "python",
   "pygments_lexer": "ipython3",
   "version": "3.7.4"
  }
 },
 "nbformat": 4,
 "nbformat_minor": 2
}
