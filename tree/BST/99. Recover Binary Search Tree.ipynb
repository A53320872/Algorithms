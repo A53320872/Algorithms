{
 "cells": [
  {
   "cell_type": "code",
   "execution_count": null,
   "metadata": {},
   "outputs": [],
   "source": [
    "https://leetcode.com/problems/recover-binary-search-tree/"
   ]
  },
  {
   "cell_type": "code",
   "execution_count": null,
   "metadata": {},
   "outputs": [],
   "source": [
    "# Definition for a binary tree node.\n",
    "# class TreeNode(object):\n",
    "#     def __init__(self, val=0, left=None, right=None):\n",
    "#         self.val = val\n",
    "#         self.left = left\n",
    "#         self.right = right\n",
    "class Solution(object):\n",
    "    def recoverTree(self, root):\n",
    "        \"\"\"\n",
    "        :type root: TreeNode\n",
    "        :rtype: None Do not return anything, modify root in-place instead.\n",
    "        \"\"\"\n",
    "        res = []\n",
    "        def inorder(root, change, x, y):\n",
    "            if root == None:\n",
    "                return\n",
    "            inorder(root.left, change, x, y)\n",
    "            if change == False:\n",
    "                res.append(root.val)\n",
    "            else:\n",
    "                if root.val == x: root.val = y\n",
    "                elif root.val == y: root.val = x\n",
    "            inorder(root.right, change, x, y)\n",
    "        inorder(root, False, -1, -1)\n",
    "        x, y = -1, -1\n",
    "        for i in range(len(res)-1):\n",
    "            if res[i] > res[i+1]:\n",
    "                if x == -1:\n",
    "                    x = i\n",
    "                y = i + 1\n",
    "        inorder(root, True, res[x], res[y])\n",
    "        return root\n",
    "        \n",
    "                    \n",
    "                        "
   ]
  },
  {
   "cell_type": "code",
   "execution_count": null,
   "metadata": {},
   "outputs": [],
   "source": [
    "// golang\n",
    "/**\n",
    " * Definition for a binary tree node.\n",
    " * type TreeNode struct {\n",
    " *     Val int\n",
    " *     Left *TreeNode\n",
    " *     Right *TreeNode\n",
    " * }\n",
    " */\n",
    "func inorder(root *TreeNode, change bool, x, y int, res *[]int) {\n",
    "    if &root == nil { return }\n",
    "    if root.Left != nil { inorder(root.Left, change, x, y, res) }\n",
    "    if change == false {\n",
    "        *res = append(*res, root.Val)\n",
    "    } else {\n",
    "        if root.Val == x {\n",
    "            root.Val = y\n",
    "        } else if root.Val == y {\n",
    "            root.Val = x\n",
    "        }\n",
    "    }\n",
    "    if root.Right != nil { inorder(root.Right, change, x, y, res) }\n",
    "}\n",
    "func recoverTree(root *TreeNode)  {\n",
    "    res := []int{}\n",
    "    inorder(root, false, -1, -1, &res)\n",
    "    x, y := -1, -1\n",
    "    for i := 0; i < len(res) - 1; i ++ {\n",
    "        if res[i] > res[i + 1] {\n",
    "            if x == -1 { x = i }\n",
    "            y = i + 1\n",
    "        }\n",
    "    }\n",
    "    inorder(root, true, res[x], res[y], &res)\n",
    "}"
   ]
  }
 ],
 "metadata": {
  "kernelspec": {
   "display_name": "Python 3",
   "language": "python",
   "name": "python3"
  },
  "language_info": {
   "codemirror_mode": {
    "name": "ipython",
    "version": 3
   },
   "file_extension": ".py",
   "mimetype": "text/x-python",
   "name": "python",
   "nbconvert_exporter": "python",
   "pygments_lexer": "ipython3",
   "version": "3.7.4"
  }
 },
 "nbformat": 4,
 "nbformat_minor": 2
}
