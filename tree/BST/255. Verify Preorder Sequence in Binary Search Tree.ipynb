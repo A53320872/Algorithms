{
 "cells": [
  {
   "cell_type": "code",
   "execution_count": null,
   "metadata": {},
   "outputs": [],
   "source": [
    "Tricky Problem\n",
    "https://leetcode.com/problems/verify-preorder-sequence-in-binary-search-tree/submissions/"
   ]
  },
  {
   "cell_type": "code",
   "execution_count": null,
   "metadata": {},
   "outputs": [],
   "source": [
    "class Solution(object):\n",
    "    def verifyPreorder(self, preorder):\n",
    "        \"\"\"\n",
    "        :type preorder: List[int]\n",
    "        :rtype: bool\n",
    "        \"\"\"\n",
    "        stack = []\n",
    "        \n",
    "        root = -1\n",
    "        \n",
    "        for i,e in enumerate(preorder):\n",
    "            if e < root:\n",
    "                return False\n",
    "            \n",
    "            while stack != [] and stack[-1] < e:\n",
    "                \n",
    "                root = stack[-1]\n",
    "                a\n",
    "                stack.pop()\n",
    "            \n",
    "            stack.append(e)\n",
    "        return True\n",
    "            \n",
    "                \n",
    "        "
   ]
  }
 ],
 "metadata": {
  "kernelspec": {
   "display_name": "Python 3",
   "language": "python",
   "name": "python3"
  },
  "language_info": {
   "codemirror_mode": {
    "name": "ipython",
    "version": 3
   },
   "file_extension": ".py",
   "mimetype": "text/x-python",
   "name": "python",
   "nbconvert_exporter": "python",
   "pygments_lexer": "ipython3",
   "version": "3.7.4"
  }
 },
 "nbformat": 4,
 "nbformat_minor": 2
}
