{
 "cells": [
  {
   "cell_type": "code",
   "execution_count": null,
   "metadata": {},
   "outputs": [],
   "source": [
    "https://leetcode.com/problems/trim-a-binary-search-tree/"
   ]
  },
  {
   "cell_type": "code",
   "execution_count": null,
   "metadata": {},
   "outputs": [],
   "source": [
    "# Definition for a binary tree node.\n",
    "# class TreeNode(object):\n",
    "#     def __init__(self, val=0, left=None, right=None):\n",
    "#         self.val = val\n",
    "#         self.left = left\n",
    "#         self.right = right\n",
    "class Solution(object):\n",
    "    def trimBST(self, root, low, high):\n",
    "        \"\"\"\n",
    "        :type root: TreeNode\n",
    "        :type low: int\n",
    "        :type high: int\n",
    "        :rtype: TreeNode\n",
    "        \"\"\"\n",
    "        def postOrder(root, low, high):\n",
    "            if root == None: return None\n",
    "            \n",
    "            if root.val > high:\n",
    "                return postOrder(root.left, low, high)\n",
    "            if root.val < low:\n",
    "                return postOrder(root.right, low, high)\n",
    "            l = postOrder(root.left, low, high)\n",
    "            r = postOrder(root.right, low, high)\n",
    "            # print(root.val, l, r)\n",
    "            root.left = l\n",
    "            root.right = r\n",
    "            return root\n",
    "        return postOrder(root, low, high)"
   ]
  }
 ],
 "metadata": {
  "kernelspec": {
   "display_name": "Python 3",
   "language": "python",
   "name": "python3"
  },
  "language_info": {
   "codemirror_mode": {
    "name": "ipython",
    "version": 3
   },
   "file_extension": ".py",
   "mimetype": "text/x-python",
   "name": "python",
   "nbconvert_exporter": "python",
   "pygments_lexer": "ipython3",
   "version": "3.7.4"
  }
 },
 "nbformat": 4,
 "nbformat_minor": 2
}
