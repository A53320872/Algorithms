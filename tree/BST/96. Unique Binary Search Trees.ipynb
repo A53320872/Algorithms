{
 "cells": [
  {
   "cell_type": "code",
   "execution_count": null,
   "metadata": {},
   "outputs": [],
   "source": [
    "https://leetcode.com/problems/unique-binary-search-trees/"
   ]
  },
  {
   "cell_type": "code",
   "execution_count": null,
   "metadata": {},
   "outputs": [],
   "source": [
    "class Solution(object):\n",
    "    def numTrees(self, n):\n",
    "        \"\"\"\n",
    "        :type n: int\n",
    "        :rtype: int\n",
    "        \"\"\"\n",
    "        mem = {}\n",
    "        def dp(n):\n",
    "            if n in mem: return mem[n]\n",
    "            if n == 0: return 1\n",
    "            \n",
    "            res = 0\n",
    "            for i in range(1, n+1):\n",
    "                l = dp(i-1)\n",
    "                r = dp(n-i)\n",
    "                res += l*r\n",
    "            mem[n] = res\n",
    "            return res\n",
    "        return dp(n)\n",
    "            "
   ]
  },
  {
   "cell_type": "code",
   "execution_count": null,
   "metadata": {},
   "outputs": [],
   "source": [
    "//golang\n",
    "func numTrees(n int) int {\n",
    "    mem := map[int]int{}\n",
    "    return dp(n, mem)\n",
    "}\n",
    "\n",
    "func dp(n int, mem map[int]int) int {\n",
    "    if val,ok := mem[n]; ok { return val }\n",
    "    if n == 0 { return 1 }\n",
    "    \n",
    "    res := 0\n",
    "    for i := 1; i <= n; i++ {\n",
    "        l, r := dp(i-1, mem), dp(n-i, mem)\n",
    "        res += l*r\n",
    "    }\n",
    "    mem[n] = res\n",
    "    return res\n",
    "}"
   ]
  }
 ],
 "metadata": {
  "kernelspec": {
   "display_name": "Python 3",
   "language": "python",
   "name": "python3"
  },
  "language_info": {
   "codemirror_mode": {
    "name": "ipython",
    "version": 3
   },
   "file_extension": ".py",
   "mimetype": "text/x-python",
   "name": "python",
   "nbconvert_exporter": "python",
   "pygments_lexer": "ipython3",
   "version": "3.7.4"
  }
 },
 "nbformat": 4,
 "nbformat_minor": 2
}
