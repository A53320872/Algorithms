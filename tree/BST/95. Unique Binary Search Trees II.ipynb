{
 "cells": [
  {
   "cell_type": "code",
   "execution_count": null,
   "metadata": {},
   "outputs": [],
   "source": [
    "https://leetcode.com/problems/unique-binary-search-trees-ii/submissions/"
   ]
  },
  {
   "cell_type": "code",
   "execution_count": null,
   "metadata": {},
   "outputs": [],
   "source": [
    "# Definition for a binary tree node.\n",
    "# class TreeNode(object):\n",
    "#     def __init__(self, val=0, left=None, right=None):\n",
    "#         self.val = val\n",
    "#         self.left = left\n",
    "#         self.right = right\n",
    "class Solution(object):\n",
    "    def generateTrees(self, n):\n",
    "        \"\"\"\n",
    "        :type n: int\n",
    "        :rtype: List[TreeNode]\n",
    "        \"\"\"\n",
    "        if n == 0: return []\n",
    "        \n",
    "        def buildBST(nums):\n",
    "            if len(nums) == 0: return [None]\n",
    "            if len(nums) == 1: return [TreeNode(nums[0])]\n",
    "            \n",
    "            res = []\n",
    "            i = 0\n",
    "            while i < len(nums):\n",
    "                l = buildBST(nums[:i])\n",
    "                r = buildBST(nums[i+1:])\n",
    "                \n",
    "                for l_res in l:\n",
    "                    for r_res in r:\n",
    "                        root = TreeNode(nums[i])\n",
    "                        root.left = l_res\n",
    "                        root.right = r_res\n",
    "                        \n",
    "                        res.append(root)\n",
    "                i += 1\n",
    "            return res\n",
    "        \n",
    "        res =  buildBST(list(range(n+1))[1:])\n",
    "        \n",
    "        return res  \n",
    "                \n",
    "        "
   ]
  }
 ],
 "metadata": {
  "kernelspec": {
   "display_name": "Python 3",
   "language": "python",
   "name": "python3"
  },
  "language_info": {
   "codemirror_mode": {
    "name": "ipython",
    "version": 3
   },
   "file_extension": ".py",
   "mimetype": "text/x-python",
   "name": "python",
   "nbconvert_exporter": "python",
   "pygments_lexer": "ipython3",
   "version": "3.7.4"
  }
 },
 "nbformat": 4,
 "nbformat_minor": 2
}
