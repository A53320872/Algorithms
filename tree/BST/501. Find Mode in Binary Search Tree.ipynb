{
 "cells": [
  {
   "cell_type": "code",
   "execution_count": null,
   "metadata": {},
   "outputs": [],
   "source": [
    "https://leetcode.com/problems/find-mode-in-binary-search-tree/submissions/"
   ]
  },
  {
   "cell_type": "code",
   "execution_count": null,
   "metadata": {},
   "outputs": [],
   "source": [
    "# Definition for a binary tree node.\n",
    "# class TreeNode(object):\n",
    "#     def __init__(self, val=0, left=None, right=None):\n",
    "#         self.val = val\n",
    "#         self.left = left\n",
    "#         self.right = right\n",
    "class Solution(object):\n",
    "    def findMode(self, root):\n",
    "        \"\"\"\n",
    "        :type root: TreeNode\n",
    "        :rtype: List[int]\n",
    "        \"\"\"\n",
    "        if root == None:\n",
    "            return \n",
    "        res = [[]]\n",
    "        most = [0]\n",
    "        count = [0]\n",
    "        pre = [-1]\n",
    "        def inorder(root):\n",
    "            if root == None:\n",
    "                return\n",
    "            \n",
    "            inorder(root.left)\n",
    "            \n",
    "            if root.val != pre[0]:\n",
    "                if most[0] < 1:\n",
    "                    most[0] = 1\n",
    "                    res[0] = [root.val]\n",
    "                elif most[0] == 1:\n",
    "                    res[0].append(root.val)\n",
    "                count[0] = 1\n",
    "                pre[0] = root.val\n",
    "                inorder(root.right)\n",
    "                \n",
    "            else:\n",
    "                count[0] += 1\n",
    "                if most[0] < count[0]:\n",
    "                    most[0] = count[0]\n",
    "                    res[0] = [root.val]\n",
    "                elif most[0] == count[0]:\n",
    "                    res[0].append(root.val)\n",
    "                inorder(root.right)\n",
    "                \n",
    "        inorder(root)\n",
    "        \n",
    "        return res[0]"
   ]
  }
 ],
 "metadata": {
  "kernelspec": {
   "display_name": "Python 3",
   "language": "python",
   "name": "python3"
  },
  "language_info": {
   "codemirror_mode": {
    "name": "ipython",
    "version": 3
   },
   "file_extension": ".py",
   "mimetype": "text/x-python",
   "name": "python",
   "nbconvert_exporter": "python",
   "pygments_lexer": "ipython3",
   "version": "3.7.4"
  }
 },
 "nbformat": 4,
 "nbformat_minor": 2
}
