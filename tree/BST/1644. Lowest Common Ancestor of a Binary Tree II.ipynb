{
 "cells": [
  {
   "cell_type": "code",
   "execution_count": null,
   "metadata": {},
   "outputs": [],
   "source": [
    "# Definition for a binary tree node.\n",
    "# class TreeNode(object):\n",
    "#     def __init__(self, x):\n",
    "#         self.val = x\n",
    "#         self.left = None\n",
    "#         self.right = None\n",
    "\n",
    "class Solution(object):\n",
    "    def lowestCommonAncestor(self, root, p, q):\n",
    "        \"\"\"\n",
    "        :type root: TreeNode\n",
    "        :type p: TreeNode\n",
    "        :type q: TreeNode\n",
    "        :rtype: TreeNode\n",
    "        \"\"\"\n",
    "        res = [None]\n",
    "        def postOrder(root, p, q):\n",
    "            if root == None:\n",
    "                return False\n",
    "            \n",
    "            l = postOrder(root.left, p, q)\n",
    "            r = postOrder(root.right, p, q)\n",
    "            \n",
    "            state = False\n",
    "            if root == p:\n",
    "                if l == True or r == True:\n",
    "                    res[0] = p\n",
    "                    state = False\n",
    "                else:\n",
    "                    state =  True\n",
    "            elif root == q:\n",
    "                if l == True or r == True:\n",
    "                    res[0] = q\n",
    "                    state = False\n",
    "                else:\n",
    "                    state = True\n",
    "            else:\n",
    "                if l == True and r == True:\n",
    "                    res[0] = root\n",
    "                    state =  False\n",
    "                elif l == True or r == True:\n",
    "                    state = True\n",
    "                else:\n",
    "                    state = False\n",
    "            return state\n",
    "        postOrder(root, p, q)\n",
    "        return res[0]"
   ]
  }
 ],
 "metadata": {
  "kernelspec": {
   "display_name": "Python 3",
   "language": "python",
   "name": "python3"
  },
  "language_info": {
   "codemirror_mode": {
    "name": "ipython",
    "version": 3
   },
   "file_extension": ".py",
   "mimetype": "text/x-python",
   "name": "python",
   "nbconvert_exporter": "python",
   "pygments_lexer": "ipython3",
   "version": "3.7.4"
  }
 },
 "nbformat": 4,
 "nbformat_minor": 2
}
