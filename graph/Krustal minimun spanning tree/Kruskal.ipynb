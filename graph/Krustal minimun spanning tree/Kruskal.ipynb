{
 "cells": [
  {
   "cell_type": "code",
   "execution_count": 9,
   "metadata": {},
   "outputs": [],
   "source": [
    "V = set([0,1,2,3,4,5,6,7,8])\n",
    "E = set([(0,1,4), (1,2,8), (2,3,7), (3,4,9), (4,5,10), (5,6,2),\n",
    "        (6,8,6), (8,2,2), (6,7,1), (7,8,7), (0,7,8), (1,7,11), \n",
    "        (2,5,4), (3,5,14)])\n",
    "adj = {}\n",
    "for e in E:\n",
    "    u,v,w = e\n",
    "    if u not in adj:\n",
    "        adj[u] = set([v])\n",
    "    else:\n",
    "        adj[u].add(v)\n",
    "    if v not in adj:\n",
    "        adj[v] = set([u])\n",
    "    else:\n",
    "        adj[v].add(u)\n",
    "source = 0\n",
    "\n",
    "Cost = {}\n",
    "for e in E:\n",
    "    Cost[(e[0], e[1])] = e[2]"
   ]
  },
  {
   "cell_type": "code",
   "execution_count": 34,
   "metadata": {},
   "outputs": [
    {
     "data": {
      "text/plain": [
       "[(1, (6, 7)),\n",
       " (2, (5, 6)),\n",
       " (2, (8, 2)),\n",
       " (4, (0, 1)),\n",
       " (4, (2, 5)),\n",
       " (7, (2, 3)),\n",
       " (8, (0, 7)),\n",
       " (9, (3, 4))]"
      ]
     },
     "execution_count": 34,
     "metadata": {},
     "output_type": "execute_result"
    }
   ],
   "source": [
    "def Kruskal(V, E, Cost):\n",
    "    Esorted = []\n",
    "    for e in Cost:\n",
    "        Esorted.append((Cost[e], e))\n",
    "    Esorted.sort()\n",
    "    \n",
    "    pa = {}\n",
    "    for v in V:\n",
    "        pa[v] = v\n",
    "    \n",
    "    def find(v):\n",
    "        while v != pa[v]:\n",
    "            v = pa[v]\n",
    "        return v\n",
    "    def union(u, v):\n",
    "        pa[u] = v\n",
    "    \n",
    "    \n",
    "    res = []\n",
    "    for minEdge in Esorted:\n",
    "        cost, u, v = minEdge[0], minEdge[1][0], minEdge[1][1]\n",
    "        u_p, v_p = find(u), find(v)\n",
    "        if u_p != v_p:\n",
    "            union(u_p,v_p)\n",
    "            res.append((cost,(u,v)))\n",
    "    return res\n",
    "    \n",
    "    \n",
    "Kruskal(V, E, Cost)"
   ]
  },
  {
   "cell_type": "code",
   "execution_count": null,
   "metadata": {},
   "outputs": [],
   "source": []
  }
 ],
 "metadata": {
  "kernelspec": {
   "display_name": "Python 3",
   "language": "python",
   "name": "python3"
  },
  "language_info": {
   "codemirror_mode": {
    "name": "ipython",
    "version": 3
   },
   "file_extension": ".py",
   "mimetype": "text/x-python",
   "name": "python",
   "nbconvert_exporter": "python",
   "pygments_lexer": "ipython3",
   "version": "3.7.4"
  }
 },
 "nbformat": 4,
 "nbformat_minor": 2
}
