{
 "cells": [
  {
   "cell_type": "code",
   "execution_count": null,
   "metadata": {},
   "outputs": [],
   "source": [
    "https://leetcode.com/problems/redundant-connection/"
   ]
  },
  {
   "cell_type": "code",
   "execution_count": null,
   "metadata": {},
   "outputs": [],
   "source": [
    "class Solution(object):\n",
    "    def findRedundantConnection(self, edges):\n",
    "        \"\"\"\n",
    "        :type edges: List[List[int]]\n",
    "        :rtype: List[int]\n",
    "        \"\"\"\n",
    "        pa = {}\n",
    "        for (u,v) in edges:\n",
    "            pa[u] = u\n",
    "            pa[v] = v\n",
    "            \n",
    "        def union(u, v):\n",
    "            pa[u] = v\n",
    "            \n",
    "        def find(u):\n",
    "            while pa[u] != u:\n",
    "                u = pa[u]\n",
    "            return u\n",
    "            \n",
    "        res = []\n",
    "        for (u, v) in edges:\n",
    "            p_u = find(u)\n",
    "            p_v = find(v)\n",
    "            if p_u != p_v:\n",
    "                union(p_u, p_v)\n",
    "            else:\n",
    "                return [u, v]\n",
    "                \n",
    "        "
   ]
  }
 ],
 "metadata": {
  "kernelspec": {
   "display_name": "Python 3",
   "language": "python",
   "name": "python3"
  },
  "language_info": {
   "codemirror_mode": {
    "name": "ipython",
    "version": 3
   },
   "file_extension": ".py",
   "mimetype": "text/x-python",
   "name": "python",
   "nbconvert_exporter": "python",
   "pygments_lexer": "ipython3",
   "version": "3.7.4"
  }
 },
 "nbformat": 4,
 "nbformat_minor": 2
}
