{
 "cells": [
  {
   "cell_type": "code",
   "execution_count": null,
   "metadata": {},
   "outputs": [],
   "source": [
    "https://leetcode.com/problems/minimum-cost-to-make-at-least-one-valid-path-in-a-grid/"
   ]
  },
  {
   "cell_type": "code",
   "execution_count": null,
   "metadata": {},
   "outputs": [],
   "source": [
    "class Solution(object):\n",
    "    def minCost(self, grid):\n",
    "        \"\"\"\n",
    "        :type grid: List[List[int]]\n",
    "        :rtype: int\n",
    "        \"\"\"\n",
    "        if len(grid) == 0: return 0\n",
    "        row, col = len(grid), len(grid[0])\n",
    "        \n",
    "        arrow = {(0, -1): 1, (0, 1): 2, (-1, 0): 3, (1, 0): 4}\n",
    "        \n",
    "        V, E = set([]), set([])\n",
    "        Cost = {}\n",
    "        for i in range(row):\n",
    "            for j in range(col):\n",
    "                V.add((i,j))\n",
    "                for d in [(1,0), (0,1), (-1,0), (0,-1)]:\n",
    "                    I, J = i+d[0], j+d[1]\n",
    "                    if I < row and J < col and I >= 0 and J >= 0:\n",
    "                        E.add(((i,j), (I,J)))\n",
    "                        E.add(((I,J), (i,j)))\n",
    "                        if arrow[(i-I, j-J)] == grid[i][j]:\n",
    "                            Cost[((i,j), (I,J))] = 0\n",
    "                        else:\n",
    "                            Cost[((i,j), (I,J))] = 1\n",
    "        \n",
    "        def Dijkstra(V, E, Cost, source):\n",
    "            # initial weight values\n",
    "            W = {}\n",
    "            for v in V:\n",
    "                W[v] = float(\"inf\")\n",
    "            W[source] = 0\n",
    "            \n",
    "            # run algorithm\n",
    "            visited = set([])\n",
    "            queue = [(0, (0,0))]\n",
    "\n",
    "            while queue != []:\n",
    "                minimum = queue[0]\n",
    "                minCost, minNode = minimum\n",
    "                visited.add(minNode) \n",
    "                heapq.heappop(queue)\n",
    "                for d in [(1,0), (0,1), (-1,0), (0,-1)]:\n",
    "                    i, j = d[0] + minNode[0], d[1] + minNode[1]\n",
    "                    u = (i, j)\n",
    "                    if i >= row or j >= col or i < 0 or j < 0 or u in visited:\n",
    "                        continue\n",
    "                    if W[minNode] + Cost[(minNode, u)] < W[u]:\n",
    "                        W[u] = W[minNode] + Cost[(minNode, u)]\n",
    "                    heapq.heappush(queue, (W[u], u))\n",
    "            return W\n",
    "        W = Dijkstra(V, E, Cost, (0,0))\n",
    "        print(W)\n",
    "        return W[(row-1, col-1)]\n",
    "        "
   ]
  }
 ],
 "metadata": {
  "kernelspec": {
   "display_name": "Python 3",
   "language": "python",
   "name": "python3"
  },
  "language_info": {
   "codemirror_mode": {
    "name": "ipython",
    "version": 3
   },
   "file_extension": ".py",
   "mimetype": "text/x-python",
   "name": "python",
   "nbconvert_exporter": "python",
   "pygments_lexer": "ipython3",
   "version": "3.7.4"
  }
 },
 "nbformat": 4,
 "nbformat_minor": 2
}
