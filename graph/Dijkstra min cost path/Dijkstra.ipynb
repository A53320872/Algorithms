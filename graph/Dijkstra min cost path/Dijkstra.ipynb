{
 "cells": [
  {
   "cell_type": "code",
   "execution_count": 17,
   "metadata": {},
   "outputs": [],
   "source": [
    "V = set([0,1,2,3,4,5,6,7,8])\n",
    "E = set([(0,1,4), (1,2,8), (2,3,7), (3,4,9), (4,5,10), (5,6,2),\n",
    "        (6,8,6), (8,2,2), (6,7,1), (7,8,7), (0,7,8), (1,7,11), \n",
    "        (2,5,4), (3,5,14)])\n",
    "half = set([])\n",
    "for e in E:\n",
    "    half.add((e[1], e[0], e[2]))\n",
    "\n",
    "E = E | half\n",
    "adj = {}\n",
    "for e in E:\n",
    "    u,v,w = e\n",
    "    if u not in adj:\n",
    "        adj[u] = set([v])\n",
    "    else:\n",
    "        adj[u].add(v)\n",
    "    if v not in adj:\n",
    "        adj[v] = set([u])\n",
    "    else:\n",
    "        adj[v].add(u)\n",
    "source = 0\n",
    "\n",
    "Cost = {}\n",
    "for e in E:\n",
    "    Cost[(e[0], e[1])] = e[2]"
   ]
  },
  {
   "cell_type": "code",
   "execution_count": 36,
   "metadata": {},
   "outputs": [
    {
     "data": {
      "text/plain": [
       "{0: 0, 1: 4, 2: 12, 3: 19, 4: 21, 5: 11, 6: 9, 7: 8, 8: 14}"
      ]
     },
     "execution_count": 36,
     "metadata": {},
     "output_type": "execute_result"
    }
   ],
   "source": [
    "import heapq\n",
    "def Dijkstra(V, E, adj, Cost, source):\n",
    "    # initial weight values\n",
    "    W = {}\n",
    "    for v in V:\n",
    "        W[v] = float(\"inf\")\n",
    "    W[source] = 0\n",
    "    \n",
    "    #\n",
    "    visited = set([])\n",
    "    queue = [(0, source)]\n",
    "    \n",
    "    while queue != []:\n",
    "        minimum = queue[0]\n",
    "        minCost, minNode = minimum\n",
    "        visited.add(minNode) \n",
    "        heapq.heappop(queue)\n",
    "        for u in adj[minNode]:\n",
    "            if u in visited: continue\n",
    "            if W[minNode] + Cost[(minNode, u)] < W[u]:\n",
    "                W[u] = W[minNode] + Cost[(minNode, u)]\n",
    "            heapq.heappush(queue, (W[u], u))\n",
    "    return W\n",
    "Dijkstra(V, E, adj, Cost, source)   "
   ]
  },
  {
   "cell_type": "code",
   "execution_count": null,
   "metadata": {},
   "outputs": [],
   "source": []
  }
 ],
 "metadata": {
  "kernelspec": {
   "display_name": "Python 3",
   "language": "python",
   "name": "python3"
  },
  "language_info": {
   "codemirror_mode": {
    "name": "ipython",
    "version": 3
   },
   "file_extension": ".py",
   "mimetype": "text/x-python",
   "name": "python",
   "nbconvert_exporter": "python",
   "pygments_lexer": "ipython3",
   "version": "3.7.4"
  }
 },
 "nbformat": 4,
 "nbformat_minor": 2
}
