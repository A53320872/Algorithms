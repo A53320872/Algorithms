{
 "cells": [
  {
   "cell_type": "markdown",
   "metadata": {},
   "source": [
    "regular dfs\n",
    "https://leetcode.com/problems/number-of-islands/"
   ]
  },
  {
   "cell_type": "code",
   "execution_count": null,
   "metadata": {},
   "outputs": [],
   "source": [
    "class Solution(object):\n",
    "    def numIslands(self, grid):\n",
    "        \"\"\"\n",
    "        :type grid: List[List[str]]\n",
    "        :rtype: int\n",
    "        \"\"\"\n",
    "        if grid == []: return 0\n",
    "        m, n = len(grid), len(grid[0])\n",
    "        \n",
    "        def recur(i, j, grid, m, n):\n",
    "            \n",
    "            grid[i][j] = \"-1\"\n",
    "            \n",
    "            if i < m and j+1 < n and grid[i][j+1] == \"1\": recur(i, j+1, grid, m, n)\n",
    "            if i+1 < m and j < n and grid[i+1][j] == \"1\": recur(i+1, j, grid, m, n) \n",
    "            if i-1 >= 0 and j < n and grid[i-1][j] == \"1\": recur(i-1, j, grid, m, n)\n",
    "            if i < m and j-1 >= 0 and grid[i][j-1] == \"1\": recur(i, j-1, grid, m, n)\n",
    "        \n",
    "        count = 0\n",
    "        \n",
    "        i = 0\n",
    "        while i < m:\n",
    "            j = 0\n",
    "            while j < n:\n",
    "                if grid[i][j] == \"1\":\n",
    "                    recur(i, j, grid, m, n)\n",
    "                    count += 1\n",
    "                j += 1\n",
    "            i += 1\n",
    "        \n",
    "        return count"
   ]
  }
 ],
 "metadata": {
  "kernelspec": {
   "display_name": "Python 3",
   "language": "python",
   "name": "python3"
  },
  "language_info": {
   "codemirror_mode": {
    "name": "ipython",
    "version": 3
   },
   "file_extension": ".py",
   "mimetype": "text/x-python",
   "name": "python",
   "nbconvert_exporter": "python",
   "pygments_lexer": "ipython3",
   "version": "3.7.4"
  }
 },
 "nbformat": 4,
 "nbformat_minor": 2
}
