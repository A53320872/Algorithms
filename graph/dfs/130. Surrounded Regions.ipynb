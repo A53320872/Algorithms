{
 "cells": [
  {
   "cell_type": "code",
   "execution_count": null,
   "metadata": {},
   "outputs": [],
   "source": [
    "https://leetcode.com/problems/surrounded-regions/submissions/"
   ]
  },
  {
   "cell_type": "code",
   "execution_count": null,
   "metadata": {},
   "outputs": [],
   "source": [
    "class Solution(object):\n",
    "    def solve(self, board):\n",
    "        \"\"\"\n",
    "        :type board: List[List[str]]\n",
    "        :rtype: None Do not return anything, modify board in-place instead.\n",
    "        \"\"\"\n",
    "        if len(board) == 0: return []\n",
    "        row, col = len(board), len(board[0])\n",
    "        visited = set([])\n",
    "        def dfs(i,j):\n",
    "            visited.add((i,j))\n",
    "            \n",
    "            for (x,y) in [(i+1,j), (i,j+1), (i-1,j), (i,j-1)]:\n",
    "                if x < row and x >= 0 and y < col and y >= 0 and (x,y) and \\\n",
    "                    (x,y) not in visited and board[x][y] != \"X\":\n",
    "                    dfs(x,y)\n",
    "            \n",
    "        i = 0\n",
    "        while i < row:\n",
    "            j = 0\n",
    "            while j < col:\n",
    "                if board[i][j] == \"O\" and (i == 0 or j == 0 or i == row-1 or j == col-1):\n",
    "                    dfs(i,j)\n",
    "                j += 1\n",
    "            i += 1\n",
    "        i = 0\n",
    "        while i < row:\n",
    "            j = 0\n",
    "            while j < col:\n",
    "                if (i,j) in visited:\n",
    "                    board[i][j] = \"O\"\n",
    "                else:\n",
    "                    board[i][j] = \"X\"\n",
    "                j += 1\n",
    "            i += 1\n",
    "            \n",
    "        return [[]]"
   ]
  },
  {
   "cell_type": "code",
   "execution_count": null,
   "metadata": {},
   "outputs": [],
   "source": [
    "// golang\n",
    "func dfs(i int, j int, visited map[[2]int]bool, board [][]byte, row int, col int) {\n",
    "    visited[[2]int{i,j}] = true\n",
    "    for _,next := range([4][2]int{[2]int{i+1,j}, [2]int{i,j+1}, [2]int{i-1,j}, [2]int{i,j-1}}) {\n",
    "        x,y := next[0],next[1]\n",
    "        if x < row && x >= 0 && y < col && y >= 0 && string(board[x][y]) != \"X\"{\n",
    "            if _,ok := visited[[2]int{x,y}]; !ok {\n",
    "                dfs(x, y, visited, board, row, col)\n",
    "            }\n",
    "        }\n",
    "    }\n",
    "}\n",
    "func solve(board [][]byte)  {\n",
    "    \n",
    "    if len(board) == 0 { return }\n",
    "    row, col := len(board), len(board[0])\n",
    "    visited := map[[2]int]bool{}\n",
    "    \n",
    "    for i := 0; i < row; i ++ {\n",
    "        for j := 0; j < col; j++ {\n",
    "            if string(board[i][j]) == \"O\" && (i == 0 || j == 0 || i == row-1 || j == col-1) {\n",
    "                dfs(i, j, visited, board, row, col)\n",
    "            }\n",
    "        }\n",
    "    }\n",
    "    for i := 0; i < row; i ++ {\n",
    "        for j := 0; j < col; j++ {\n",
    "            if _,ok := visited[[2]int{i,j}]; ok {\n",
    "                board[i][j] = []byte(\"O\")[0]\n",
    "            } else {\n",
    "                board[i][j] = []byte(\"X\")[0]\n",
    "            }\n",
    "        }\n",
    "    }\n",
    "}\n"
   ]
  }
 ],
 "metadata": {
  "kernelspec": {
   "display_name": "Python 3",
   "language": "python",
   "name": "python3"
  },
  "language_info": {
   "codemirror_mode": {
    "name": "ipython",
    "version": 3
   },
   "file_extension": ".py",
   "mimetype": "text/x-python",
   "name": "python",
   "nbconvert_exporter": "python",
   "pygments_lexer": "ipython3",
   "version": "3.7.4"
  }
 },
 "nbformat": 4,
 "nbformat_minor": 2
}
