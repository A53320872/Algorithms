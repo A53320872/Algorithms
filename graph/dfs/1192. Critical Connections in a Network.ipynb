{
 "cells": [
  {
   "cell_type": "code",
   "execution_count": null,
   "metadata": {},
   "outputs": [],
   "source": [
    "n = 5\n",
    "edges = [[1, 2], [1, 3], [3, 4], [1, 4], [4, 5]]"
   ]
  },
  {
   "cell_type": "markdown",
   "metadata": {},
   "source": [
    "Tarjan's algorithm is basically an alogorithm to find circles in a graph\n",
    "https://leetcode.com/problems/critical-connections-in-a-network/submissions/\n",
    "https://www.youtube.com/watch?v=RYaakWv5m6o"
   ]
  },
  {
   "cell_type": "code",
   "execution_count": null,
   "metadata": {},
   "outputs": [],
   "source": [
    "# Tarjan O(E + V)\n",
    "class Solution(object):\n",
    "    def criticalConnections(self, n, connections):\n",
    "        \"\"\"\n",
    "        :type n: int\n",
    "        :type connections: List[List[int]]\n",
    "        :rtype: List[List[int]]\n",
    "        \"\"\"\n",
    "        adj = {}\n",
    "        for v, u in connections:\n",
    "            if v not in adj:\n",
    "                adj[v] = [u]\n",
    "            else:\n",
    "                adj[v].append(u)\n",
    "            if u not in adj:\n",
    "                adj[u] = [v]\n",
    "            else:\n",
    "                adj[u].append(v)\n",
    "        visited, res = {}, []       \n",
    "        def TarjanDFS(node, time, parent):\n",
    "            if node not in visited:\n",
    "                visited[node] = time\n",
    "                for v in adj[node]:\n",
    "                    if v != parent:\n",
    "                        TarjanDFS(v, time + 1, node)\n",
    "                        if visited[v] > time:\n",
    "                            res.append([node, v])\n",
    "                        visited[node] = min(visited[node], visited[v])\n",
    "        TarjanDFS(0, 0, None)\n",
    "        return res"
   ]
  },
  {
   "cell_type": "code",
   "execution_count": null,
   "metadata": {},
   "outputs": [],
   "source": [
    "# brute force O(E * (E + V))\n",
    "class Solution(object):\n",
    "    def criticalConnections(self, n, connections):\n",
    "        \"\"\"\n",
    "        :type n: int\n",
    "        :type connections: List[List[int]]\n",
    "        :rtype: List[List[int]]\n",
    "        \"\"\"\n",
    "        def buildGraph(connections):\n",
    "            V, E, adj = set([]), set([]), {}\n",
    "            for e in connections:\n",
    "                V.add(e[0])\n",
    "                V.add(e[1])\n",
    "                E.add((e[0], e[1]))\n",
    "                E.add((e[1], e[0]))\n",
    "                if e[1] not in adj:\n",
    "                    adj[e[1]] = [e[0]]\n",
    "                else:\n",
    "                    adj[e[1]].append(e[0])\n",
    "                if e[0] not in adj:\n",
    "                    adj[e[0]] = [e[1]]\n",
    "                else:\n",
    "                    adj[e[0]].append(e[1])\n",
    "            return V, E, adj\n",
    "        def dfsWithoutEdge(node, limitedEdge, visited):\n",
    "            if node in visited: return\n",
    "            visited.add(node)\n",
    "            for v in adj[node]:\n",
    "                if (v, node) != (limitedEdge[0], limitedEdge[1]) and (v, node) != (limitedEdge[1], limitedEdge[0]):\n",
    "                    dfsWithoutEdge(v, limitedEdge, visited)\n",
    "        \n",
    "        V, E, adj = buildGraph(connections)\n",
    "        res = []\n",
    "        for limitedEdge in connections:\n",
    "            visited = set([])\n",
    "            dfsWithoutEdge(limitedEdge[0], limitedEdge, visited)\n",
    "            if len(visited) != n:\n",
    "                res.append(limitedEdge)\n",
    "        return res"
   ]
  }
 ],
 "metadata": {
  "kernelspec": {
   "display_name": "Python 3",
   "language": "python",
   "name": "python3"
  },
  "language_info": {
   "codemirror_mode": {
    "name": "ipython",
    "version": 3
   },
   "file_extension": ".py",
   "mimetype": "text/x-python",
   "name": "python",
   "nbconvert_exporter": "python",
   "pygments_lexer": "ipython3",
   "version": "3.7.4"
  }
 },
 "nbformat": 4,
 "nbformat_minor": 2
}
