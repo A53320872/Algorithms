{
 "cells": [
  {
   "cell_type": "markdown",
   "metadata": {},
   "source": [
    "union and find, kruskal algorithm to find MST\n",
    "https://leetcode.com/problems/connecting-cities-with-minimum-cost/submissions/"
   ]
  },
  {
   "cell_type": "code",
   "execution_count": 1,
   "metadata": {},
   "outputs": [],
   "source": [
    "class Solution(object):\n",
    "    def minimumCost(N, connections):\n",
    "        \"\"\"\n",
    "        :type N: int\n",
    "        :type connections: List[List[int]]\n",
    "        :rtype: int\n",
    "        \"\"\"\n",
    "        parent = list(range(N+1))\n",
    "        \n",
    "        def find(v):\n",
    "            while parent[v] != v:\n",
    "                v = parent[v]\n",
    "            return v\n",
    "        \n",
    "        def union(v_parent, u_parent):\n",
    "            parent[v_parent] = u_parent\n",
    "        \n",
    "        \n",
    "        connections.sort(key=lambda x:x[2], reverse=False)\n",
    "        res, cost = [], 0\n",
    "        \n",
    "        for edge in connections:\n",
    "            u, v = edge[0], edge[1]\n",
    "            u_parent, v_parent = find(u), find(v)\n",
    "            \n",
    "            if u_parent != v_parent:\n",
    "                res.append(edge)\n",
    "                cost += edge[2]\n",
    "                \n",
    "                union(v_parent, u_parent)\n",
    "                \n",
    "        return cost if len(res) == N-1 else -1\n",
    "                "
   ]
  },
  {
   "cell_type": "code",
   "execution_count": null,
   "metadata": {},
   "outputs": [],
   "source": []
  }
 ],
 "metadata": {
  "kernelspec": {
   "display_name": "Python 3",
   "language": "python",
   "name": "python3"
  },
  "language_info": {
   "codemirror_mode": {
    "name": "ipython",
    "version": 3
   },
   "file_extension": ".py",
   "mimetype": "text/x-python",
   "name": "python",
   "nbconvert_exporter": "python",
   "pygments_lexer": "ipython3",
   "version": "3.7.4"
  }
 },
 "nbformat": 4,
 "nbformat_minor": 2
}
