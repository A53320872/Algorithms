{
 "cells": [
  {
   "cell_type": "code",
   "execution_count": null,
   "metadata": {},
   "outputs": [],
   "source": [
    "典型topological sort， 同210题"
   ]
  },
  {
   "cell_type": "code",
   "execution_count": null,
   "metadata": {},
   "outputs": [],
   "source": [
    "class Solution(object):\n",
    "    def canFinish(self, numCourses, prerequisites):\n",
    "        \"\"\"\n",
    "        :type numCourses: int\n",
    "        :type prerequisites: List[List[int]]\n",
    "        :rtype: bool\n",
    "        \"\"\"\n",
    "        def constructGraph(prerequisites):\n",
    "            V = set()\n",
    "            E = set()\n",
    "            adjMap = {}\n",
    "            indeg = {}\n",
    "            # construct V set, initialize indeg\n",
    "            for i in prerequisites:\n",
    "                V.add(i[0])\n",
    "                V.add(i[1])\n",
    "                indeg[i[0]], indeg[i[1]] = 0, 0\n",
    "                adjMap[i[0]], adjMap[i[1]] = set(), set()\n",
    "            \n",
    "            # construct E set, adjMap and indeg\n",
    "            for i in prerequisites:\n",
    "                a, b = i[0], i[1]\n",
    "                edge = (a, b)\n",
    "                E.add(edge)\n",
    "                adjMap[a].add(b)\n",
    "                indeg[b] += 1\n",
    "            \n",
    "            return V, E, adjMap, indeg\n",
    "        \n",
    "        \n",
    "        def bfs(adjMap, indeg):\n",
    "            # find 0 indegree node\n",
    "            zero_list = []\n",
    "            for i in indeg:\n",
    "                if indeg[i] == 0:\n",
    "                    zero_list.append(i)\n",
    "            \n",
    "            topo = []\n",
    "            while zero_list:\n",
    "                next_zero_list = []\n",
    "                for u in zero_list:\n",
    "                    topo.append(u)\n",
    "                    for v in adjMap[u]:\n",
    "                        indeg[v] -= 1\n",
    "                        if indeg[v] == 0: \n",
    "                            next_zero_list.append(v)\n",
    "                zero_list = next_zero_list\n",
    "            return topo\n",
    "            \n",
    "                        \n",
    "        \n",
    "        V, E, adjMap, indeg = constructGraph(prerequisites)\n",
    "        topo = bfs(adjMap, indeg)\n",
    "        \n",
    "        return True if len(topo) == len(V) else False\n",
    "            \n",
    "            \n",
    "        \n",
    "        \n",
    "        \n",
    "        \n",
    "        \n",
    "                "
   ]
  }
 ],
 "metadata": {
  "kernelspec": {
   "display_name": "Python 3",
   "language": "python",
   "name": "python3"
  },
  "language_info": {
   "codemirror_mode": {
    "name": "ipython",
    "version": 3
   },
   "file_extension": ".py",
   "mimetype": "text/x-python",
   "name": "python",
   "nbconvert_exporter": "python",
   "pygments_lexer": "ipython3",
   "version": "3.7.4"
  }
 },
 "nbformat": 4,
 "nbformat_minor": 2
}
