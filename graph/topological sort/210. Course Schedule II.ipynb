{
 "cells": [
  {
   "cell_type": "markdown",
   "metadata": {},
   "source": [
    "本题目考虑到有“先修课”的概念， 是一道典型的topological sort题目\n",
    "\n",
    "注意一些边界值即可"
   ]
  },
  {
   "cell_type": "code",
   "execution_count": null,
   "metadata": {},
   "outputs": [],
   "source": [
    "class Solution(object):\n",
    "    def findOrder(self, numCourses, prerequisites):\n",
    "        \"\"\"\n",
    "        :type numCourses: int\n",
    "        :type prerequisites: List[List[int]]\n",
    "        :rtype: List[int]\n",
    "        \"\"\"\n",
    "        # empty input\n",
    "        if prerequisites == []: return range(numCourses)\n",
    "        \n",
    "        # build graph\n",
    "        def buildGraph(numCourses, prerequisites):\n",
    "            \n",
    "            inMap = {}\n",
    "            adjMap = {}\n",
    "            \n",
    "            for e in prerequisites:\n",
    "                u = e[1]\n",
    "                v = e[0]\n",
    "                if u not in inMap: inMap[u] = 0\n",
    "                if v not in inMap: inMap[v] = 1\n",
    "                else: inMap[v] += 1\n",
    "                \n",
    "                if v not in adjMap: adjMap[v] = set()\n",
    "                if u not in adjMap: adjMap[u] = set([v])\n",
    "                else: adjMap[u].add(v)\n",
    "                \n",
    "            return [inMap, adjMap]\n",
    "            \n",
    "        # classic topological sort\n",
    "        def topo(inMap, adjMap):\n",
    "            zero_list = []\n",
    "            for e in inMap:\n",
    "                if inMap[e] == 0: zero_list.append(e)\n",
    "            r = []\n",
    "            \n",
    "            # record the result (only in this question)\n",
    "            set_r = set()\n",
    "            \n",
    "            while zero_list:\n",
    "                next_list = []\n",
    "                for u in zero_list:\n",
    "                    r.append(u)\n",
    "                    set_r.add(u)\n",
    "                    for v in adjMap[u]:\n",
    "                        inMap[v] -= 1\n",
    "                        if inMap[v] == 0: next_list.append(v)\n",
    "                zero_list = next_list\n",
    "            \n",
    "            return [r, set_r] \n",
    "                \n",
    "        [inMap, adjMap] = buildGraph(numCourses, prerequisites)\n",
    "        [r, set_r] = topo(inMap, adjMap)\n",
    "        \n",
    "        # doesnt have a topological sort\n",
    "        if len(r) != len(inMap): return []\n",
    "        \n",
    "        # modifiy the output\n",
    "        for i in range(numCourses):\n",
    "            if i not in set_r: r.append(i)\n",
    "        return r\n",
    "        "
   ]
  }
 ],
 "metadata": {
  "kernelspec": {
   "display_name": "Python 3",
   "language": "python",
   "name": "python3"
  },
  "language_info": {
   "codemirror_mode": {
    "name": "ipython",
    "version": 3
   },
   "file_extension": ".py",
   "mimetype": "text/x-python",
   "name": "python",
   "nbconvert_exporter": "python",
   "pygments_lexer": "ipython3",
   "version": "3.7.4"
  }
 },
 "nbformat": 4,
 "nbformat_minor": 2
}
