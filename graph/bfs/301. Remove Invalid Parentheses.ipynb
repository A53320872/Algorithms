{
 "cells": [
  {
   "cell_type": "code",
   "execution_count": null,
   "metadata": {},
   "outputs": [],
   "source": [
    "# Modified BFS solution\n",
    "class Solution(object):\n",
    "    def removeInvalidParentheses(self, s):\n",
    "        # Check if a string is valid\n",
    "        def isValid(s):\n",
    "            l = 0\n",
    "            for i, e in enumerate(s):\n",
    "                if e == \"(\": l += 1\n",
    "                elif e == \")\":\n",
    "                    l -= 1\n",
    "                    if l < 0: return False\n",
    "            if l == 0: return True\n",
    "        \n",
    "        # Edge cases\n",
    "        if isValid(s): return [s]\n",
    "        \n",
    "        # Motified BFS\n",
    "        queue = [s]\n",
    "        level = {s:0}\n",
    "        i = 0\n",
    "        res = []\n",
    "        while queue:\n",
    "            next = []\n",
    "            for u in queue:\n",
    "                for j, v in enumerate(u):\n",
    "                    if v not in \"()\": continue\n",
    "                    new = u[:j] + u[j+1:]\n",
    "                    if new not in level:\n",
    "                        level[new] = i\n",
    "                        if isValid(new): \n",
    "                            res.append(new)\n",
    "                        next.append(new)\n",
    "            # Only need less modification\n",
    "            if res != []: return res\n",
    "            queue = next\n",
    "            i += 1\n",
    "            \n",
    "        # Not found\n",
    "        if res == []: return [\"\"]\n",
    "                        \n",
    "            \n",
    "        \n",
    "            \n",
    "                \n",
    "                "
   ]
  }
 ],
 "metadata": {
  "kernelspec": {
   "display_name": "Python 3",
   "language": "python",
   "name": "python3"
  },
  "language_info": {
   "codemirror_mode": {
    "name": "ipython",
    "version": 3
   },
   "file_extension": ".py",
   "mimetype": "text/x-python",
   "name": "python",
   "nbconvert_exporter": "python",
   "pygments_lexer": "ipython3",
   "version": "3.7.4"
  }
 },
 "nbformat": 4,
 "nbformat_minor": 2
}
