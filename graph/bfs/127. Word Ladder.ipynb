{
 "cells": [
  {
   "cell_type": "code",
   "execution_count": null,
   "metadata": {},
   "outputs": [],
   "source": [
    "普通的bfs解法（获得adjList即可）\n",
    "\n",
    "注意的点是在构造adjList时候， 需要用替代法， 这样能够维持running time在O(n)\n",
    "**替代法就是对每一位替换26个字母中的一个，若替换后的结果在字典中，则说明存在对应单词。\n"
   ]
  },
  {
   "cell_type": "code",
   "execution_count": 8,
   "metadata": {},
   "outputs": [
    {
     "ename": "IndexError",
     "evalue": "list index out of range",
     "output_type": "error",
     "traceback": [
      "\u001b[0;31m---------------------------------------------------------------------------\u001b[0m",
      "\u001b[0;31mIndexError\u001b[0m                                Traceback (most recent call last)",
      "\u001b[0;32m<ipython-input-8-7700e9767d41>\u001b[0m in \u001b[0;36m<module>\u001b[0;34m\u001b[0m\n\u001b[1;32m      1\u001b[0m \u001b[0ma\u001b[0m \u001b[0;34m=\u001b[0m \u001b[0;34m[\u001b[0m\u001b[0;34m]\u001b[0m\u001b[0;34m\u001b[0m\u001b[0;34m\u001b[0m\u001b[0m\n\u001b[0;32m----> 2\u001b[0;31m \u001b[0ma\u001b[0m\u001b[0;34m[\u001b[0m\u001b[0;34m-\u001b[0m\u001b[0;36m1\u001b[0m\u001b[0;34m]\u001b[0m\u001b[0;34m\u001b[0m\u001b[0;34m\u001b[0m\u001b[0m\n\u001b[0m",
      "\u001b[0;31mIndexError\u001b[0m: list index out of range"
     ]
    }
   ],
   "source": [
    "a = []\n",
    "a[-1]"
   ]
  },
  {
   "cell_type": "code",
   "execution_count": null,
   "metadata": {},
   "outputs": [],
   "source": [
    "class Solution(object):\n",
    "    def ladderLength(self, beginWord, endWord, wordList):\n",
    "        \"\"\"\n",
    "        :type beginWord: str\n",
    "        :type endWord: str\n",
    "        :type wordList: List[str]\n",
    "        :rtype: int\n",
    "        \"\"\"\n",
    "        if endWord not in wordList: return 0\n",
    "        def getAdjList(beginWord, endWord, wordList):\n",
    "            V = set([beginWord, endWord])\n",
    "            E = set()\n",
    "            adjMap = {}\n",
    "            \n",
    "            # get V set & initialize adjList\n",
    "            for v in V:\n",
    "                if v not in adjMap:\n",
    "                    adjMap[v] = set()\n",
    "                    \n",
    "            for word in wordList:\n",
    "                V.add(word)\n",
    "                if word not in adjMap:\n",
    "                    adjMap[word] = set()\n",
    "                    \n",
    "            if beginWord not in wordList:\n",
    "                wordList.append(beginWord)\n",
    "            if endWord not in wordList:\n",
    "                wordList.append(endWord)\n",
    "                \n",
    "            wordMap = Counter(wordList)\n",
    "            charList = 'qwertyuiopasdfghjklzxcvbnm'\n",
    "            i = 0\n",
    "            while i < len(wordList):\n",
    "                curr = wordList[i]\n",
    "                for c in charList:\n",
    "                    for k in range(len(curr)):\n",
    "                        new = curr[:k] + c + curr[k+1:]\n",
    "                        if new in wordMap:\n",
    "                            adjMap[curr].add(new)\n",
    "                            adjMap[new].add(curr)\n",
    "                i += 1\n",
    "            return adjMap\n",
    "        \n",
    "        # classic bfs algorithm\n",
    "        def bfs(adjMap, beginWord, endWord):\n",
    "            level= {beginWord:1}\n",
    "            parent = {beginWord:None}\n",
    "            queue = [beginWord]\n",
    "            i = 2\n",
    "            while queue:\n",
    "                nextList = []\n",
    "                for u in queue:\n",
    "                    for v in adjMap[u]:\n",
    "                        if v not in level:\n",
    "                            parent[v] = u\n",
    "                            level[v] = i\n",
    "                            nextList.append(v)\n",
    "                i += 1\n",
    "                queue = nextList\n",
    "            return [level, parent]\n",
    "        \n",
    "        adjMap = getAdjList(beginWord, endWord, wordList)\n",
    "        [level, parent] = bfs(adjMap, beginWord, endWord)\n",
    "        \n",
    "        # show path:\n",
    "        \n",
    "        # path = []\n",
    "        # parents = endWord\n",
    "        # while parents != None:\n",
    "        #     path.append(parents)\n",
    "        #     parents = parent[parents]\n",
    "        # path.reverse()\n",
    "        # print(path)\n",
    "        \n",
    "        return 0 if endWord not in level else level[endWord]\n",
    "        \n",
    "        \n",
    "                \n",
    "            "
   ]
  }
 ],
 "metadata": {
  "kernelspec": {
   "display_name": "Python 3",
   "language": "python",
   "name": "python3"
  },
  "language_info": {
   "codemirror_mode": {
    "name": "ipython",
    "version": 3
   },
   "file_extension": ".py",
   "mimetype": "text/x-python",
   "name": "python",
   "nbconvert_exporter": "python",
   "pygments_lexer": "ipython3",
   "version": "3.7.4"
  }
 },
 "nbformat": 4,
 "nbformat_minor": 2
}
