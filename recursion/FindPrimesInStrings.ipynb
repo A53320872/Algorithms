{
 "cells": [
  {
   "cell_type": "markdown",
   "metadata": {},
   "source": [
    "典型的dp问题，和wordLadder类似，注意组合子集的情况。\n",
    "https://stackoverflow.com/questions/59407508/how-to-count-the-number-of-ways-a-given-string-can-be-split-into-prime-numbers"
   ]
  },
  {
   "cell_type": "code",
   "execution_count": 67,
   "metadata": {},
   "outputs": [],
   "source": [
    "def getPrimes(s):\n",
    "    Prime = set([2])\n",
    "    for n in range(3, 1001):\n",
    "        prm = True\n",
    "        for i in range(2, n//2+1):\n",
    "            if n % i == 0:\n",
    "                prm = False\n",
    "                break\n",
    "        if prm == True: Prime.add(n)\n",
    "    print(\"Prime Numbers: \", Prime)\n",
    "    \n",
    "    def recur(s):\n",
    "        if s == \"\": return []\n",
    "        \n",
    "        answer = []\n",
    "        if int(s) in Prime: answer = [[s]]\n",
    "            \n",
    "        i = 0\n",
    "        while i < len(s):\n",
    "            left = s[:i+1]\n",
    "            right = s[i+1:]\n",
    "\n",
    "            if int(left) in Prime:\n",
    "                subset = recur(right)\n",
    "                for e in subset:\n",
    "                    answer.append([left] + e)\n",
    "            i += 1\n",
    "        return answer\n",
    "    \n",
    "    print(\"Answer: \", recur(s))\n",
    "    \n",
    "            \n",
    "            "
   ]
  },
  {
   "cell_type": "code",
   "execution_count": 68,
   "metadata": {},
   "outputs": [
    {
     "name": "stdout",
     "output_type": "stream",
     "text": [
      "Prime Numbers:  {2, 3, 5, 7, 521, 11, 523, 13, 17, 19, 23, 29, 541, 31, 547, 37, 41, 43, 557, 47, 563, 53, 569, 59, 571, 61, 577, 67, 71, 73, 587, 79, 593, 83, 599, 89, 601, 607, 97, 101, 613, 103, 617, 107, 619, 109, 113, 631, 127, 641, 131, 643, 647, 137, 139, 653, 659, 149, 661, 151, 157, 673, 163, 677, 167, 683, 173, 179, 691, 181, 701, 191, 193, 197, 709, 199, 719, 211, 727, 733, 223, 227, 739, 229, 743, 233, 239, 751, 241, 757, 761, 251, 257, 769, 773, 263, 269, 271, 787, 277, 281, 283, 797, 293, 809, 811, 307, 821, 311, 823, 313, 827, 317, 829, 839, 331, 337, 853, 857, 347, 859, 349, 863, 353, 359, 877, 367, 881, 883, 373, 887, 379, 383, 389, 907, 397, 911, 401, 919, 409, 929, 419, 421, 937, 941, 431, 433, 947, 439, 953, 443, 449, 967, 457, 971, 461, 463, 977, 467, 983, 479, 991, 997, 487, 491, 499, 503, 509}\n",
      "Answer:  [['11', '373'], ['11', '3', '73'], ['11', '3', '7', '3'], ['11', '37', '3'], ['113', '73'], ['113', '7', '3']]\n"
     ]
    }
   ],
   "source": [
    "getPrimes(\"11373\")"
   ]
  }
 ],
 "metadata": {
  "kernelspec": {
   "display_name": "Python 3",
   "language": "python",
   "name": "python3"
  },
  "language_info": {
   "codemirror_mode": {
    "name": "ipython",
    "version": 3
   },
   "file_extension": ".py",
   "mimetype": "text/x-python",
   "name": "python",
   "nbconvert_exporter": "python",
   "pygments_lexer": "ipython3",
   "version": "3.7.4"
  }
 },
 "nbformat": 4,
 "nbformat_minor": 2
}
