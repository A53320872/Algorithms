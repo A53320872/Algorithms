{
 "cells": [
  {
   "cell_type": "code",
   "execution_count": null,
   "metadata": {},
   "outputs": [],
   "source": [
    "# Greedy method\n",
    "# First put the odd position, then put the even position\n",
    "# According to the amount of each element\n",
    "\n",
    "class Solution(object):\n",
    "    def reorganizeString(self, S):\n",
    "        \"\"\"\n",
    "        :type S: str\n",
    "        :rtype: str\n",
    "        \"\"\"\n",
    "        heap = []\n",
    "        C = Counter(S)\n",
    "        maxNum = 0\n",
    "        for e in C:\n",
    "            heap.append([-C[e], e])\n",
    "            maxNum = max(maxNum, C[e])\n",
    "        if maxNum > (len(S) + 1) // 2:\n",
    "            return \"\"\n",
    "        \n",
    "        heapq.heapify(heap)\n",
    "        # print(heap)\n",
    "        \n",
    "        res = [\"\" for i in range(len(S))]\n",
    "        \n",
    "        i = 0\n",
    "        while heap:\n",
    "            [negCount, cur] = heapq.heappop(heap)\n",
    "            k = 0\n",
    "            while k < -negCount:\n",
    "                if i >= len(S): \n",
    "                    i = 1\n",
    "                res[i] = cur\n",
    "                k += 1\n",
    "                i += 2\n",
    "        return \"\".join(res) \n",
    "                \n",
    "            \n",
    "        \n",
    "        \n",
    "        "
   ]
  }
 ],
 "metadata": {
  "kernelspec": {
   "display_name": "Python 3",
   "language": "python",
   "name": "python3"
  },
  "language_info": {
   "codemirror_mode": {
    "name": "ipython",
    "version": 3
   },
   "file_extension": ".py",
   "mimetype": "text/x-python",
   "name": "python",
   "nbconvert_exporter": "python",
   "pygments_lexer": "ipython3",
   "version": "3.7.4"
  }
 },
 "nbformat": 4,
 "nbformat_minor": 2
}
