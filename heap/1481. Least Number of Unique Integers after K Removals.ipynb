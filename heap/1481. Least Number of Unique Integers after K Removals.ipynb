{
 "cells": [
  {
   "cell_type": "code",
   "execution_count": null,
   "metadata": {},
   "outputs": [],
   "source": [
    "https://leetcode.com/problems/least-number-of-unique-integers-after-k-removals/submissions/"
   ]
  },
  {
   "cell_type": "code",
   "execution_count": null,
   "metadata": {},
   "outputs": [],
   "source": [
    "class Solution(object):\n",
    "    def findLeastNumOfUniqueInts(self, arr, k):\n",
    "        \"\"\"\n",
    "        :type arr: List[int]\n",
    "        :type k: int\n",
    "        :rtype: int\n",
    "        \"\"\"\n",
    "        counter = Counter(arr)\n",
    "        heap = []\n",
    "        for n in set(arr):\n",
    "            heap.append((counter[n], n))\n",
    "        heapq.heapify(heap)\n",
    "        while heap != []:\n",
    "            topCount, topNum = heapq.heappop(heap)\n",
    "            if topCount > k:\n",
    "                return len(heap) + 1\n",
    "            else:\n",
    "                k -= topCount\n",
    "        return 0\n",
    "            \n",
    "            "
   ]
  }
 ],
 "metadata": {
  "kernelspec": {
   "display_name": "Python 3",
   "language": "python",
   "name": "python3"
  },
  "language_info": {
   "codemirror_mode": {
    "name": "ipython",
    "version": 3
   },
   "file_extension": ".py",
   "mimetype": "text/x-python",
   "name": "python",
   "nbconvert_exporter": "python",
   "pygments_lexer": "ipython3",
   "version": "3.7.4"
  }
 },
 "nbformat": 4,
 "nbformat_minor": 2
}
