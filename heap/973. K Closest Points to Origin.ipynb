{
 "cells": [
  {
   "cell_type": "markdown",
   "metadata": {},
   "source": [
    "1. n^2\n",
    "2. nlogk\n",
    "https://leetcode.com/problems/k-closest-points-to-origin/submissions/"
   ]
  },
  {
   "cell_type": "code",
   "execution_count": null,
   "metadata": {},
   "outputs": [],
   "source": [
    "## nlogk\n",
    "class Solution(object):\n",
    "    def kClosest(self, points, K):\n",
    "        \"\"\"\n",
    "        :type points: List[List[int]]\n",
    "        :type K: int\n",
    "        :rtype: List[List[int]]\n",
    "        \"\"\"\n",
    "        heap = []\n",
    "        for p in points:\n",
    "            heapq.heappush(heap, (p[0]**2 + p[1]**2, p))\n",
    "        res = []\n",
    "        while K > 0:\n",
    "            top = heapq.heappop(heap)\n",
    "            res.append(top[1])\n",
    "            K -= 1\n",
    "        return res"
   ]
  },
  {
   "cell_type": "code",
   "execution_count": null,
   "metadata": {},
   "outputs": [],
   "source": [
    "## n^2\n",
    "class Solution(object):\n",
    "    def kClosest(self, points, K):\n",
    "        \"\"\"\n",
    "        :type points: List[List[int]]\n",
    "        :type K: int\n",
    "        :rtype: List[List[int]]\n",
    "        \"\"\"\n",
    "        dict = {}\n",
    "        listDis = []\n",
    "        for i, e in enumerate(points):\n",
    "            distance = e[0]**2 + e[1]**2\n",
    "            if distance not in dict:\n",
    "                listDis.append(distance)\n",
    "                dict[distance] = [e]\n",
    "            else:\n",
    "                dict[distance].append(e)\n",
    "        res = []\n",
    "        count = 0\n",
    "        listDis.sort()\n",
    "        for i, e in enumerate(listDis):\n",
    "            for sub in dict[e]:\n",
    "                res.append(sub)\n",
    "                count += 1\n",
    "                if count == K: return res"
   ]
  }
 ],
 "metadata": {
  "kernelspec": {
   "display_name": "Python 3",
   "language": "python",
   "name": "python3"
  },
  "language_info": {
   "codemirror_mode": {
    "name": "ipython",
    "version": 3
   },
   "file_extension": ".py",
   "mimetype": "text/x-python",
   "name": "python",
   "nbconvert_exporter": "python",
   "pygments_lexer": "ipython3",
   "version": "3.7.4"
  }
 },
 "nbformat": 4,
 "nbformat_minor": 2
}
