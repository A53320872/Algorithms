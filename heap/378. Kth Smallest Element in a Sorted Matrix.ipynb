{
 "cells": [
  {
   "cell_type": "code",
   "execution_count": null,
   "metadata": {},
   "outputs": [],
   "source": [
    "https://leetcode.com/problems/kth-smallest-element-in-a-sorted-matrix/submissions/"
   ]
  },
  {
   "cell_type": "code",
   "execution_count": null,
   "metadata": {},
   "outputs": [],
   "source": [
    "class Solution(object):\n",
    "    def kthSmallest(self, matrix, k):\n",
    "        \"\"\"\n",
    "        :type matrix: List[List[int]]\n",
    "        :type k: int\n",
    "        :rtype: int\n",
    "        \"\"\"\n",
    "        row = len(matrix)\n",
    "        if row == 0: return 0\n",
    "        col = len(matrix[0])\n",
    "        \n",
    "        heap = []\n",
    "        i = 0\n",
    "        while i < row:\n",
    "            j = 0\n",
    "            while j < col:\n",
    "                heapq.heappush(heap, matrix[i][j])\n",
    "                j += 1\n",
    "            i += 1\n",
    "        print(heap)\n",
    "        c = 1\n",
    "        while True:\n",
    "            if c == k: return heap[0]\n",
    "            c += 1\n",
    "            heapq.heappop(heap)"
   ]
  },
  {
   "cell_type": "code",
   "execution_count": null,
   "metadata": {},
   "outputs": [],
   "source": [
    "// golang\n",
    "\n",
    "type IntHeap []int\n",
    "\n",
    "func (h IntHeap) Len() int           { return len(h) }\n",
    "func (h IntHeap) Less(i, j int) bool { return h[i] < h[j] }\n",
    "func (h IntHeap) Swap(i, j int)      { h[i], h[j] = h[j], h[i] }\n",
    "\n",
    "func (h *IntHeap) Push(x interface{}) {\n",
    "\t// Push and Pop use pointer receivers because they modify the slice's length,\n",
    "\t// not just its contents.\n",
    "\t*h = append(*h, x.(int))\n",
    "}\n",
    "\n",
    "func (h *IntHeap) Pop() interface{} {\n",
    "\told := *h\n",
    "\tn := len(old)\n",
    "\tx := old[n-1]\n",
    "\t*h = old[0 : n-1]\n",
    "\treturn x\n",
    "}\n",
    "\n",
    "func kthSmallest(matrix [][]int, k int) int {\n",
    "    if len(matrix) == 0 { return 0}\n",
    "    \n",
    "    h := &IntHeap{}\n",
    "    for i := 0; i < len(matrix); i ++ {\n",
    "        for j := 0; j < len(matrix[0]); j ++ {\n",
    "            heap.Push(h, matrix[i][j])\n",
    "        }\n",
    "    }\n",
    "    \n",
    "    for k > 1 {\n",
    "        heap.Pop(h)\n",
    "        k -= 1\n",
    "    }\n",
    "    \n",
    "    return (*h)[0]\n",
    "}"
   ]
  }
 ],
 "metadata": {
  "kernelspec": {
   "display_name": "Python 3",
   "language": "python",
   "name": "python3"
  },
  "language_info": {
   "codemirror_mode": {
    "name": "ipython",
    "version": 3
   },
   "file_extension": ".py",
   "mimetype": "text/x-python",
   "name": "python",
   "nbconvert_exporter": "python",
   "pygments_lexer": "ipython3",
   "version": "3.7.4"
  }
 },
 "nbformat": 4,
 "nbformat_minor": 2
}
