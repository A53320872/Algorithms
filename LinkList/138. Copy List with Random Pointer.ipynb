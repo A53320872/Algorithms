{
 "cells": [
  {
   "cell_type": "markdown",
   "metadata": {},
   "source": [
    "mark the index and random node\n",
    "https://leetcode.com/problems/copy-list-with-random-pointer/"
   ]
  },
  {
   "cell_type": "code",
   "execution_count": null,
   "metadata": {},
   "outputs": [],
   "source": [
    "\"\"\"\n",
    "# Definition for a Node.\n",
    "class Node:\n",
    "    def __init__(self, x, next=None, random=None):\n",
    "        self.val = int(x)\n",
    "        self.next = next\n",
    "        self.random = random\n",
    "\"\"\"\n",
    "\n",
    "class Solution(object):\n",
    "    def copyRandomList(self, head):\n",
    "        \"\"\"\n",
    "        :type head: Node\n",
    "        :rtype: Node\n",
    "        \"\"\"\n",
    "        # helper variables\n",
    "        orIndex = {}\n",
    "        orRandom = {}\n",
    "        orhead = head\n",
    "        \n",
    "        # mark node index\n",
    "        i = 0\n",
    "        while head:\n",
    "            orIndex[head] = i\n",
    "            i += 1\n",
    "            head = head.next\n",
    "        head = orhead \n",
    "        \n",
    "        # mark random node index\n",
    "        i = 0\n",
    "        while head:\n",
    "            if head.random != None:\n",
    "                orRandom[i] = orIndex[head.random]\n",
    "            else:\n",
    "                orRandom[i] = None\n",
    "            head = head.next\n",
    "            i += 1\n",
    "        \n",
    "        # create link list without random point\n",
    "        head = orhead\n",
    "        pre = Node(-1)\n",
    "        start = pre\n",
    "        nodeList = []\n",
    "        while head:\n",
    "            newNode = Node(head.val)\n",
    "            pre.next = newNode\n",
    "            head = head.next\n",
    "            pre = pre.next\n",
    "            nodeList.append(newNode)\n",
    "            \n",
    "        # add random point using marked map\n",
    "        i = 0\n",
    "        while i < len(nodeList):\n",
    "            if orRandom[i] != None:\n",
    "                nodeList[i].random = nodeList[orRandom[i]]\n",
    "            else:\n",
    "                nodeList[i].random = None\n",
    "            i += 1\n",
    "        return start.next\n",
    "            \n",
    "            \n",
    "        "
   ]
  }
 ],
 "metadata": {
  "kernelspec": {
   "display_name": "Python 3",
   "language": "python",
   "name": "python3"
  },
  "language_info": {
   "codemirror_mode": {
    "name": "ipython",
    "version": 3
   },
   "file_extension": ".py",
   "mimetype": "text/x-python",
   "name": "python",
   "nbconvert_exporter": "python",
   "pygments_lexer": "ipython3",
   "version": "3.7.4"
  }
 },
 "nbformat": 4,
 "nbformat_minor": 2
}
