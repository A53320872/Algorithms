{
 "cells": [
  {
   "cell_type": "code",
   "execution_count": null,
   "metadata": {},
   "outputs": [],
   "source": [
    "# regular dynammic programming\n",
    "# notice to use index to save memory\n",
    "class Solution(object):\n",
    "    def canCross(self, stones):\n",
    "        \"\"\"\n",
    "        :type stones: List[int]\n",
    "        :rtype: bool\n",
    "        \"\"\"\n",
    "        mem = {}\n",
    "        st = set(stones)\n",
    "        Index = {}\n",
    "        for i,e in enumerate(stones):\n",
    "            Index[e] = i\n",
    "        def recur(stIndex, lastJP):\n",
    "            if (stIndex, lastJP) in mem:\n",
    "                return mem[(stIndex, lastJP)]\n",
    "            if stIndex == len(stones)-1:\n",
    "                mem[(stIndex, lastJP)] = True\n",
    "                return True\n",
    "            res = set([])\n",
    "            if lastJP - 1 > 0 and stones[stIndex] + lastJP - 1 in st:\n",
    "                res.add(recur(Index[stones[stIndex] + lastJP - 1], lastJP - 1))\n",
    "            if stones[stIndex] + lastJP in st:\n",
    "                res.add(recur(Index[stones[stIndex] + lastJP], lastJP))\n",
    "            if stones[stIndex] + lastJP + 1 in st:\n",
    "                res.add(recur(Index[stones[stIndex] + lastJP + 1], lastJP + 1))\n",
    "            mem[(stIndex, lastJP)] = True if True in res else False\n",
    "            return True if True in res else False\n",
    "        if len(stones) <= 1: return True\n",
    "        if stones[0] + 1 != stones[1]: return False\n",
    "        return recur(1, 1)"
   ]
  }
 ],
 "metadata": {
  "kernelspec": {
   "display_name": "Python 3",
   "language": "python",
   "name": "python3"
  },
  "language_info": {
   "codemirror_mode": {
    "name": "ipython",
    "version": 3
   },
   "file_extension": ".py",
   "mimetype": "text/x-python",
   "name": "python",
   "nbconvert_exporter": "python",
   "pygments_lexer": "ipython3",
   "version": "3.7.4"
  }
 },
 "nbformat": 4,
 "nbformat_minor": 2
}
