{
 "cells": [
  {
   "cell_type": "markdown",
   "metadata": {},
   "source": [
    "常规的动态编程问题\n",
    "升级版：140-word break 2"
   ]
  },
  {
   "cell_type": "code",
   "execution_count": null,
   "metadata": {},
   "outputs": [],
   "source": [
    "class Solution(object):\n",
    "    def wordBreak(self, s, wordDict):\n",
    "        \"\"\"\n",
    "        :type s: str\n",
    "        :type wordDict: List[str]\n",
    "        :rtype: List[str]\n",
    "        \"\"\"\n",
    "        words = set(wordDict)\n",
    "        mem = {}\n",
    "        \n",
    "        def check(s):\n",
    "            if s in mem: return mem[s]\n",
    "            if s in words:\n",
    "                mem[s] = True\n",
    "                return True\n",
    "            i = 0\n",
    "            while i < len(s):\n",
    "                left = s[:i+1]\n",
    "                right = s[i+1:]\n",
    "                if left in words:\n",
    "                    if check(right) == True:\n",
    "                        mem[s] = True\n",
    "                        return True\n",
    "                i += 1\n",
    "            mem[s] = False\n",
    "            return False\n",
    "        return check(s)\n",
    "    \n",
    "    # 从后向前版本\n",
    "    \n",
    "#         def check(s):\n",
    "#             if s in mem: return mem[s]\n",
    "#             if s in words:\n",
    "#                 mem[s] = True\n",
    "#                 return True\n",
    "#             i = len(s)-1\n",
    "#             while i >= 0:\n",
    "#                 right = s[i:]\n",
    "#                 if right in words:\n",
    "#                     left = s[:i]\n",
    "#                     if check(left) == True:\n",
    "#                         mem[s] = True\n",
    "#                         return True\n",
    "#                 i -= 1\n",
    "#             mem[s] = False\n",
    "#             return False\n",
    "#         return check(s)\n",
    "        \n",
    "                    \n",
    "                \n",
    "            \n",
    "            "
   ]
  }
 ],
 "metadata": {
  "kernelspec": {
   "display_name": "Python 3",
   "language": "python",
   "name": "python3"
  },
  "language_info": {
   "codemirror_mode": {
    "name": "ipython",
    "version": 3
   },
   "file_extension": ".py",
   "mimetype": "text/x-python",
   "name": "python",
   "nbconvert_exporter": "python",
   "pygments_lexer": "ipython3",
   "version": "3.7.4"
  }
 },
 "nbformat": 4,
 "nbformat_minor": 2
}
