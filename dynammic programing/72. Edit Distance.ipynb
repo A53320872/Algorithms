{
 "cells": [
  {
   "cell_type": "code",
   "execution_count": null,
   "metadata": {},
   "outputs": [],
   "source": [
    "https://leetcode.com/problems/edit-distance/"
   ]
  },
  {
   "cell_type": "code",
   "execution_count": null,
   "metadata": {},
   "outputs": [],
   "source": [
    "class Solution(object):\n",
    "    def minDistance(self, word1, word2):\n",
    "        \"\"\"\n",
    "        :type word1: str\n",
    "        :type word2: str\n",
    "        :rtype: int\n",
    "        \"\"\"\n",
    "        mem = {}\n",
    "        def recur(word1, word2):\n",
    "            if (word1, word2) in mem: return mem[(word1, word2)]\n",
    "            if word1 == \"\": return len(word2)\n",
    "            if word2 == \"\": return len(word1)\n",
    "            if word1[-1] == word2[-1]:\n",
    "                return recur(word1[:-1], word2[:-1])\n",
    "        \n",
    "            r1 = recur(word1[:-1], word2) # delete\n",
    "            r2 = recur(word1, word2[:-1]) # insert\n",
    "            r3 = recur(word1[:-1], word2[:-1]) # replace\n",
    "            \n",
    "            mem[(word1, word2)] = min(r1, r2, r3) + 1\n",
    "            return mem[(word1, word2)]\n",
    "        return recur(word1, word2)"
   ]
  },
  {
   "cell_type": "code",
   "execution_count": null,
   "metadata": {},
   "outputs": [],
   "source": [
    "// golang\n",
    "func min(nums []int) int {\n",
    "    if len(nums) == 0 { return 0 }\n",
    "    minimum := nums[0]\n",
    "    for _,n := range(nums[1:]) {\n",
    "        if n < minimum {\n",
    "            minimum = n\n",
    "        }\n",
    "    }\n",
    "    return minimum\n",
    "}\n",
    "\n",
    "func recur(word1 string, word2 string, mem map[[2] string] int) int {\n",
    "    pairs := [2]string{word1, word2}\n",
    "    if val, ok := mem[pairs]; ok {\n",
    "        return val\n",
    "    }\n",
    "    l1, l2 := len(word1), len(word2)\n",
    "    if l1 == 0 { return len(word2) }\n",
    "    if l2 == 0 { return len(word1) }\n",
    "    if word1[l1-1] == word2[l2-1] { \n",
    "        return recur(word1[:l1-1], word2[:l2-1], mem)\n",
    "    }\n",
    "    \n",
    "    r1 := recur(word1[:l1-1], word2, mem) // delete\n",
    "    r2 := recur(word1, word2[:l2-1], mem) // insert\n",
    "    r3 := recur(word1[:l1-1], word2[:l2-1], mem) // replace\n",
    "    \n",
    "    mem[pairs] = min([]int{r1, r2, r3}) + 1\n",
    "    return mem[pairs]\n",
    "}\n",
    "\n",
    "\n",
    "func minDistance(word1 string, word2 string) int {\n",
    "    fmt.Println(min([]int{1,5,3,2,5,7,9,0,0,8}))\n",
    "    mem := map[[2] string] int{}\n",
    "    return recur(word1, word2, mem)\n",
    "}"
   ]
  }
 ],
 "metadata": {
  "kernelspec": {
   "display_name": "Python 3",
   "language": "python",
   "name": "python3"
  },
  "language_info": {
   "codemirror_mode": {
    "name": "ipython",
    "version": 3
   },
   "file_extension": ".py",
   "mimetype": "text/x-python",
   "name": "python",
   "nbconvert_exporter": "python",
   "pygments_lexer": "ipython3",
   "version": "3.7.4"
  }
 },
 "nbformat": 4,
 "nbformat_minor": 2
}
