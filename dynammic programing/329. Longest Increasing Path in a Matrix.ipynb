{
 "cells": [
  {
   "cell_type": "code",
   "execution_count": null,
   "metadata": {},
   "outputs": [],
   "source": [
    "https://leetcode.com/problems/longest-increasing-path-in-a-matrix/"
   ]
  },
  {
   "cell_type": "code",
   "execution_count": null,
   "metadata": {},
   "outputs": [],
   "source": [
    "class Solution(object):\n",
    "    def longestIncreasingPath(self, matrix):\n",
    "        \"\"\"\n",
    "        :type matrix: List[List[int]]\n",
    "        :rtype: int\n",
    "        \"\"\"\n",
    "        if len(matrix) == 0: return 0\n",
    "        row, col = len(matrix), len(matrix[0])\n",
    "        zeroNodes = []\n",
    "        for i in range(row):\n",
    "            j = 0\n",
    "            for j in range(col):\n",
    "                minNeighboor = matrix[i][j]\n",
    "                if i + 1 < row: minNeighboor = min(minNeighboor, matrix[i+1][j])\n",
    "                if j + 1 < col: minNeighboor = min(minNeighboor, matrix[i][j+1])  \n",
    "                if i - 1 >= 0: minNeighboor = min(minNeighboor, matrix[i-1][j])\n",
    "                if j - 1 >= 0: minNeighboor = min(minNeighboor, matrix[i][j-1])\n",
    "                if minNeighboor == matrix[i][j]: zeroNodes.append((i,j))\n",
    "\n",
    "        def dfs((i,j), pathLen, path):\n",
    "            if (i,j) in mem: return mem[(i,j)]\n",
    "            down, right, up, left = 0, 0, 0, 0\n",
    "            if i + 1 < row and matrix[i+1][j] > matrix[i][j]: # down\n",
    "                down = dfs((i+1, j), pathLen+1, path + [(i+1, j)])\n",
    "            if j + 1 < col and matrix[i][j+1] > matrix[i][j]: # right:\n",
    "                right = dfs((i, j+1), pathLen+1, path + [(i, j+1)])\n",
    "            if i - 1 >= 0 and matrix[i-1][j] > matrix[i][j]: # up:\n",
    "                up = dfs((i-1, j), pathLen+1, path + [(i-1, j)])\n",
    "            if j - 1 >= 0 and matrix[i][j-1] > matrix[i][j]: # left\n",
    "                left = dfs((i, j-1), pathLen+1, path + [(i, j-1)])\n",
    "            res = max([down, right, up, left]) + 1\n",
    "            mem[(i,j)] = res\n",
    "            return res\n",
    "        maxLen = 0\n",
    "        mem = {}\n",
    "        for start in zeroNodes:\n",
    "            maxLen = max(maxLen, dfs(start, 1, [start]))\n",
    "        return maxLen"
   ]
  }
 ],
 "metadata": {
  "kernelspec": {
   "display_name": "Python 3",
   "language": "python",
   "name": "python3"
  },
  "language_info": {
   "codemirror_mode": {
    "name": "ipython",
    "version": 3
   },
   "file_extension": ".py",
   "mimetype": "text/x-python",
   "name": "python",
   "nbconvert_exporter": "python",
   "pygments_lexer": "ipython3",
   "version": "3.7.4"
  }
 },
 "nbformat": 4,
 "nbformat_minor": 2
}
