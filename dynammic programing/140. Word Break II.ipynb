{
 "cells": [
  {
   "cell_type": "code",
   "execution_count": null,
   "metadata": {},
   "outputs": [],
   "source": [
    "挺难的一道题\n",
    "\n",
    "首先判断动态返回的值是单个还是多个。这里，由于每一个串e.g. catsanddog可能会有多种可能的分解，因此每一个串s的返回值\n",
    "必须能够涵盖所有的情况。于是我们考虑用list作为递归函数的返回值类型，用来存储所有可能的分解。\n",
    "\n",
    "明白这种思想之后，我们只需要在进入每一个递归函数时都创建一个新的数组来存储所有的情况，并对于子问题中所有符合条件的情况，\n",
    "都添加到当前的结果集合里面即可。\n",
    "\n",
    "多练习，多写几次就能明白这道题目的难点。\n",
    "\n",
    "主要的思想就是： 因为每个串的分解情况可能有多个，因此用list来存储所有的可能情况。\n"
   ]
  },
  {
   "cell_type": "code",
   "execution_count": null,
   "metadata": {},
   "outputs": [],
   "source": [
    "class Solution:\n",
    "    def wordBreak(self, s, wordDict):\n",
    "        words = set(wordDict)\n",
    "        mem = {}\n",
    "        def wordBreak(s):\n",
    "            if s in mem: return mem[s]\n",
    "            i = 0\n",
    "            ans = []\n",
    "            \n",
    "            # 无需分割，算是s的一种可能解\n",
    "            if s in words:\n",
    "                ans.append(s)\n",
    "            \n",
    "            # 分割，求所有的可能解\n",
    "            while i < len(s):\n",
    "                left = s[:i+1]\n",
    "                if left not in words:\n",
    "                    i += 1\n",
    "                    continue\n",
    "                right = s[i+1:]\n",
    "                \n",
    "                # 收集所有可能的解\n",
    "                tmp = []\n",
    "                right_ans = wordBreak(right) # 因为每个串的偶可能有多个解，因此必须是list形式\n",
    "                for e in right_ans:\n",
    "                    # 将左和右合并成s的一个完整解\n",
    "                    \n",
    "                    # tmp.append([left, e]) # 此段代码代替下一行可用来显示分解的步骤\n",
    "                    tmp.append(left + ' ' + e)\n",
    "                \n",
    "                # 收集对于s所有可能的解\n",
    "                ans += tmp\n",
    "                i += 1\n",
    "            mem[s] = ans\n",
    "            return ans\n",
    "        return wordBreak(s)\n",
    "                \n",
    "        # 将左右对调，速度会更快。\n",
    "        # words = set(wordDict)\n",
    "        # mem = {}\n",
    "        # def wordBreak(s):\n",
    "        #     if s in mem: return mem[s]\n",
    "        #     ans = []\n",
    "        #     if s in words: ans.append(s)\n",
    "        #     for i in range(1, len(s)):\n",
    "        #         right = s[i:]\n",
    "        #         if right not in words: continue        \n",
    "        #         ans += [w + \" \" + right for w in wordBreak(s[:i])]\n",
    "        #     mem[s] = ans\n",
    "        #     return mem[s]\n",
    "        # return wordBreak(s)\n"
   ]
  }
 ],
 "metadata": {
  "kernelspec": {
   "display_name": "Python 3",
   "language": "python",
   "name": "python3"
  },
  "language_info": {
   "codemirror_mode": {
    "name": "ipython",
    "version": 3
   },
   "file_extension": ".py",
   "mimetype": "text/x-python",
   "name": "python",
   "nbconvert_exporter": "python",
   "pygments_lexer": "ipython3",
   "version": "3.7.4"
  }
 },
 "nbformat": 4,
 "nbformat_minor": 2
}
