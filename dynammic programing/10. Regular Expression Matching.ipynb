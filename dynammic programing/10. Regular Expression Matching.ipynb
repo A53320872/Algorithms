{
 "cells": [
  {
   "cell_type": "code",
   "execution_count": null,
   "metadata": {},
   "outputs": [],
   "source": [
    "基本的动态编程思想：\n",
    "\n",
    "注意：\n",
    "base case很重要。\n",
    "本题一个小坑： 当 s = 'abc' p = 'a*b*'时， 传入下个dp的p可以是当前的p或者是去掉第一个'a*'之后的p（要同时考虑这两个情况）。\n",
    "即 line25： return check(s[1:], p) or check(s, p[2:])"
   ]
  },
  {
   "cell_type": "code",
   "execution_count": null,
   "metadata": {},
   "outputs": [],
   "source": [
    "class Solution(object):\n",
    "    def isMatch(self, s, p):\n",
    "        \"\"\"\n",
    "        :type s: str\n",
    "        :type p: str\n",
    "        :rtype: bool\n",
    "        \"\"\"\n",
    "        mem = {}\n",
    "        def check(s, p):\n",
    "            if (s, p) in mem: return mem[(s, p)]\n",
    "            if len(s) == 0:\n",
    "                if len(p) == 0: return True\n",
    "                if len(p) == 1: return False\n",
    "                c = p.count('*')\n",
    "                l = len(p)\n",
    "                return True if c == l-c else False\n",
    "            if len(p) == 0: return False\n",
    "            if len(p) == 1: return True if (len(s) == 1 and (s == p or p == '.')) else False\n",
    "            charS = s[0]\n",
    "            charP = p[0]\n",
    "            symb = p[1]\n",
    "            if symb == '*':\n",
    "                if charP == charS or charP == '.':\n",
    "                    mem[(s, p)] = check(s[1:], p) or check(s, p[2:])\n",
    "                    return check(s[1:], p) or check(s, p[2:])\n",
    "                else:\n",
    "                    mem[(s, p)] = check(s, p[2:])\n",
    "                    return check(s, p[2:])\n",
    "            if charS == charP or charP == '.':\n",
    "                mem[(s, p)] = check(s[1:], p[1:])\n",
    "                return check(s[1:], p[1:])\n",
    "            mem[(s, p)] = False\n",
    "            return False\n",
    "            \n",
    "        return check(s, p)\n",
    "                    \n",
    "                    \n",
    "                    \n",
    "                    \n",
    "                    "
   ]
  }
 ],
 "metadata": {
  "kernelspec": {
   "display_name": "Python 3",
   "language": "python",
   "name": "python3"
  },
  "language_info": {
   "codemirror_mode": {
    "name": "ipython",
    "version": 3
   },
   "file_extension": ".py",
   "mimetype": "text/x-python",
   "name": "python",
   "nbconvert_exporter": "python",
   "pygments_lexer": "ipython3",
   "version": "3.7.4"
  }
 },
 "nbformat": 4,
 "nbformat_minor": 2
}
