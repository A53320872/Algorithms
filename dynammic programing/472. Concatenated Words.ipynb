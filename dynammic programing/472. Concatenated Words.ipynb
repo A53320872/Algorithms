{
 "cells": [
  {
   "cell_type": "code",
   "execution_count": null,
   "metadata": {},
   "outputs": [],
   "source": [
    "# Modified Word break\n",
    "# Use word break for each word\n",
    "\n",
    "class Solution(object):\n",
    "    def findAllConcatenatedWordsInADict(self, words):\n",
    "        \"\"\"\n",
    "        :type words: List[str]\n",
    "        :rtype: List[str]\n",
    "        \"\"\"\n",
    "        # word break\n",
    "        def check(s, wordsDic, mem):\n",
    "            if s in mem:\n",
    "                return mem[s]\n",
    "            if s in wordsDic:\n",
    "                mem[s] = True\n",
    "                return True\n",
    "            i = 0\n",
    "            while i < len(s):\n",
    "                left = s[:i+1]\n",
    "                right = s[i+1:]\n",
    "                if left in wordsDic:\n",
    "                    if check(right, wordsDic, mem) == True:\n",
    "                        mem[s] = True\n",
    "                        return True\n",
    "                i += 1\n",
    "            mem[s] = False\n",
    "            return False\n",
    "        \n",
    "        res = []\n",
    "        dic = set(words)\n",
    "        for e in words:\n",
    "            dic.remove(e)\n",
    "            if check(e, dic, {}):\n",
    "                res.append(e)\n",
    "            dic.add(e)\n",
    "        return res\n",
    "            \n",
    "        \n",
    "        "
   ]
  }
 ],
 "metadata": {
  "kernelspec": {
   "display_name": "Python 3",
   "language": "python",
   "name": "python3"
  },
  "language_info": {
   "codemirror_mode": {
    "name": "ipython",
    "version": 3
   },
   "file_extension": ".py",
   "mimetype": "text/x-python",
   "name": "python",
   "nbconvert_exporter": "python",
   "pygments_lexer": "ipython3",
   "version": "3.7.4"
  }
 },
 "nbformat": 4,
 "nbformat_minor": 2
}
