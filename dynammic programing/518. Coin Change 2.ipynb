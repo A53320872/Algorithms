{
 "cells": [
  {
   "cell_type": "markdown",
   "metadata": {},
   "source": [
    "https://leetcode.com/problems/coin-change-2/\n",
    "numOfCombins(first i coins consist of A)\n",
    "= numOfCombins(first i-1 coins consist of A) + numOfCombins(first i coins consist of A-coin_i)"
   ]
  },
  {
   "cell_type": "code",
   "execution_count": null,
   "metadata": {},
   "outputs": [],
   "source": [
    "class Solution(object):\n",
    "    def change(self, amount, coins):\n",
    "        \"\"\"\n",
    "        :type amount: int\n",
    "        :type coins: List[int]\n",
    "        :rtype: int\n",
    "        \"\"\"\n",
    "        def dp(amount, i):\n",
    "            if (amount, i) in mem: return mem[(amount, i)]\n",
    "            if amount == 0: return 1\n",
    "            if amount < 0 or i < 0: return 0\n",
    "            \n",
    "            res = dp(amount, i-1) + dp(amount-coins[i], i)\n",
    "            mem[(amount, i)] = res\n",
    "            return res\n",
    "        mem = {}\n",
    "        return dp(amount, len(coins)-1)"
   ]
  },
  {
   "cell_type": "code",
   "execution_count": null,
   "metadata": {},
   "outputs": [],
   "source": [
    "// golang\n",
    "func dp(amount int, i int, mem map[[2]int]int, coins []int) int {\n",
    "    val, ok := mem[[2]int{amount, i}]\n",
    "    if ok {\n",
    "        return val\n",
    "    }\n",
    "    if amount == 0 {\n",
    "        return 1\n",
    "    }\n",
    "    if amount < 0 || i < 0 {\n",
    "        return 0\n",
    "    }\n",
    "    \n",
    "    res := dp(amount, i-1, mem, coins) + dp(amount-coins[i], i, mem, coins)\n",
    "    mem[[2]int{amount, i}] = res\n",
    "    return res\n",
    "}\n",
    "\n",
    "func change(amount int, coins []int) int {\n",
    "    mem := map[[2]int] int {}\n",
    "    return dp(amount, len(coins)-1, mem, coins)\n",
    "}"
   ]
  }
 ],
 "metadata": {
  "kernelspec": {
   "display_name": "Python 3",
   "language": "python",
   "name": "python3"
  },
  "language_info": {
   "codemirror_mode": {
    "name": "ipython",
    "version": 3
   },
   "file_extension": ".py",
   "mimetype": "text/x-python",
   "name": "python",
   "nbconvert_exporter": "python",
   "pygments_lexer": "ipython3",
   "version": "3.7.4"
  }
 },
 "nbformat": 4,
 "nbformat_minor": 2
}
