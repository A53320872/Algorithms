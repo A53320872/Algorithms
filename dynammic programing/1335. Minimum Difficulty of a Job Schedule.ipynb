{
 "cells": [
  {
   "cell_type": "code",
   "execution_count": null,
   "metadata": {},
   "outputs": [],
   "source": [
    "https://leetcode.com/problems/minimum-difficulty-of-a-job-schedule/"
   ]
  },
  {
   "cell_type": "code",
   "execution_count": null,
   "metadata": {},
   "outputs": [],
   "source": [
    "class Solution(object):\n",
    "    def minDifficulty(self, jobDifficulty, d):\n",
    "        \"\"\"\n",
    "        :type jobDifficulty: List[int]\n",
    "        :type d: int\n",
    "        :rtype: int\n",
    "        \"\"\"\n",
    "        # k tasks\n",
    "        # i days\n",
    "        # df[k][i] = min{ df[k-t][i-1]: for all cut with t in 1 day } + maximun(t,k)\n",
    "        if len(jobDifficulty) < d: return -1\n",
    "        mem = {}\n",
    "        def recur(jobs, d):\n",
    "            e =  (len(jobs), d) \n",
    "            if e in mem: return mem[e]\n",
    "            if len(jobs) < d: return float(\"inf\")\n",
    "            if d == 1:\n",
    "                mem[e] = max(jobs)\n",
    "                return mem[e]\n",
    "            \n",
    "            tmp = []\n",
    "            i = 1\n",
    "            while i < len(jobs):\n",
    "                remain = jobs[:i]\n",
    "                maximum = max(jobs[i:])\n",
    "                tmp.append(recur(remain, d-1) + maximum)\n",
    "                i += 1\n",
    "            mem[e] = min(tmp)\n",
    "            return mem[e]\n",
    "        return recur(jobDifficulty, d)\n",
    "        "
   ]
  },
  {
   "cell_type": "code",
   "execution_count": null,
   "metadata": {},
   "outputs": [],
   "source": [
    "//golang\n",
    "func max(nums []int) int {\n",
    "    res := nums[0]\n",
    "    for i:= 0; i < len(nums); i++ {\n",
    "        if nums[i] > res { res = nums[i] }\n",
    "    } \n",
    "    return res\n",
    "}\n",
    "\n",
    "func min(nums []int) int {\n",
    "    res := nums[0]\n",
    "    for i:= 0; i < len(nums); i++ {\n",
    "        if nums[i] < res { res = nums[i] }\n",
    "    } \n",
    "    return res\n",
    "}\n",
    "\n",
    "func recur(jobs []int, d int, mem map[[2]int]int, INF int) int {\n",
    "    e := [2]int{len(jobs), d}\n",
    "    if _,ok := mem[e]; ok { return mem[e] }\n",
    "    if len(jobs) < d { return INF }\n",
    "    if d == 1 {\n",
    "        mem[e] = max(jobs)\n",
    "        return mem[e]\n",
    "    }\n",
    "    \n",
    "    tmp := []int{}\n",
    "    for i := 1; i < len(jobs); i ++ {\n",
    "        maximum := max(jobs[i:])\n",
    "        tmp = append(tmp, recur(jobs[:i], d-1, mem, INF) + maximum)\n",
    "    }\n",
    "    mem[e] = min(tmp)\n",
    "    return mem[e]\n",
    "}\n",
    "\n",
    "func minDifficulty(jobDifficulty []int, d int) int {\n",
    "    if len(jobDifficulty) < d { return -1 }\n",
    "    INF := math.MaxInt32\n",
    "    \n",
    "    mem := map[[2]int]int{}\n",
    "    r := recur(jobDifficulty, d, mem, INF)\n",
    "    return r\n",
    "    \n",
    "}"
   ]
  }
 ],
 "metadata": {
  "kernelspec": {
   "display_name": "Python 3",
   "language": "python",
   "name": "python3"
  },
  "language_info": {
   "codemirror_mode": {
    "name": "ipython",
    "version": 3
   },
   "file_extension": ".py",
   "mimetype": "text/x-python",
   "name": "python",
   "nbconvert_exporter": "python",
   "pygments_lexer": "ipython3",
   "version": "3.7.4"
  }
 },
 "nbformat": 4,
 "nbformat_minor": 2
}
