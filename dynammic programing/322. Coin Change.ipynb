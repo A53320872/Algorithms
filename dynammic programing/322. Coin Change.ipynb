{
 "cells": [
  {
   "cell_type": "markdown",
   "metadata": {},
   "source": [
    "https://leetcode.com/problems/coin-change/\n",
    "regular dp"
   ]
  },
  {
   "cell_type": "code",
   "execution_count": 1,
   "metadata": {},
   "outputs": [],
   "source": [
    "class Solution(object):\n",
    "    def coinChange(self, coins, amount):\n",
    "        \"\"\"\n",
    "        :type coins: List[int]\n",
    "        :type amount: int\n",
    "        :rtype: int\n",
    "        \"\"\"\n",
    "        def recur(amount):\n",
    "            if amount in mem:\n",
    "                return mem[amount]\n",
    "            if amount in coins:\n",
    "                return 1\n",
    "            if amount == 0: return 0\n",
    "            n = float(\"inf\")\n",
    "            for c in coins:\n",
    "                if amount-c >= 0: \n",
    "                    n = min(n, recur(amount-c) + 1)\n",
    "            mem[amount] = n\n",
    "            return n\n",
    "        mem = {}\n",
    "        res = recur(amount)\n",
    "        return res if res != float(\"inf\") else -1"
   ]
  },
  {
   "cell_type": "code",
   "execution_count": null,
   "metadata": {},
   "outputs": [],
   "source": [
    "# golang\n",
    "var inf int\n",
    "\n",
    "func isIn(n int, nums []int) bool {\n",
    "    for _, e := range(nums) {\n",
    "        if e == n {\n",
    "            return true\n",
    "        }\n",
    "    }\n",
    "    return false\n",
    "}\n",
    "\n",
    "func min(n1 int, n2 int) int {\n",
    "    if n1 > n2 {\n",
    "        return n2\n",
    "    } else { return n1}\n",
    "}\n",
    "\n",
    "func recur(amount int, mem map[int]int, coins []int) int {\n",
    "    if mem[amount] != 0 {\n",
    "        return mem[amount]\n",
    "    }\n",
    "    if isIn(amount, coins) {\n",
    "        return 1\n",
    "    }\n",
    "    if amount == 0 {\n",
    "        return 0\n",
    "    }\n",
    "    \n",
    "    n := inf\n",
    "    \n",
    "    for _,c := range(coins) {\n",
    "        if amount-c >= 0 {\n",
    "            n = min(n, recur(amount-c, mem, coins) + 1)\n",
    "        }\n",
    "    }\n",
    "    mem[amount] = n\n",
    "    return n\n",
    "}\n",
    "\n",
    "func coinChange(coins []int, amount int) int {\n",
    "    inf = 999999\n",
    "    mem := map[int]int{}\n",
    "    res := recur(amount, mem, coins)\n",
    "    if res != inf {\n",
    "        return res\n",
    "    } else { return -1 }\n",
    "}"
   ]
  }
 ],
 "metadata": {
  "kernelspec": {
   "display_name": "Python 3",
   "language": "python",
   "name": "python3"
  },
  "language_info": {
   "codemirror_mode": {
    "name": "ipython",
    "version": 3
   },
   "file_extension": ".py",
   "mimetype": "text/x-python",
   "name": "python",
   "nbconvert_exporter": "python",
   "pygments_lexer": "ipython3",
   "version": "3.7.4"
  }
 },
 "nbformat": 4,
 "nbformat_minor": 2
}
