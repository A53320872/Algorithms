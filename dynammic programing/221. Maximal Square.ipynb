{
 "cells": [
  {
   "cell_type": "code",
   "execution_count": null,
   "metadata": {},
   "outputs": [],
   "source": [
    "https://leetcode.com/problems/maximal-square/"
   ]
  },
  {
   "cell_type": "code",
   "execution_count": null,
   "metadata": {},
   "outputs": [],
   "source": [
    "class Solution(object):\n",
    "    def maximalSquare(self, matrix):\n",
    "        \"\"\"\n",
    "        :type matrix: List[List[str]]\n",
    "        :rtype: int\n",
    "        \"\"\"\n",
    "        if len(matrix) == 0: return 0\n",
    "        \n",
    "        m,n = len(matrix), len(matrix[0])\n",
    "        \n",
    "        mem = [[0 for i in range(n)] for j in range(m)]\n",
    "        \n",
    "        maxSquare = 0\n",
    "        for i in range(m):\n",
    "            for j in range(n):\n",
    "                if matrix[i][j] == \"0\":\n",
    "                    mem[i][j] = 0\n",
    "                    continue\n",
    "                if i == 0 or j == 0:\n",
    "                    maxSquare = max(maxSquare, 1)\n",
    "                    mem[i][j] = 1 \n",
    "                else:\n",
    "                    mem[i][j] = min(mem[i-1][j], mem[i][j-1], mem[i-1][j-1]) + 1\n",
    "                    maxSquare = max(maxSquare, mem[i][j])\n",
    "        return maxSquare**2\n",
    "        "
   ]
  },
  {
   "cell_type": "code",
   "execution_count": null,
   "metadata": {},
   "outputs": [],
   "source": [
    "// golang\n",
    "func max(a int, b int) int {\n",
    "    if a > b { return a}\n",
    "    return b\n",
    "}\n",
    "\n",
    "func min(nums []int) int {\n",
    "    if len(nums) == 0 { return 0 }\n",
    "    \n",
    "    res := nums[0]\n",
    "    for _,n := range(nums) {\n",
    "        if n < res {\n",
    "            res = n\n",
    "        }\n",
    "    }\n",
    "    return res\n",
    "}\n",
    "\n",
    "func maximalSquare(matrix [][]byte) int {\n",
    "    if len(matrix) == 0 { return 0 }\n",
    "    m, n := len(matrix), len(matrix[0])\n",
    "    \n",
    "    mem := make([][]int, m)\n",
    "    for i := 0; i < m; i++ {\n",
    "        mem[i] = make([]int, n)\n",
    "    }\n",
    "    \n",
    "    maxSquare := 0\n",
    "    for i := 0; i < m; i++ {\n",
    "        for j := 0; j < n; j++ {\n",
    "            if string(matrix[i][j]) == \"0\" { \n",
    "                mem[i][j] = 0\n",
    "                continue\n",
    "            }\n",
    "            if i == 0 || j == 0 {\n",
    "                maxSquare = max(maxSquare, 1)\n",
    "                mem[i][j] = 1\n",
    "            } else {\n",
    "                mem[i][j] = min([]int{mem[i-1][j], mem[i][j-1], mem[i-1][j-1]}) + 1\n",
    "                maxSquare = max(maxSquare, mem[i][j])\n",
    "            }\n",
    "        }\n",
    "    }\n",
    "    return maxSquare * maxSquare\n",
    "}"
   ]
  }
 ],
 "metadata": {
  "kernelspec": {
   "display_name": "Python 3",
   "language": "python",
   "name": "python3"
  },
  "language_info": {
   "codemirror_mode": {
    "name": "ipython",
    "version": 3
   },
   "file_extension": ".py",
   "mimetype": "text/x-python",
   "name": "python",
   "nbconvert_exporter": "python",
   "pygments_lexer": "ipython3",
   "version": "3.7.4"
  }
 },
 "nbformat": 4,
 "nbformat_minor": 2
}
