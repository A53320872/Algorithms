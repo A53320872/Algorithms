{
 "cells": [
  {
   "cell_type": "code",
   "execution_count": null,
   "metadata": {},
   "outputs": [],
   "source": [
    "二分查找问题， 需要注意边界值."
   ]
  },
  {
   "cell_type": "code",
   "execution_count": null,
   "metadata": {},
   "outputs": [],
   "source": [
    "class Solution(object):\n",
    "    def findMedianSortedArrays(self, A, B):\n",
    "        \"\"\"\n",
    "        :type nums1: List[int]\n",
    "        :type nums2: List[int]\n",
    "        :rtype: float\n",
    "        \"\"\"\n",
    "        m, n = len(A), len(B)\n",
    "        if m > n:\n",
    "            A, B, m, n = B, A, n, m\n",
    "            \n",
    "        lo, hi = 0, m\n",
    "        while lo <= hi:\n",
    "            i = (lo + hi) / 2\n",
    "            j = (m + n + 1) / 2 - i \n",
    "            \n",
    "            if i < m and B[j-1] > A[i]:\n",
    "                lo = i + 1\n",
    "            elif i > 0 and A[i-1] > B[j]:\n",
    "                hi = i - 1\n",
    "            else:\n",
    "                # find max of left\n",
    "                if i == 0: max_left = B[j-1]\n",
    "                elif j == 0: max_left = A[i-1]\n",
    "                else: max_left = max(B[j-1], A[i-1])\n",
    "                \n",
    "                # if odd, result in left\n",
    "                if (m+n) % 2 == 1:\n",
    "                    return max_left\n",
    "                \n",
    "                # find max of right\n",
    "                if i == m: min_right = B[j]\n",
    "                elif j == n: min_right = A[i]\n",
    "                else: min_right = min(B[j], A[i])\n",
    "                    \n",
    "                return (max_left + min_right) / 2.0\n",
    "                    \n",
    "            \n",
    "            \n",
    "       "
   ]
  },
  {
   "cell_type": "code",
   "execution_count": null,
   "metadata": {},
   "outputs": [],
   "source": []
  }
 ],
 "metadata": {
  "kernelspec": {
   "display_name": "Python 3",
   "language": "python",
   "name": "python3"
  },
  "language_info": {
   "codemirror_mode": {
    "name": "ipython",
    "version": 3
   },
   "file_extension": ".py",
   "mimetype": "text/x-python",
   "name": "python",
   "nbconvert_exporter": "python",
   "pygments_lexer": "ipython3",
   "version": "3.7.4"
  }
 },
 "nbformat": 4,
 "nbformat_minor": 2
}
