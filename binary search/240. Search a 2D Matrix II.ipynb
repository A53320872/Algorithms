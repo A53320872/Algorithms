{
 "cells": [
  {
   "cell_type": "markdown",
   "metadata": {},
   "source": [
    "binary search problem\n",
    "https://leetcode.com/problems/search-a-2d-matrix-ii/submissions/"
   ]
  },
  {
   "cell_type": "code",
   "execution_count": 1,
   "metadata": {},
   "outputs": [],
   "source": [
    "grid = [[1,4,7,11,15],\n",
    "        [2,5,8,12,19],\n",
    "        [3,6,9,16,22],\n",
    "        [10,13,14,17,24],\n",
    "        [18,21,23,26,30]]\n",
    "target = 5"
   ]
  },
  {
   "cell_type": "code",
   "execution_count": 2,
   "metadata": {},
   "outputs": [],
   "source": [
    "# Method1: binary-search for each row\n",
    "class Solution(object):\n",
    "    def searchMatrix(self, matrix, target):\n",
    "        \"\"\"\n",
    "        :type matrix: List[List[int]]\n",
    "        :type target: int\n",
    "        :rtype: bool\n",
    "        \"\"\"\n",
    "        def standardBinarySearch(nums, target):\n",
    "            if len(nums) == 0: return False\n",
    "            if len(nums) == 1: return True if nums[0] == target else False\n",
    "            lo, hi = 0, len(nums)-1\n",
    "            if nums[lo] == target or nums[hi] == target: return True\n",
    "            while lo < hi:\n",
    "                mid = (lo + hi) // 2\n",
    "                if nums[mid] < target:\n",
    "                    lo = mid+1\n",
    "                elif nums[mid] > target:\n",
    "                    hi = mid\n",
    "                else:\n",
    "                    return True\n",
    "            return False\n",
    "        res = set([])\n",
    "        for row in matrix:\n",
    "            res.add(standardBinarySearch(row, target))\n",
    "        return True if True in res else False"
   ]
  },
  {
   "cell_type": "code",
   "execution_count": 3,
   "metadata": {},
   "outputs": [],
   "source": [
    "# Method2: from left-bottom\n",
    "class Solution(object):\n",
    "    def searchMatrix(self, matrix, target):\n",
    "        \"\"\"\n",
    "        :type matrix: List[List[int]]\n",
    "        :type target: int\n",
    "        :rtype: bool\n",
    "        \"\"\"\n",
    "        if matrix == [] or matrix == [[]]: return False\n",
    "        m, n = len(matrix), len(matrix[0])\n",
    "        \n",
    "        i, j = m-1, 0\n",
    "        \n",
    "        while i >= 0 and i < m and j >= 0 and j < n:\n",
    "            if matrix[i][j] < target:\n",
    "                j += 1\n",
    "            elif matrix[i][j] > target:\n",
    "                i -= 1\n",
    "            else:\n",
    "                return True\n",
    "        return False"
   ]
  }
 ],
 "metadata": {
  "kernelspec": {
   "display_name": "Python 3",
   "language": "python",
   "name": "python3"
  },
  "language_info": {
   "codemirror_mode": {
    "name": "ipython",
    "version": 3
   },
   "file_extension": ".py",
   "mimetype": "text/x-python",
   "name": "python",
   "nbconvert_exporter": "python",
   "pygments_lexer": "ipython3",
   "version": "3.7.4"
  }
 },
 "nbformat": 4,
 "nbformat_minor": 2
}
