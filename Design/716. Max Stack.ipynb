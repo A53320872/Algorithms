{
 "cells": [
  {
   "cell_type": "code",
   "execution_count": null,
   "metadata": {},
   "outputs": [],
   "source": [
    "比较简单的design"
   ]
  },
  {
   "cell_type": "code",
   "execution_count": null,
   "metadata": {},
   "outputs": [],
   "source": [
    "class MaxStack(object):\n",
    "\n",
    "    def __init__(self):\n",
    "        \"\"\"\n",
    "        initialize your data structure here.\n",
    "        \"\"\"\n",
    "        self.stack = []\n",
    "        \n",
    "\n",
    "    def push(self, x):\n",
    "        \"\"\"\n",
    "        :type x: int\n",
    "        :rtype: None\n",
    "        \"\"\"\n",
    "        self.stack.append(x)\n",
    "\n",
    "    def pop(self):\n",
    "        \"\"\"\n",
    "        :rtype: int\n",
    "        \"\"\"\n",
    "        return self.stack.pop()\n",
    "\n",
    "    def top(self):\n",
    "        \"\"\"\n",
    "        :rtype: int\n",
    "        \"\"\"\n",
    "        return self.stack[-1]\n",
    "\n",
    "    def peekMax(self):\n",
    "        \"\"\"\n",
    "        :rtype: int\n",
    "        \"\"\"\n",
    "        return max(self.stack)\n",
    "\n",
    "    def popMax(self):\n",
    "        \"\"\"\n",
    "        :rtype: int\n",
    "        \"\"\"\n",
    "        max_ = max(self.stack)\n",
    "        i = len(self.stack)-1\n",
    "        while i >= 0:\n",
    "            if self.stack[i] == max_: \n",
    "                self.stack.pop(i)\n",
    "                return max_\n",
    "            i -= 1\n",
    "        \n",
    "\n",
    "\n",
    "# Your MaxStack object will be instantiated and called as such:\n",
    "# obj = MaxStack()\n",
    "# obj.push(x)\n",
    "# param_2 = obj.pop()\n",
    "# param_3 = obj.top()\n",
    "# param_4 = obj.peekMax()\n",
    "# param_5 = obj.popMax()"
   ]
  }
 ],
 "metadata": {
  "kernelspec": {
   "display_name": "Python 3",
   "language": "python",
   "name": "python3"
  },
  "language_info": {
   "codemirror_mode": {
    "name": "ipython",
    "version": 3
   },
   "file_extension": ".py",
   "mimetype": "text/x-python",
   "name": "python",
   "nbconvert_exporter": "python",
   "pygments_lexer": "ipython3",
   "version": "3.7.4"
  }
 },
 "nbformat": 4,
 "nbformat_minor": 2
}
