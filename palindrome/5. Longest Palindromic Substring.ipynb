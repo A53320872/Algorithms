{
 "cells": [
  {
   "cell_type": "markdown",
   "metadata": {},
   "source": [
    "dp solution, from length 1 to n, using memorization"
   ]
  },
  {
   "cell_type": "code",
   "execution_count": null,
   "metadata": {},
   "outputs": [],
   "source": [
    "class Solution(object):\n",
    "    def longestPalindrome(self, s):\n",
    "        \"\"\"\n",
    "        :type s: str\n",
    "        :rtype: str\n",
    "        \"\"\"\n",
    "        if len(set(s)) <= 1: return s \n",
    "        res, maxLen, mem, k = \"\", 0, set([\"\"]), 0\n",
    "        while k < len(s):\n",
    "            i = 0\n",
    "            while i + k < len(s):\n",
    "                if s[i] == s[i + k] and s[i + 1: i + k] in mem:\n",
    "                    mem.add(s[i: i + k + 1])\n",
    "                    if k + 1 > maxLen: res, maxLen = s[i: i + k + 1], k + 1 \n",
    "                i += 1\n",
    "            k += 1\n",
    "        return res"
   ]
  }
 ],
 "metadata": {
  "kernelspec": {
   "display_name": "Python 3",
   "language": "python",
   "name": "python3"
  },
  "language_info": {
   "codemirror_mode": {
    "name": "ipython",
    "version": 3
   },
   "file_extension": ".py",
   "mimetype": "text/x-python",
   "name": "python",
   "nbconvert_exporter": "python",
   "pygments_lexer": "ipython3",
   "version": "3.7.4"
  }
 },
 "nbformat": 4,
 "nbformat_minor": 2
}
