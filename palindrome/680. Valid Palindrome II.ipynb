{
 "cells": [
  {
   "cell_type": "code",
   "execution_count": null,
   "metadata": {},
   "outputs": [],
   "source": [
    "class Solution(object):\n",
    "    def validPalindrome(self, s):\n",
    "        \"\"\"\n",
    "        Two pointer from start and end\n",
    "        \n",
    "        :type s: str\n",
    "        :rtype: bool\n",
    "        \"\"\"\n",
    "        i, j = 0, len(s) - 1\n",
    "        while i <= j:\n",
    "            if s[i] == s[j]: \n",
    "                i += 1\n",
    "                j -= 1\n",
    "            else:\n",
    "                break\n",
    "        # left wrong\n",
    "        left_sign = True\n",
    "        l, r = i + 1, j\n",
    "        while l <= r:\n",
    "            if s[l] == s[r]: \n",
    "                l += 1\n",
    "                r -= 1\n",
    "            else:\n",
    "                left_sign = False\n",
    "                break\n",
    "        # right wrong\n",
    "        right_sign = True\n",
    "        l, r = i, j-1\n",
    "        while l <= r:\n",
    "            if s[l] == s[r]: \n",
    "                l += 1\n",
    "                r -= 1\n",
    "            else:\n",
    "                right_sign = False\n",
    "                break\n",
    "        return True if left_sign == True or right_sign == True else False                        "
   ]
  }
 ],
 "metadata": {
  "kernelspec": {
   "display_name": "Python 3",
   "language": "python",
   "name": "python3"
  },
  "language_info": {
   "codemirror_mode": {
    "name": "ipython",
    "version": 3
   },
   "file_extension": ".py",
   "mimetype": "text/x-python",
   "name": "python",
   "nbconvert_exporter": "python",
   "pygments_lexer": "ipython3",
   "version": "3.7.4"
  }
 },
 "nbformat": 4,
 "nbformat_minor": 2
}
