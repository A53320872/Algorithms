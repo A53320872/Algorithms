{
 "cells": [
  {
   "cell_type": "markdown",
   "metadata": {},
   "source": [
    "滑动窗口基本思路：\n",
    "\n",
    "初始化左右边框（可均设置为第一个位置）\n",
    "\n",
    "while （右边框未到头时）：\n",
    "    当不满足条件时扩大窗口\n",
    "    当满足条件时：\n",
    "        while （左边框未超过右边框） 且 （一直满足条件）时：\n",
    "            缩小窗口，直到不满足条件\n",
    "            左边框移动一步\n",
    "    右边框移动一步\n",
    "    \n",
    "返回结果\n",
    "    \n"
   ]
  },
  {
   "cell_type": "code",
   "execution_count": 6,
   "metadata": {},
   "outputs": [
    {
     "name": "stdout",
     "output_type": "stream",
     "text": [
      "{1, 2, 3, 4}\n"
     ]
    }
   ],
   "source": [
    "a = set([1,2,3,4])\n",
    "print(a)\n",
    "# for e in a:\n",
    "#     print(e)"
   ]
  },
  {
   "cell_type": "code",
   "execution_count": null,
   "metadata": {},
   "outputs": [],
   "source": []
  },
  {
   "cell_type": "code",
   "execution_count": null,
   "metadata": {},
   "outputs": [],
   "source": [
    "class Solution(object):\n",
    "    def minWindow(self, s, t):\n",
    "        \"\"\"\n",
    "        :type s: str\n",
    "        :type t: str\n",
    "        :rtype: str\n",
    "        \"\"\"\n",
    "        \n",
    "        l,r = 0, 0\n",
    "        \n",
    "        t_map = Counter(t)\n",
    "        cur_map = {}\n",
    "        \n",
    "        ct = len(t_map)\n",
    "        c = 0\n",
    "        \n",
    "        mini = 1000000\n",
    "        record = (l,r)\n",
    "        \n",
    "        while r < len(s):\n",
    "            char = s[r]\n",
    "            if char not in cur_map:\n",
    "                cur_map[char] = 1\n",
    "            else:\n",
    "                cur_map[char] += 1\n",
    "            \n",
    "            if char in t_map and cur_map[char] == t_map[char]:\n",
    "                c += 1\n",
    "            \n",
    "            while l <= r and c == ct:\n",
    "                \n",
    "                if r-l+1 < mini:\n",
    "                    mini = r-l+1\n",
    "                    record = (l,r)\n",
    "                \n",
    "                char = s[l]\n",
    "                if char not in cur_map:\n",
    "                    cur_map[cahr] = 1\n",
    "                else:\n",
    "                    cur_map[char] -= 1\n",
    "                   \n",
    "                if char in t_map and cur_map[char] < t_map[char]:\n",
    "                    c -= 1\n",
    "                \n",
    "                l += 1\n",
    "                \n",
    "            r += 1\n",
    "        print(mini, record)\n",
    "        return \"\" if mini == 1000000 else s[record[0]:record[1]+1]\n",
    "                    \n",
    "            \n"
   ]
  }
 ],
 "metadata": {
  "kernelspec": {
   "display_name": "Python 3",
   "language": "python",
   "name": "python3"
  },
  "language_info": {
   "codemirror_mode": {
    "name": "ipython",
    "version": 3
   },
   "file_extension": ".py",
   "mimetype": "text/x-python",
   "name": "python",
   "nbconvert_exporter": "python",
   "pygments_lexer": "ipython3",
   "version": "3.7.4"
  }
 },
 "nbformat": 4,
 "nbformat_minor": 2
}
