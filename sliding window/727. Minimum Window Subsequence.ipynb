{
 "cells": [
  {
   "cell_type": "code",
   "execution_count": null,
   "metadata": {},
   "outputs": [],
   "source": [
    "727. Minimum Window Subsequence\n",
    "https://leetcode.com/problems/minimum-window-subsequence/"
   ]
  },
  {
   "cell_type": "code",
   "execution_count": null,
   "metadata": {},
   "outputs": [],
   "source": [
    "class Solution(object):\n",
    "    def minWindow(self, S, T):\n",
    "        \"\"\"\n",
    "        :type S: str\n",
    "        :type T: str\n",
    "        :rtype: str\n",
    "        \"\"\"\n",
    "        minSub = S\n",
    "        i, j = 0, 0\n",
    "        while i < len(S):\n",
    "            if S[i] == T[j]:\n",
    "                j += 1\n",
    "                if j >= len(T):\n",
    "                    end = i+1\n",
    "                    j -= 1\n",
    "                    while j >= 0:\n",
    "                        if S[i] == T[j]:\n",
    "                            j -= 1\n",
    "                        i -= 1\n",
    "                    i += 1\n",
    "                    sub = S[i:end]\n",
    "                    if len(sub) < len(minSub):\n",
    "                        minSub = sub\n",
    "                    j = 0\n",
    "            i += 1\n",
    "        return minSub if minSub != S else \"\"\n",
    "        \n",
    "            "
   ]
  }
 ],
 "metadata": {
  "kernelspec": {
   "display_name": "Python 3",
   "language": "python",
   "name": "python3"
  },
  "language_info": {
   "codemirror_mode": {
    "name": "ipython",
    "version": 3
   },
   "file_extension": ".py",
   "mimetype": "text/x-python",
   "name": "python",
   "nbconvert_exporter": "python",
   "pygments_lexer": "ipython3",
   "version": "3.7.4"
  }
 },
 "nbformat": 4,
 "nbformat_minor": 2
}
