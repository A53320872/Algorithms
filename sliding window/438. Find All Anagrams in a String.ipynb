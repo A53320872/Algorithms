{
 "cells": [
  {
   "cell_type": "code",
   "execution_count": null,
   "metadata": {},
   "outputs": [],
   "source": [
    "# regular slidingWindow + HashMap \n",
    "class Solution(object):\n",
    "    def findAnagrams(self, s, p):\n",
    "        \"\"\"\n",
    "        :type s: str\n",
    "        :type p: str\n",
    "        :rtype: List[int]\n",
    "        \"\"\"\n",
    "        if len(s) < len(p): return []\n",
    "        \n",
    "        p_counter = Counter(p)\n",
    "        s_counter = Counter(s[:len(p)])\n",
    "        \n",
    "        res = []\n",
    "            \n",
    "        lo, hi = 0, len(p)\n",
    "        \n",
    "        while hi < len(s):\n",
    "            if p_counter == s_counter:\n",
    "                res.append(lo)\n",
    "            s_counter[s[hi]] += 1\n",
    "            s_counter[s[lo]] -= 1\n",
    "            if s_counter[s[lo]] == 0: \n",
    "                del s_counter[s[lo]]  \n",
    "            hi += 1\n",
    "            lo += 1\n",
    "            \n",
    "        if p_counter == s_counter:\n",
    "                res.append(lo)\n",
    "        return res\n",
    "                \n",
    "        \n",
    "        "
   ]
  }
 ],
 "metadata": {
  "kernelspec": {
   "display_name": "Python 3",
   "language": "python",
   "name": "python3"
  },
  "language_info": {
   "codemirror_mode": {
    "name": "ipython",
    "version": 3
   },
   "file_extension": ".py",
   "mimetype": "text/x-python",
   "name": "python",
   "nbconvert_exporter": "python",
   "pygments_lexer": "ipython3",
   "version": "3.7.4"
  }
 },
 "nbformat": 4,
 "nbformat_minor": 2
}
