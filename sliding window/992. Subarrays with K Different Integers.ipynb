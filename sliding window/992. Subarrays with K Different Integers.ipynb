{
 "cells": [
  {
   "cell_type": "markdown",
   "metadata": {},
   "source": [
    "Using \"at most K distinct\" as a sub problem to solve this problem\n",
    "https://leetcode.com/discuss/interview-question/370157"
   ]
  },
  {
   "cell_type": "code",
   "execution_count": null,
   "metadata": {},
   "outputs": [],
   "source": [
    "class Solution(object):\n",
    "    def subarraysWithKDistinct(self, A, K):\n",
    "        \"\"\"\n",
    "        :type A: List[int]\n",
    "        :type K: int\n",
    "        :rtype: int\n",
    "        \"\"\"\n",
    "        def atMost(A, K):\n",
    "            l, dict, res = 0, {}, []\n",
    "            for r, e in enumerate(A):\n",
    "                if e not in dict:\n",
    "                    dict[e] = 1\n",
    "                else:\n",
    "                    dict[e] += 1\n",
    "                while len(dict) > K:\n",
    "                    dict[A[l]] -= 1\n",
    "                    if dict[A[l]] == 0: del dict[A[l]]\n",
    "                    l += 1\n",
    "                res.append(r-l+1)\n",
    "            return res\n",
    "    \n",
    "        return sum(atMost(A,K)) - sum(atMost(A, K-1))\n",
    "    "
   ]
  }
 ],
 "metadata": {
  "kernelspec": {
   "display_name": "Python 3",
   "language": "python",
   "name": "python3"
  },
  "language_info": {
   "codemirror_mode": {
    "name": "ipython",
    "version": 3
   },
   "file_extension": ".py",
   "mimetype": "text/x-python",
   "name": "python",
   "nbconvert_exporter": "python",
   "pygments_lexer": "ipython3",
   "version": "3.7.4"
  }
 },
 "nbformat": 4,
 "nbformat_minor": 2
}
