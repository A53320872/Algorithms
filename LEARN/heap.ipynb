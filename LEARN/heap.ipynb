{
 "cells": [
  {
   "cell_type": "code",
   "execution_count": 319,
   "metadata": {},
   "outputs": [],
   "source": [
    "# 交换函数。用于下沉、建立堆、删除元素，堆排序。\n",
    "# 将堆中的两个元素交换位置。\n",
    "def swap(tree, i, max_):\n",
    "    tmp = tree[i]\n",
    "    tree[i] = tree[max_]\n",
    "    tree[max_] = tmp\n",
    "    \n",
    "# 下沉函数。用于建立堆，删除元素，堆排序。\n",
    "# 判断父母节点和子节点们的大小关系，并递归调用下沉函数直到满足堆稳定条件。\n",
    "def downMove(tree, n, i):\n",
    "    # 出口条件\n",
    "    if i >= n: return\n",
    "    left_child = 2 * i + 1\n",
    "    right_child = 2 * i + 2\n",
    "    max_ = i\n",
    "    # 子节点需存在\n",
    "    if left_child < n and tree[left_child] > tree[max_]:\n",
    "        max_ = left_child\n",
    "    if right_child < n and tree[right_child] > tree[max_]:\n",
    "        max_ = right_child\n",
    "    # 若已经稳定，无需递归调用下沉函数\n",
    "    if max_ != i:\n",
    "        swap(tree, i, max_)\n",
    "        downMove(tree, n, max_)\n",
    "        \n",
    "# 上浮函数。用于删除元素，插入元素。\n",
    "# 判断当前节点和父母节点的大小关系，并递归调用上浮函数直到满足堆稳定条件。\n",
    "def upMove(heap, n, i):\n",
    "    # 出口条件\n",
    "    if i <= 0: return\n",
    "    parent = (i-1) // 2\n",
    "    if heap[i] > heap[parent]:\n",
    "        swap(heap, i, parent)\n",
    "    upMove(heap, n, parent)\n",
    "\n",
    "# 建立堆。\n",
    "# 从最后一个节点的父母节点出发，倒序依次调用下沉函数，直到根节点。\n",
    "def buildHeap(tree, n):\n",
    "    last_node = n - 1\n",
    "    parent = (last_node - 1) // 2\n",
    "    i = parent\n",
    "    while i >= 0:\n",
    "        downMove(tree, n, i)\n",
    "        i -= 1\n",
    "    return tree\n",
    "\n",
    "# 插入节点。\n",
    "# 将元素放在堆末尾，并调用上浮函数直到堆稳定。\n",
    "def heapInsert(heap, n, item):\n",
    "    heap.append(item)\n",
    "    upMove(heap, n+1, n)\n",
    "    return heap\n",
    "\n",
    "# 删除节点。\n",
    "# 给定任意位置i处的节点，判断是否大于父母节点，若大于，调用上浮函数。反之调用下沉函数，直到堆稳定。\n",
    "def heapDelete(heap, n, i):\n",
    "    swap(heap, i, n-1)\n",
    "    parent = (i-1) // 2\n",
    "    # 分情况\n",
    "    if heap[i] < heap[parent] or i == 0:\n",
    "        # 注意这里必须是n-1才能忽略最后一个节点\n",
    "        downMove(heap, n-1, i)\n",
    "    else:\n",
    "        # 同上\n",
    "        upMove(heap, n-1, i)\n",
    "    # 删除最后一个节点\n",
    "    heap.pop()\n",
    "\n",
    "# 堆排序\n",
    "# 由于根节点是最大元素，调用n次下沉函数可得到降序数列。\n",
    "# 这里不需要执行真正的删除操作，只需实时更改堆的长度i即可。\n",
    "def heapSort(tree, n):\n",
    "    heap = buildHeap(tree, n)\n",
    "    result = []\n",
    "    i = n-1\n",
    "    while i >= 0:\n",
    "        result.append(tree[0])\n",
    "        swap(tree, 0, i)\n",
    "        downMove(tree, i, 0)\n",
    "        i -= 1\n",
    "    return result\n",
    "    \n",
    "    "
   ]
  },
  {
   "cell_type": "code",
   "execution_count": 320,
   "metadata": {},
   "outputs": [
    {
     "data": {
      "text/plain": [
       "[4, 5, 3, 1, 10, 2, 11, 6, 9, 8, 7]"
      ]
     },
     "execution_count": 320,
     "metadata": {},
     "output_type": "execute_result"
    }
   ],
   "source": [
    "tree = [4,5,3,1,10,2,11,6,9,8,7]\n",
    "n = len(tree)\n",
    "tree"
   ]
  },
  {
   "cell_type": "code",
   "execution_count": 321,
   "metadata": {},
   "outputs": [
    {
     "data": {
      "text/plain": [
       "[11, 10, 4, 9, 8, 2, 3, 6, 1, 5, 7]"
      ]
     },
     "execution_count": 321,
     "metadata": {},
     "output_type": "execute_result"
    }
   ],
   "source": [
    "buildHeap(tree, n)"
   ]
  },
  {
   "cell_type": "code",
   "execution_count": 322,
   "metadata": {},
   "outputs": [],
   "source": [
    "heapDelete(tree, n, 0)"
   ]
  },
  {
   "cell_type": "code",
   "execution_count": 313,
   "metadata": {},
   "outputs": [
    {
     "data": {
      "text/plain": [
       "[10, 9, 4, 7, 8, 2, 3, 6, 1, 5]"
      ]
     },
     "execution_count": 313,
     "metadata": {},
     "output_type": "execute_result"
    }
   ],
   "source": [
    "tree"
   ]
  },
  {
   "cell_type": "code",
   "execution_count": null,
   "metadata": {},
   "outputs": [],
   "source": []
  },
  {
   "cell_type": "code",
   "execution_count": 323,
   "metadata": {},
   "outputs": [
    {
     "data": {
      "text/plain": [
       "[3, -1, -3]"
      ]
     },
     "execution_count": 323,
     "metadata": {},
     "output_type": "execute_result"
    }
   ],
   "source": [
    "heap = [3,-1,-3]\n",
    "n = len(heap)\n",
    "heap"
   ]
  },
  {
   "cell_type": "code",
   "execution_count": 324,
   "metadata": {},
   "outputs": [
    {
     "data": {
      "text/plain": [
       "[3, -1, -3]"
      ]
     },
     "execution_count": 324,
     "metadata": {},
     "output_type": "execute_result"
    }
   ],
   "source": [
    "heapSort(heap, n)"
   ]
  },
  {
   "cell_type": "code",
   "execution_count": 315,
   "metadata": {},
   "outputs": [
    {
     "data": {
      "text/plain": [
       "[-1, -3]"
      ]
     },
     "execution_count": 315,
     "metadata": {},
     "output_type": "execute_result"
    }
   ],
   "source": [
    "heapDelete(heap, n, 0)\n",
    "heap"
   ]
  },
  {
   "cell_type": "code",
   "execution_count": 316,
   "metadata": {},
   "outputs": [
    {
     "data": {
      "text/plain": [
       "[9517, 9367, 3960, 3453, 8736, 3815, 3016, 3175, -247, 7018]"
      ]
     },
     "execution_count": 316,
     "metadata": {},
     "output_type": "execute_result"
    }
   ],
   "source": [
    "new = [9517, 9367, 3960, 3453, 8736, 3815, 3016, 3175, -247, 7018]\n",
    "new"
   ]
  },
  {
   "cell_type": "code",
   "execution_count": 317,
   "metadata": {},
   "outputs": [
    {
     "data": {
      "text/plain": [
       "[9517, 9367, 3960, 3453, 8736, 3815, 3016, 3175, -247, 7018]"
      ]
     },
     "execution_count": 317,
     "metadata": {},
     "output_type": "execute_result"
    }
   ],
   "source": [
    "buildHeap(new, 10)\n",
    "new"
   ]
  },
  {
   "cell_type": "code",
   "execution_count": 318,
   "metadata": {},
   "outputs": [
    {
     "data": {
      "text/plain": [
       "[9367, 8736, 3960, 3453, 7018, 3815, 3016, 3175, -247]"
      ]
     },
     "execution_count": 318,
     "metadata": {},
     "output_type": "execute_result"
    }
   ],
   "source": [
    "heapDelete(new, 10, 0)\n",
    "new"
   ]
  },
  {
   "cell_type": "code",
   "execution_count": null,
   "metadata": {},
   "outputs": [],
   "source": []
  }
 ],
 "metadata": {
  "kernelspec": {
   "display_name": "Python 3",
   "language": "python",
   "name": "python3"
  },
  "language_info": {
   "codemirror_mode": {
    "name": "ipython",
    "version": 3
   },
   "file_extension": ".py",
   "mimetype": "text/x-python",
   "name": "python",
   "nbconvert_exporter": "python",
   "pygments_lexer": "ipython3",
   "version": "3.7.4"
  }
 },
 "nbformat": 4,
 "nbformat_minor": 2
}
